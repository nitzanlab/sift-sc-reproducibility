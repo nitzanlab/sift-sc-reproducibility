{
 "cells": [
  {
   "cell_type": "markdown",
   "metadata": {
    "id": "-O4CpGSQ0RP4",
    "pycharm": {
     "name": "#%% md\n"
    }
   },
   "source": [
    "# `Seurat`: removal of cell cycle from virtual tumor in mESC \n",
    "\n",
    "Here we apply `Seurat` to remove the cell cycle from a mESC dataset with 600 cell cycle genes and 1000 other gene expressions doubled for 40% cells.\n",
    "\n",
    "** data taken from [Cyclum](https://github.com/KChen-lab/Cyclum/tree/master/old-version/data/mESC)."
   ]
  },
  {
   "cell_type": "code",
   "execution_count": null,
   "metadata": {
    "colab": {
     "base_uri": "https://localhost:8080/"
    },
    "executionInfo": {
     "elapsed": 7539,
     "status": "ok",
     "timestamp": 1636477717430,
     "user": {
      "displayName": "Zoe Piran",
      "photoUrl": "https://lh3.googleusercontent.com/a/default-user=s64",
      "userId": "13101267939164712474"
     },
     "user_tz": -120
    },
    "id": "Mbk4y_kc5r9_",
    "outputId": "de576665-2b4b-40f3-e1b1-6666a087f1a6",
    "pycharm": {
     "name": "#%%\n"
    }
   },
   "outputs": [],
   "source": [
    "%load_ext rpy2.ipython\n"
   ]
  },
  {
   "cell_type": "code",
   "execution_count": null,
   "metadata": {},
   "outputs": [],
   "source": [
    "from pathlib import Path\n",
    "import sys\n",
    "\n",
    "import rpy2.robjects as ro\n",
    "from rpy2.robjects.packages import importr\n",
    "from rpy2.robjects import pandas2ri\n",
    "\n",
    "from rpy2.robjects.conversion import localconverter"
   ]
  },
  {
   "cell_type": "code",
   "execution_count": null,
   "metadata": {},
   "outputs": [],
   "source": [
    "sys.path.append(\"../../\")\n",
    "from paths import DATA_DIR"
   ]
  },
  {
   "cell_type": "code",
   "execution_count": null,
   "metadata": {},
   "outputs": [],
   "source": [
    "input_file_name_mask = str(DATA_DIR) + '/cellcycle_virtualtumor/perturbed-mesc-tpm-linear'\n",
    "output_file_rds = str(DATA_DIR) + '/cellcycle_virtualtumor/mesc_seurat.rds'\n",
    "output_file_seurat = str(DATA_DIR) + '/cellcycle_virtualtumor/mesc_seurat.h5Seurat'"
   ]
  },
  {
   "cell_type": "code",
   "execution_count": null,
   "metadata": {},
   "outputs": [],
   "source": [
    "%%R\n",
    "library(Seurat)\n",
    "library(biomaRt)"
   ]
  },
  {
   "cell_type": "markdown",
   "metadata": {
    "id": "WLdNH2lM50VZ",
    "pycharm": {
     "name": "#%% md\n"
    }
   },
   "source": [
    "## helper fucntions"
   ]
  },
  {
   "cell_type": "code",
   "execution_count": null,
   "metadata": {
    "executionInfo": {
     "elapsed": 285,
     "status": "ok",
     "timestamp": 1636477755768,
     "user": {
      "displayName": "Zoe Piran",
      "photoUrl": "https://lh3.googleusercontent.com/a/default-user=s64",
      "userId": "13101267939164712474"
     },
     "user_tz": -120
    },
    "id": "MYkhd0YQ0zJP",
    "pycharm": {
     "name": "#%%\n"
    }
   },
   "outputs": [],
   "source": [
    "%%R\n",
    "read_binary <- function(file_name){\n",
    "  f <- file(file_name, 'rb')\n",
    "  n_row <- readBin(f, what=\"int\", n=1, size=4, endian=\"little\")\n",
    "  n_col <- readBin(f, what=\"int\", n=1, size=4, endian=\"little\")\n",
    "  m2 <- matrix(nrow=n_col, ncol=n_row, \n",
    "               data=readBin(f, what=\"double\", n=n_row*n_col, size=8, endian=\"little\"))\n",
    "  close(f)\n",
    "  return(t(m2))\n",
    "}\n",
    "\n",
    "read_binary_with_name <- function(file_name_mask){\n",
    "  m <- read_binary(paste(file_name_mask, \"-value.bin\", sep=\"\"))\n",
    "  all_names <- scan(paste(file_name_mask, \"-name.txt\", sep=\"\"), what=\"character\", sep = \"\\t\")\n",
    "  rownames(m) <- all_names[1:nrow(m)]\n",
    "  colnames(m) <- all_names[-1:-nrow(m)]\n",
    "  return(m)\n",
    "}"
   ]
  },
  {
   "cell_type": "markdown",
   "metadata": {
    "id": "-hpa--7P52Ww",
    "pycharm": {
     "name": "#%% md\n"
    }
   },
   "source": [
    "## Load and pre-process data"
   ]
  },
  {
   "cell_type": "code",
   "execution_count": null,
   "metadata": {
    "colab": {
     "base_uri": "https://localhost:8080/"
    },
    "executionInfo": {
     "elapsed": 7942,
     "status": "ok",
     "timestamp": 1636481664475,
     "user": {
      "displayName": "Zoe Piran",
      "photoUrl": "https://lh3.googleusercontent.com/a/default-user=s64",
      "userId": "13101267939164712474"
     },
     "user_tz": -120
    },
    "id": "NpGoBvIj3wjN",
    "outputId": "b81cb282-b899-48bb-87e8-5b2944e7a602",
    "pycharm": {
     "name": "#%%\n"
    }
   },
   "outputs": [],
   "source": [
    "%%R -i input_file_name_mask\n",
    "\n",
    "exp.mat <- read_binary_with_name(input_file_name_mask)\n",
    "\n",
    "mesc <- CreateSeuratObject(counts = t(exp.mat))\n",
    "mesc <- NormalizeData(mesc)\n",
    "mesc <- FindVariableFeatures(mesc, selection.method = \"vst\")\n",
    "mesc <- ScaleData(mesc, features = rownames(mesc))\n",
    "mesc <- RunPCA(mesc, features = VariableFeatures(mesc), ndims.print = 6:10, nfeatures.print = 10)"
   ]
  },
  {
   "cell_type": "code",
   "execution_count": null,
   "metadata": {
    "colab": {
     "base_uri": "https://localhost:8080/",
     "height": 437
    },
    "executionInfo": {
     "elapsed": 968,
     "status": "ok",
     "timestamp": 1636481669202,
     "user": {
      "displayName": "Zoe Piran",
      "photoUrl": "https://lh3.googleusercontent.com/a/default-user=s64",
      "userId": "13101267939164712474"
     },
     "user_tz": -120
    },
    "id": "5sw4Mp99JFvn",
    "outputId": "fb80c3f3-aaca-4d9f-8e9d-dd3d45cbd046",
    "pycharm": {
     "name": "#%%\n"
    }
   },
   "outputs": [],
   "source": [
    "%%R \n",
    "DimHeatmap(mesc, dims = c(8, 10))"
   ]
  },
  {
   "cell_type": "code",
   "execution_count": null,
   "metadata": {
    "colab": {
     "base_uri": "https://localhost:8080/",
     "height": 412
    },
    "executionInfo": {
     "elapsed": 265,
     "status": "ok",
     "timestamp": 1636481672311,
     "user": {
      "displayName": "Zoe Piran",
      "photoUrl": "https://lh3.googleusercontent.com/a/default-user=s64",
      "userId": "13101267939164712474"
     },
     "user_tz": -120
    },
    "id": "YSOr1bGxKqTS",
    "outputId": "2eba5ec0-6903-4d07-c50f-0c548fcedb41",
    "pycharm": {
     "name": "#%%\n"
    }
   },
   "outputs": [],
   "source": [
    "%%R \n",
    "head(mesc)"
   ]
  },
  {
   "cell_type": "markdown",
   "metadata": {
    "id": "1dkoXPeS6jqA",
    "pycharm": {
     "name": "#%% md\n"
    }
   },
   "source": [
    "## Assign Cell-Cycle Scores"
   ]
  },
  {
   "cell_type": "code",
   "execution_count": null,
   "metadata": {
    "executionInfo": {
     "elapsed": 257,
     "status": "ok",
     "timestamp": 1636481675229,
     "user": {
      "displayName": "Zoe Piran",
      "photoUrl": "https://lh3.googleusercontent.com/a/default-user=s64",
      "userId": "13101267939164712474"
     },
     "user_tz": -120
    },
    "id": "eyiBRzja-cCP",
    "pycharm": {
     "name": "#%%\n"
    }
   },
   "outputs": [],
   "source": [
    "%%R \n",
    "library(stringr)"
   ]
  },
  {
   "cell_type": "code",
   "execution_count": null,
   "metadata": {
    "colab": {
     "base_uri": "https://localhost:8080/",
     "height": 356
    },
    "executionInfo": {
     "elapsed": 571,
     "status": "ok",
     "timestamp": 1636481753011,
     "user": {
      "displayName": "Zoe Piran",
      "photoUrl": "https://lh3.googleusercontent.com/a/default-user=s64",
      "userId": "13101267939164712474"
     },
     "user_tz": -120
    },
    "id": "p1IaSq-36kgu",
    "outputId": "d507a23e-bcad-46f8-c009-d475b0ac5c69",
    "pycharm": {
     "name": "#%%\n"
    }
   },
   "outputs": [],
   "source": [
    "%%R \n",
    "# A list of cell cycle markers, from Tirosh et al, 2015, is loaded with Seurat.  We can\n",
    "# segregate this list into markers of G2/M phase and markers of S phase\n",
    "m.s.genes <- str_to_title(tolower(cc.genes.updated.2019$s.genes)) \n",
    "m.g2m.genes <- str_to_title(tolower(cc.genes.updated.2019$g2m.genes)) \n",
    "\n",
    "mesc <- CellCycleScoring(mesc, s.features = m.s.genes, g2m.features = m.g2m.genes, set.ident = TRUE)\n",
    "\n",
    "# view cell cycle scores and phase assignments\n",
    "head(mesc[[]])"
   ]
  },
  {
   "cell_type": "code",
   "execution_count": null,
   "metadata": {
    "colab": {
     "base_uri": "https://localhost:8080/",
     "height": 1000
    },
    "executionInfo": {
     "elapsed": 743,
     "status": "ok",
     "timestamp": 1636481774876,
     "user": {
      "displayName": "Zoe Piran",
      "photoUrl": "https://lh3.googleusercontent.com/a/default-user=s64",
      "userId": "13101267939164712474"
     },
     "user_tz": -120
    },
    "id": "wm9xdZvP9TPk",
    "outputId": "d00d92cf-60d8-48bb-d41e-7706d305c822",
    "pycharm": {
     "name": "#%%\n"
    }
   },
   "outputs": [],
   "source": [
    "%%R \n",
    "mesc <- RunPCA(mesc, features = c(m.s.genes, m.g2m.genes))\n",
    "DimPlot(mesc)"
   ]
  },
  {
   "cell_type": "markdown",
   "metadata": {
    "id": "MjJBZjhWKQbE",
    "pycharm": {
     "name": "#%% md\n"
    }
   },
   "source": [
    "## Regress out cell cycle scores during data scaling"
   ]
  },
  {
   "cell_type": "code",
   "execution_count": null,
   "metadata": {
    "colab": {
     "base_uri": "https://localhost:8080/"
    },
    "executionInfo": {
     "elapsed": 795816,
     "status": "ok",
     "timestamp": 1636482574259,
     "user": {
      "displayName": "Zoe Piran",
      "photoUrl": "https://lh3.googleusercontent.com/a/default-user=s64",
      "userId": "13101267939164712474"
     },
     "user_tz": -120
    },
    "id": "TsgLfGHlKaSE",
    "outputId": "241924fe-8df2-4be0-c87d-52315f026e19",
    "pycharm": {
     "name": "#%%\n"
    }
   },
   "outputs": [],
   "source": [
    "%%R -i output_file_rds\n",
    "mesc <- ScaleData(mesc, vars.to.regress = c(\"S.Score\", \"G2M.Score\"), features = rownames(mesc))\n",
    "mesc <- RunPCA(mesc, features = VariableFeatures(mesc), nfeatures.print = 10)\n",
    "saveRDS(mesc, file = output_file_rds)"
   ]
  },
  {
   "cell_type": "code",
   "execution_count": null,
   "metadata": {
    "colab": {
     "base_uri": "https://localhost:8080/"
    },
    "executionInfo": {
     "elapsed": 588,
     "status": "ok",
     "timestamp": 1636482655950,
     "user": {
      "displayName": "Zoe Piran",
      "photoUrl": "https://lh3.googleusercontent.com/a/default-user=s64",
      "userId": "13101267939164712474"
     },
     "user_tz": -120
    },
    "id": "1oeSfXS7Xmpw",
    "outputId": "32d26d45-f1c8-4097-8718-3622c6ff8c21",
    "pycharm": {
     "name": "#%%\n"
    }
   },
   "outputs": [],
   "source": [
    "%%R -i output_file_seurat\n",
    "library(SeuratDisk)\n",
    "SaveH5Seurat(mesc, filename = output_file_seurat)\n",
    "Convert(output_file_seurat, dest = \"h5ad\")"
   ]
  },
  {
   "cell_type": "code",
   "execution_count": null,
   "metadata": {
    "colab": {
     "base_uri": "https://localhost:8080/",
     "height": 1000
    },
    "executionInfo": {
     "elapsed": 404,
     "status": "ok",
     "timestamp": 1636482674165,
     "user": {
      "displayName": "Zoe Piran",
      "photoUrl": "https://lh3.googleusercontent.com/a/default-user=s64",
      "userId": "13101267939164712474"
     },
     "user_tz": -120
    },
    "id": "zg3ssN3KCVpb",
    "outputId": "40ed14d4-8638-46da-c9f4-2fc8246929a8",
    "pycharm": {
     "name": "#%%\n"
    }
   },
   "outputs": [],
   "source": [
    "%%R \n",
    "mesc <- RunPCA(mesc, features = c(m.s.genes, m.g2m.genes))\n",
    "DimPlot(mesc)"
   ]
  }
 ],
 "metadata": {
  "colab": {
   "collapsed_sections": [],
   "name": "R-mESC_simulated-Seurat-train.ipynb",
   "provenance": [
    {
     "file_id": "1KqeklKK-SQ8279Y4ydNJHw7akKOJg3D7",
     "timestamp": 1632738657254
    }
   ]
  },
  "kernelspec": {
   "display_name": "venvsift",
   "language": "python",
   "name": "venvsift"
  },
  "language_info": {
   "codemirror_mode": {
    "name": "ipython",
    "version": 3
   },
   "file_extension": ".py",
   "mimetype": "text/x-python",
   "name": "python",
   "nbconvert_exporter": "python",
   "pygments_lexer": "ipython3",
   "version": "3.7.3"
  }
 },
 "nbformat": 4,
 "nbformat_minor": 4
}
