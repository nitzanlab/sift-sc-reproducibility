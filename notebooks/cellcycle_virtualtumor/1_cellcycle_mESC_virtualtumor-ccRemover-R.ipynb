{
 "cells": [
  {
   "cell_type": "markdown",
   "metadata": {
    "id": "LJSJ0GqQlqyk"
   },
   "source": [
    "# `ccRemover`: removal of cell cycle from virtual tumor in mESC  \n",
    "\n",
    "Here we apply `ccRemover` to remove the cell cycle from a mESC dataset with 600 cell cycle genes and 1000 other gene expressions doubled for 40% cells.\n",
    "Data taken from [Cyclum](https://github.com/KChen-lab/Cyclum/tree/master/old-version/data/mESC)."
   ]
  },
  {
   "cell_type": "markdown",
   "metadata": {
    "id": "gvrP2B5tlqym"
   },
   "source": [
    "## Import necessary packages"
   ]
  },
  {
   "cell_type": "code",
   "execution_count": null,
   "metadata": {},
   "outputs": [],
   "source": [
    "%load_ext rpy2.ipython"
   ]
  },
  {
   "cell_type": "code",
   "execution_count": null,
   "metadata": {},
   "outputs": [],
   "source": [
    "from pathlib import Path\n",
    "from cyclum import writer\n",
    "import sys\n",
    "\n",
    "import pandas as pd\n",
    "import numpy as np\n",
    "import sklearn as skl\n",
    "import sklearn.preprocessing\n",
    "import scprep as scp\n",
    "import scanpy as sc\n",
    "import seaborn as sns\n",
    "import matplotlib as mpl\n",
    "import matplotlib.pyplot as plt\n",
    "\n",
    "import rpy2.robjects as ro\n",
    "from rpy2.robjects.packages import importr\n",
    "from rpy2.robjects import pandas2ri\n",
    "\n",
    "from rpy2.robjects.conversion import localconverter\n"
   ]
  },
  {
   "cell_type": "code",
   "execution_count": null,
   "metadata": {},
   "outputs": [],
   "source": [
    "sys.path.append(\"../../\")\n",
    "from paths import DATA_DIR"
   ]
  },
  {
   "cell_type": "code",
   "execution_count": null,
   "metadata": {},
   "outputs": [],
   "source": [
    "input_file_mask = str(DATA_DIR) + '/cellcycle_virtualtumor/perturbed-mesc-tpm-linear'\n",
    "output_file_rds = str(DATA_DIR) + '/cellcycle_virtualtumor/ccremover_xhat.rds'\n",
    "output_file_h5ad = str(DATA_DIR) + '/cellcycle_virtualtumor/ccremover_adata.h5ad'"
   ]
  },
  {
   "cell_type": "code",
   "execution_count": null,
   "metadata": {},
   "outputs": [],
   "source": [
    "%%R\n",
    "knitr::opts_chunk$set(echo = TRUE)\n",
    "library(ccRemover)\n",
    "set.seed(10)\n"
   ]
  },
  {
   "cell_type": "markdown",
   "metadata": {},
   "source": [
    "## Load data"
   ]
  },
  {
   "cell_type": "code",
   "execution_count": null,
   "metadata": {},
   "outputs": [],
   "source": [
    "def preprocess(input_file_mask):\n",
    "    \"\"\"\n",
    "    Read in data and perform log transform (log2(x+1)), centering (mean = 1) and scaling (sd = 1).\n",
    "    \"\"\"\n",
    "    tpm = writer.read_df_from_binary(input_file_mask)\n",
    "    sttpm = pd.DataFrame(data=skl.preprocessing.scale(np.log2(tpm.values + 1)), \n",
    "                         index=tpm.index, columns=tpm.columns, \n",
    "                         dtype=float)\n",
    "    \n",
    "    label = pd.read_csv(input_file_mask + '-label.csv', sep=\"\\t\", index_col=0)\n",
    "    return sttpm, label\n",
    "\n",
    "sttpm, label = preprocess(input_file_mask)\n"
   ]
  },
  {
   "cell_type": "code",
   "execution_count": null,
   "metadata": {},
   "outputs": [],
   "source": [
    "%%R\n",
    "read_binary <- function(file_name){\n",
    "  f <- file(file_name, 'rb')\n",
    "  n_row <- readBin(f, what=\"int\", n=1, size=4, endian=\"little\")\n",
    "  n_col <- readBin(f, what=\"int\", n=1, size=4, endian=\"little\")\n",
    "  m2 <- matrix(nrow=n_col, ncol=n_row, \n",
    "               data=readBin(f, what=\"double\", n=n_row*n_col, size=8, endian=\"little\"))\n",
    "  close(f)\n",
    "  return(t(m2))\n",
    "}\n",
    "\n",
    "read_binary_with_name <- function(file_name_mask){\n",
    "  m <- read_binary(paste(file_name_mask, \"-value.bin\", sep=\"\"))\n",
    "  all_names <- scan(paste(file_name_mask, \"-name.txt\", sep=\"\"), what=\"character\", sep = \"\\t\")\n",
    "  rownames(m) <- all_names[1:nrow(m)]\n",
    "  colnames(m) <- all_names[-1:-nrow(m)]\n",
    "  return(m)\n",
    "}"
   ]
  },
  {
   "cell_type": "code",
   "execution_count": null,
   "metadata": {},
   "outputs": [],
   "source": [
    "%%R -i input_file_mask\n",
    "\n",
    "exp.mat <- read_binary_with_name(input_file_mask)\n"
   ]
  },
  {
   "cell_type": "code",
   "execution_count": null,
   "metadata": {},
   "outputs": [],
   "source": [
    "%%R\n",
    "rdata <- t(scale(log2(exp.mat+1)))\n",
    "\n",
    "rdata[is.nan(rdata)] <- 0"
   ]
  },
  {
   "cell_type": "code",
   "execution_count": null,
   "metadata": {},
   "outputs": [],
   "source": [
    "%%R -o rdata\n",
    "head(rdata[,1:5])"
   ]
  },
  {
   "cell_type": "markdown",
   "metadata": {},
   "source": [
    "## the cell cycle genes"
   ]
  },
  {
   "cell_type": "code",
   "execution_count": null,
   "metadata": {},
   "outputs": [],
   "source": [
    "%%R\n",
    "\n",
    "gene_names <- rownames(rdata)\n",
    "cell_cycle_gene_indices <- gene_indexer(gene_names, species = \"mouse\")\n",
    "head(gene_names[cell_cycle_gene_indices])"
   ]
  },
  {
   "cell_type": "markdown",
   "metadata": {},
   "source": [
    "[-] create the vector which will be used in the main ccRemover procedure."
   ]
  },
  {
   "cell_type": "code",
   "execution_count": null,
   "metadata": {},
   "outputs": [],
   "source": [
    "%%R\n",
    "\n",
    "if_cc <- rep(FALSE,nrow(rdata)) \n",
    "if_cc[cell_cycle_gene_indices] <- TRUE\n",
    "summary(if_cc)"
   ]
  },
  {
   "cell_type": "code",
   "execution_count": null,
   "metadata": {},
   "outputs": [],
   "source": [
    "%%R\n",
    "\n",
    "dat <- list(x=rdata, if_cc=if_cc)"
   ]
  },
  {
   "cell_type": "markdown",
   "metadata": {},
   "source": [
    "## ccRemover"
   ]
  },
  {
   "cell_type": "code",
   "execution_count": null,
   "metadata": {},
   "outputs": [],
   "source": [
    "%%R\n",
    "xhat <- ccRemover(dat, bar=TRUE)"
   ]
  },
  {
   "cell_type": "code",
   "execution_count": null,
   "metadata": {},
   "outputs": [],
   "source": [
    "%%R -i output_file_rds\n",
    "saveRDS(xhat, file = output_file_rds)"
   ]
  },
  {
   "cell_type": "code",
   "execution_count": null,
   "metadata": {},
   "outputs": [],
   "source": [
    "%%R -o xhat\n",
    "\n",
    "dim(xhat)"
   ]
  },
  {
   "cell_type": "code",
   "execution_count": null,
   "metadata": {},
   "outputs": [],
   "source": [
    "label = label.astype(\"category\")\n",
    "\n",
    "sttpm_adata_ccremover = sc.AnnData(sttpm)\n",
    "sttpm_adata_ccremover.X = xhat.T\n",
    "sttpm_adata_ccremover.obs['subcluster'] = label['subcluster']\n",
    "sttpm_adata_ccremover.obs['stage'] = label['stage']\n",
    "sttpm_adata_ccremover.rename_categories('stage', ['G1', 'G2M', 'S'])"
   ]
  },
  {
   "cell_type": "code",
   "execution_count": null,
   "metadata": {},
   "outputs": [],
   "source": [
    "sttpm_adata_ccremover.write(output_file_h5ad)"
   ]
  },
  {
   "cell_type": "code",
   "execution_count": null,
   "metadata": {},
   "outputs": [],
   "source": []
  }
 ],
 "metadata": {
  "accelerator": "GPU",
  "colab": {
   "collapsed_sections": [],
   "name": "cyclum_mESC_simulated.ipynb",
   "provenance": [
    {
     "file_id": "1e5Dr0xVIieZxYaxm36nNuFDgpJMN-4Ls",
     "timestamp": 1626594531279
    }
   ]
  },
  "kernelspec": {
   "display_name": "venvsift",
   "language": "python",
   "name": "venvsift"
  },
  "language_info": {
   "codemirror_mode": {
    "name": "ipython",
    "version": 3
   },
   "file_extension": ".py",
   "mimetype": "text/x-python",
   "name": "python",
   "nbconvert_exporter": "python",
   "pygments_lexer": "ipython3",
   "version": "3.7.3"
  }
 },
 "nbformat": 4,
 "nbformat_minor": 4
}
