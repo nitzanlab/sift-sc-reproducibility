{
 "cells": [
  {
   "cell_type": "markdown",
   "metadata": {
    "id": "LJSJ0GqQlqyk"
   },
   "source": [
    "# `Cyclum`: removal of cell cycle from virtual tumor in mESC \n",
    "\n",
    "\n",
    "Here we apply `Cyclum` to remove the cell cycle from a mESC dataset with 600 cell cycle genes and 1000 other gene expressions doubled for 40% cells.\n",
    "\n",
    "** data taken from [Cyclum](https://github.com/KChen-lab/Cyclum/tree/master/old-version/data/mESC)."
   ]
  },
  {
   "cell_type": "markdown",
   "metadata": {
    "id": "gvrP2B5tlqym"
   },
   "source": [
    "## Import necessary packages"
   ]
  },
  {
   "cell_type": "code",
   "execution_count": null,
   "metadata": {
    "executionInfo": {
     "elapsed": 2,
     "status": "ok",
     "timestamp": 1627198569258,
     "user": {
      "displayName": "Zoe Piran",
      "photoUrl": "",
      "userId": "13101267939164712474"
     },
     "user_tz": -180
    },
    "id": "UrY4PPvblqyn"
   },
   "outputs": [],
   "source": [
    "%load_ext autoreload\n",
    "%autoreload 1"
   ]
  },
  {
   "cell_type": "code",
   "execution_count": null,
   "metadata": {
    "executionInfo": {
     "elapsed": 2583,
     "status": "ok",
     "timestamp": 1627198574632,
     "user": {
      "displayName": "Zoe Piran",
      "photoUrl": "",
      "userId": "13101267939164712474"
     },
     "user_tz": -180
    },
    "id": "kMLIgFRxlqyn"
   },
   "outputs": [],
   "source": [
    "import pandas as pd\n",
    "import numpy as np\n",
    "import pickle as pkl\n",
    "import sklearn as skl\n",
    "import sklearn.preprocessing\n",
    "import scprep as scp\n",
    "import scanpy as sc\n",
    "import seaborn as sns\n",
    "import matplotlib as mpl\n",
    "import matplotlib.pyplot as plt\n",
    "\n",
    "import sys\n"
   ]
  },
  {
   "cell_type": "code",
   "execution_count": null,
   "metadata": {},
   "outputs": [],
   "source": [
    "sys.path.append(\"../../\")\n",
    "from paths import DATA_DIR"
   ]
  },
  {
   "cell_type": "code",
   "execution_count": null,
   "metadata": {},
   "outputs": [],
   "source": [
    "import cyclum.tuning\n",
    "import cyclum.models\n",
    "from cyclum import writer\n",
    "import cyclum.illustration\n",
    "import cyclum.evaluation"
   ]
  },
  {
   "cell_type": "markdown",
   "metadata": {
    "id": "AQXwa_Nwlqyo"
   },
   "source": [
    "Warning information from TensorFlow may occur. It doesn't matter."
   ]
  },
  {
   "cell_type": "markdown",
   "metadata": {
    "id": "qy_EUT9ixV2v"
   },
   "source": [
    "## Helper functions"
   ]
  },
  {
   "cell_type": "code",
   "execution_count": null,
   "metadata": {
    "executionInfo": {
     "elapsed": 9,
     "status": "ok",
     "timestamp": 1627198577149,
     "user": {
      "displayName": "Zoe Piran",
      "photoUrl": "",
      "userId": "13101267939164712474"
     },
     "user_tz": -180
    },
    "id": "fUrzB2-TxSUE"
   },
   "outputs": [],
   "source": [
    "def compute_projection_op(Temb):\n",
    "    \"\"\"\n",
    "    Temb: probablistic embedding (cells X locations)\n",
    "    \"\"\"\n",
    "    pl = Temb / Temb.sum(axis=1)[:, np.newaxis] # noramalize each cell across locis p(l|c)\n",
    "    pc = Temb / Temb.sum(axis=0) # noramalize each loci across cells p(c|l)\n",
    "    \n",
    "    F = pl.dot(pc.T)\n",
    "    \n",
    "    return F\n",
    "\n",
    "def filter_recons(X, Temb):\n",
    "    \"\"\"\n",
    "    X: input dataset (cells X genes)\n",
    "    Temb: probablistic mapping to embedding manifold (cells X embedding dim)\n",
    "    \"\"\"\n",
    "    pl = Temb / Temb.sum(axis=1)[:, np.newaxis] # noramalize each cell across locis p(l|c)\n",
    "    pc = Temb / Temb.sum(axis=0) # noramalize each loci across cells p(c|l)\n",
    "    proj = pl.dot(pc.T).dot(X)\n",
    "    \n",
    "    Xres_or = (X - proj) # calc residuals\n",
    "    Xres = Xres_or - Xres_or.min(axis=0) # ensure positivity; shift each gene by min\n",
    "    \n",
    "    return Xres, Xres_or, proj\n",
    "\n",
    "def plot_round_distr_color(flat, label, color_dict, fig_name=None):\n",
    "    figure = plt.figure()\n",
    "    ax = figure.subplots(subplot_kw={'projection': 'polar'})\n",
    "    color = [color_dict[l] for l in label]\n",
    "\n",
    "    for x, color in zip(flat, color):\n",
    "        ax.plot([x, x], [1.5, 2], color=color, linewidth=0.5)\n",
    "\n",
    "    xx = []\n",
    "    pp = []\n",
    "    max_p = 0\n",
    "    for l in color_dict:\n",
    "        _ = cyclum.evaluation.periodic_parzen_estimate(flat[label == l], 2 * np.pi)\n",
    "        xx.append(_[0])\n",
    "        pp.append(_[1])\n",
    "        max_p = np.max([np.max(pp[-1]), max_p])\n",
    "    for x, p, l in zip(xx, pp, color_dict):\n",
    "        ax.fill_between(x, p / max_p + 2, 2, color=color_dict[l], alpha=0.5, linewidth=0.0, label=l)\n",
    "    ax.legend(bbox_to_anchor=(1.4, 1.2))\n",
    "    ax.set_yticks([])\n",
    "    plt.tight_layout()\n",
    "\n",
    "    if fig_name is not None:\n",
    "        plt.savefig(fig_name, dpi=300)\n",
    "    return figure, xx\n",
    "\n",
    "def match_genes_idx(sc_gene_names, ref_gene_names):\n",
    "    idx_in_sc = np.array([], dtype='int')\n",
    "    idx_in_ref = np.array([], dtype='int')\n",
    "    for i, gene in enumerate(ref_gene_names):\n",
    "        marker_index = [g for g, v in enumerate(sc_gene_names) if v.upper() == gene.upper()]\n",
    "        if len(marker_index) > 0:\n",
    "            idx_in_sc = np.append(idx_in_sc, marker_index[0])\n",
    "            idx_in_ref = np.append(idx_in_ref, i)\n",
    "    return idx_in_sc, idx_in_ref\n"
   ]
  },
  {
   "cell_type": "markdown",
   "metadata": {
    "id": "7nWi206ulqyp"
   },
   "source": [
    "## Read data\n",
    "Here we have label, so we load both. However, the label is not used until evaluation."
   ]
  },
  {
   "cell_type": "code",
   "execution_count": null,
   "metadata": {
    "executionInfo": {
     "elapsed": 9,
     "status": "ok",
     "timestamp": 1627198577149,
     "user": {
      "displayName": "Zoe Piran",
      "photoUrl": "",
      "userId": "13101267939164712474"
     },
     "user_tz": -180
    },
    "id": "APNTuE-xlqyp"
   },
   "outputs": [],
   "source": [
    "input_file_name_mask = str(DATA_DIR) + '/cellcycle_virtualtumor/perturbed-mesc-tpm-linear'\n",
    "\n",
    "def preprocess(input_file_mask):\n",
    "    \"\"\"\n",
    "    Read in data and perform log transform (log2(x+1)), centering (mean = 1) and scaling (sd = 1).\n",
    "    \"\"\"\n",
    "    tpm = writer.read_df_from_binary(input_file_mask)\n",
    "    sttpm = pd.DataFrame(data=skl.preprocessing.scale(np.log2(tpm.values + 1)), index=tpm.index, columns=tpm.columns)\n",
    "    \n",
    "    label = pd.read_csv(input_file_mask + '-label.csv', sep=\"\\t\", index_col=0)\n",
    "    return sttpm, label\n",
    "\n",
    "sttpm, label = preprocess(input_file_mask)"
   ]
  },
  {
   "cell_type": "markdown",
   "metadata": {
    "id": "vWG2lZ8Slqyq"
   },
   "source": [
    "There is no convention whether cells should be columns or rows. Here we require cells to be rows."
   ]
  },
  {
   "cell_type": "code",
   "execution_count": null,
   "metadata": {
    "colab": {
     "base_uri": "https://localhost:8080/",
     "height": 270
    },
    "executionInfo": {
     "elapsed": 9,
     "status": "ok",
     "timestamp": 1627198577150,
     "user": {
      "displayName": "Zoe Piran",
      "photoUrl": "",
      "userId": "13101267939164712474"
     },
     "user_tz": -180
    },
    "id": "CthLepP-lqyq",
    "outputId": "90b2792f-b870-4241-ca55-b0f487c3dc81"
   },
   "outputs": [],
   "source": [
    "sttpm.head()"
   ]
  },
  {
   "cell_type": "code",
   "execution_count": null,
   "metadata": {
    "colab": {
     "base_uri": "https://localhost:8080/",
     "height": 204
    },
    "executionInfo": {
     "elapsed": 8,
     "status": "ok",
     "timestamp": 1627198577150,
     "user": {
      "displayName": "Zoe Piran",
      "photoUrl": "",
      "userId": "13101267939164712474"
     },
     "user_tz": -180
    },
    "id": "1LQPWQAzlqyq",
    "outputId": "e60b479d-24b4-4591-8779-6a79008c7d9b"
   },
   "outputs": [],
   "source": [
    "label.head()"
   ]
  },
  {
   "cell_type": "markdown",
   "metadata": {
    "id": "3ncxBQPxlqyr"
   },
   "source": [
    "## Set up the model, fit and predict\n"
   ]
  },
  {
   "cell_type": "code",
   "execution_count": null,
   "metadata": {
    "colab": {
     "base_uri": "https://localhost:8080/"
    },
    "executionInfo": {
     "elapsed": 63352,
     "status": "ok",
     "timestamp": 1627198640495,
     "user": {
      "displayName": "Zoe Piran",
      "photoUrl": "",
      "userId": "13101267939164712474"
     },
     "user_tz": -180
    },
    "id": "yj5wThfqlqyr",
    "outputId": "34630ec4-c16c-48df-dec8-5acf9f8b896f"
   },
   "outputs": [],
   "source": [
    "model = cyclum.tuning.CyclumAutoTune(sttpm.values, max_linear_dims=3, \n",
    "                                     epochs=500, rate=2e-4, verbose=100,\n",
    "                                     encoder_width=[40, 20])"
   ]
  },
  {
   "cell_type": "code",
   "execution_count": null,
   "metadata": {
    "colab": {
     "base_uri": "https://localhost:8080/",
     "height": 925
    },
    "executionInfo": {
     "elapsed": 24,
     "status": "ok",
     "timestamp": 1627198640496,
     "user": {
      "displayName": "Zoe Piran",
      "photoUrl": "",
      "userId": "13101267939164712474"
     },
     "user_tz": -180
    },
    "id": "iECKTzj3m0vo",
    "outputId": "fda48df0-01ff-4a5a-a878-2cb624e359c6"
   },
   "outputs": [],
   "source": [
    "model.show_elbow()\n",
    "pass\n",
    "model.model.summary()"
   ]
  },
  {
   "cell_type": "code",
   "execution_count": null,
   "metadata": {
    "colab": {
     "base_uri": "https://localhost:8080/"
    },
    "executionInfo": {
     "elapsed": 44503,
     "status": "ok",
     "timestamp": 1627198684994,
     "user": {
      "displayName": "Zoe Piran",
      "photoUrl": "",
      "userId": "13101267939164712474"
     },
     "user_tz": -180
    },
    "id": "QyjmusUrlqyr",
    "outputId": "d842a194-af95-467a-8d75-8dd18cc9c0f9"
   },
   "outputs": [],
   "source": [
    "model.train(sttpm.values, epochs=800, verbose=100, rate=2e-4)"
   ]
  },
  {
   "cell_type": "code",
   "execution_count": null,
   "metadata": {
    "colab": {
     "base_uri": "https://localhost:8080/"
    },
    "executionInfo": {
     "elapsed": 15,
     "status": "ok",
     "timestamp": 1627198684995,
     "user": {
      "displayName": "Zoe Piran",
      "photoUrl": "",
      "userId": "13101267939164712474"
     },
     "user_tz": -180
    },
    "id": "RmaxuFvkm9V_",
    "outputId": "98a35ea1-bf1b-4f8b-bb59-9cd9e37ee9dc"
   },
   "outputs": [],
   "source": [
    "## predictions \n",
    "pseudotime = model.predict_pseudotime(sttpm.values)\n",
    "weights = model.get_weight()\n",
    "rotation = weights[[-1,-2], :]\n",
    "\n",
    "\n",
    "z = weights[-2, :] + 1j * weights[-1, :]\n",
    "arg = np.angle(z)\n",
    "mag = np.abs(z)\n",
    "\n",
    "weights.shape"
   ]
  },
  {
   "cell_type": "code",
   "execution_count": null,
   "metadata": {},
   "outputs": [],
   "source": [
    "## save predictions\n",
    "np.savez_compressed(DATA_DIR /'predictions', pseudotime=pseudotime, weights=weights, rotation=rotation)"
   ]
  },
  {
   "cell_type": "markdown",
   "metadata": {
    "id": "XWhJx0oAlqyr"
   },
   "source": [
    "## Illustrations\n",
    "We illustrate the results on a circle, to show its circular nature. \n",
    "There is virtually no start and end of the circle.\n",
    "Red, green and blue represents G0/G1, S and G2/M phase respectively.\n",
    "The inner lines represents single cells. The cells spread across the\n",
    "The areas outside"
   ]
  },
  {
   "cell_type": "code",
   "execution_count": null,
   "metadata": {
    "executionInfo": {
     "elapsed": 10,
     "status": "ok",
     "timestamp": 1627198457029,
     "user": {
      "displayName": "Zoe Piran",
      "photoUrl": "",
      "userId": "13101267939164712474"
     },
     "user_tz": -180
    },
    "id": "B_2ycsrYlqys"
   },
   "outputs": [],
   "source": [
    "%aimport cyclum.illustration"
   ]
  },
  {
   "cell_type": "code",
   "execution_count": null,
   "metadata": {
    "colab": {
     "base_uri": "https://localhost:8080/",
     "height": 296
    },
    "executionInfo": {
     "elapsed": 1422,
     "status": "ok",
     "timestamp": 1627198866053,
     "user": {
      "displayName": "Zoe Piran",
      "photoUrl": "",
      "userId": "13101267939164712474"
     },
     "user_tz": -180
    },
    "id": "4XdI3EOplqys",
    "outputId": "f369eef2-be59-4dfe-b6a1-4cd4695c64a6"
   },
   "outputs": [],
   "source": [
    "color_map = {'stage': {\"g0/g1\": \"red\", \"s\": \"green\", \"g2/m\": \"blue\"},\n",
    "                 'subcluster': {\"intact\": \"cyan\", \"perturbed\": \"violet\"}}\n",
    "# cyclum.illustration.plot_round_distr_color(pseudotime, label['stage'], color_map['stage'])\n",
    "plot_round_distr_color(pseudotime[:, 0], label['stage'], color_map['stage'])\n",
    "pass"
   ]
  },
  {
   "cell_type": "markdown",
   "metadata": {
    "id": "1nf1pyawlqys"
   },
   "source": [
    "## Subclone analysis\n",
    "\n",
    "The data corrected by cyclum shows better separation of two subclones in the tsne plot."
   ]
  },
  {
   "cell_type": "code",
   "execution_count": null,
   "metadata": {
    "executionInfo": {
     "elapsed": 2,
     "status": "ok",
     "timestamp": 1627198198633,
     "user": {
      "displayName": "Zoe Piran",
      "photoUrl": "",
      "userId": "13101267939164712474"
     },
     "user_tz": -180
    },
    "id": "xH3Rmc7-lqys"
   },
   "outputs": [],
   "source": [
    "# cyclum filter\n",
    "sttpm_cycFlt = sttpm - np.concatenate([np.cos(pseudotime), np.sin(pseudotime)], axis=1) @ rotation\n"
   ]
  },
  {
   "cell_type": "code",
   "execution_count": null,
   "metadata": {
    "id": "3TFNaIPpU5an"
   },
   "outputs": [],
   "source": []
  }
 ],
 "metadata": {
  "accelerator": "GPU",
  "colab": {
   "collapsed_sections": [],
   "name": "cyclum_mESC_simulated.ipynb",
   "provenance": [
    {
     "file_id": "1e5Dr0xVIieZxYaxm36nNuFDgpJMN-4Ls",
     "timestamp": 1626594531279
    }
   ]
  },
  "kernelspec": {
   "display_name": "venvsift",
   "language": "python",
   "name": "venvsift"
  },
  "language_info": {
   "codemirror_mode": {
    "name": "ipython",
    "version": 3
   },
   "file_extension": ".py",
   "mimetype": "text/x-python",
   "name": "python",
   "nbconvert_exporter": "python",
   "pygments_lexer": "ipython3",
   "version": "3.7.3"
  }
 },
 "nbformat": 4,
 "nbformat_minor": 4
}
