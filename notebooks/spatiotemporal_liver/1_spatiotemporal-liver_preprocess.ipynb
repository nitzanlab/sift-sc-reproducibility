{
 "cells": [
  {
   "cell_type": "markdown",
   "metadata": {},
   "source": [
    "# preprocess liver gene expression dataset\n",
    "\n",
    "preprocess the data from droin et al [[1]](https://www.nature.com/articles/s42255-020-00323-1) as an `anndata` object with time and spatial location (layer) `.obs` keys.\n",
    "\n",
    "[[1] Droin, Colas, Jakob El Kholtei, Keren Bahar Halpern, Clémence Hurni, Milena Rozenberg, Sapir Muvkadi, Shalev Itzkovitz, and Felix Naef. \"Space-time logic of liver gene expression at sub-lobular scale.\" Nature Metabolism 3, no. 1 (2021): 43-58.](https://www.nature.com/articles/s42255-020-00323-1)"
   ]
  },
  {
   "cell_type": "code",
   "execution_count": null,
   "metadata": {},
   "outputs": [],
   "source": [
    "%load_ext autoreload\n",
    "%autoreload 2"
   ]
  },
  {
   "cell_type": "code",
   "execution_count": null,
   "metadata": {},
   "outputs": [],
   "source": [
    "import copy\n",
    "import time\n",
    "\n",
    "import matplotlib.pyplot as plt\n",
    "import numpy as np\n",
    "import scipy.io\n",
    "import scipy.signal\n",
    "import pandas as pd\n",
    "import scanpy as sc\n",
    "\n",
    "import anndata\n",
    "import re\n",
    "import seaborn as sns"
   ]
  },
  {
   "cell_type": "code",
   "execution_count": null,
   "metadata": {},
   "outputs": [],
   "source": [
    "import scvi"
   ]
  },
  {
   "cell_type": "code",
   "execution_count": null,
   "metadata": {},
   "outputs": [],
   "source": [
    "sys.path.append(\"../../\")\n",
    "from paths import DATA_DIR"
   ]
  },
  {
   "cell_type": "code",
   "execution_count": null,
   "metadata": {},
   "outputs": [],
   "source": [
    "DATA_DIR = str(DATA_DIR) + \"/spatiotemporal_liver\""
   ]
  },
  {
   "cell_type": "markdown",
   "metadata": {},
   "source": [
    "## Utility functions"
   ]
  },
  {
   "cell_type": "code",
   "execution_count": null,
   "metadata": {},
   "outputs": [],
   "source": [
    "def parse_layer(file):\n",
    "    layer_ = []\n",
    "    if not os.path.exists(file):\n",
    "        return -1\n",
    "    df = pd.read_csv(file, delimiter=',' , header=None)\n",
    "    position_= df.to_numpy()\n",
    "    for i, pos in enumerate(position_):\n",
    "        layer_.append(np.argmax(pos))\n",
    "    return layer_\n",
    "\n",
    "def read_sample(file, layers_path = '/content/GSE145197_LAYERS/'):\n",
    "    filename_ = file.split('_')[-1].split('.')[0]\n",
    "    filename_layer = layers_path +filename_ + '_reco.txt'\n",
    "    print(f'parsing {filename_}')\n",
    "    adata = sc.read(file).T\n",
    "    adata.var_names_make_unique()\n",
    "    adata.obs_names_make_unique()\n",
    "    adata.obs['ZT'] = int(re.findall(r'\\d+', filename_)[0])\n",
    "    adata.obs['rep']  = filename_[-1]\n",
    "    layers = parse_layer(filename_layer)\n",
    "    adata.obs['layer'] = layers\n",
    "    \n",
    "    adata.obs['layer_time'] = adata.obs['layer'].astype('str') + '_' + adata.obs['ZT'].astype('str')\n",
    "    \n",
    "    \n",
    "    adata.obs['ZT'] = adata.obs['ZT'].astype('category')\n",
    "    adata.obs['layer'] = adata.obs['layer'].astype('category')\n",
    "    adata.obs['layer_time'] = adata.obs['layer_time'].astype('category')\n",
    "    \n",
    "    return adata\n",
    "\n",
    "def transform_data(x):\n",
    "    return np.log2(x+10**-4)-np.log2(11*10**-5)\n",
    "\n",
    "\n",
    "def train_scvi(adata ,layer=None, batch_key=None, continuous_covariate_keys=None):\n",
    "    if layer is None:\n",
    "        adata.layers[\"counts\"] = adata.X.copy()\n",
    "        layer = \"counts\"\n",
    "    \n",
    "    adata = adata.copy()\n",
    "    scvi.data.setup_anndata(adata, \n",
    "                            layer=layer,\n",
    "                            batch_key=batch_key,\n",
    "                            continuous_covariate_keys=continuous_covariate_keys)\n",
    "    \n",
    "    model = scvi.model.SCVI(adata,  \n",
    "                            n_hidden=128, \n",
    "                            n_layers=2,\n",
    "                            gene_likelihood='nb',\n",
    "                            dispersion='gene-batch'\n",
    "                            )\n",
    "\n",
    "    # MODEL TRAINING\n",
    "    model.train(check_val_every_n_epoch =1, \n",
    "                    use_gpu=True,\n",
    "                    plan_kwargs={'lr':1e-3})\n",
    "\n",
    "    latent = model.get_latent_representation()\n",
    "    adata.obsm['X_scvi'] = latent\n",
    "\n",
    "    sc.pp.neighbors(adata, use_rep='X_scvi')\n",
    "    sc.tl.umap(adata, min_dist=0.3)\n",
    "    return adata"
   ]
  },
  {
   "cell_type": "markdown",
   "metadata": {},
   "source": [
    "## Load data\n",
    "\n",
    "download tarred files:\n",
    "\n",
    "1. [GSE145197_RAW.tar](https://doi.org/10.6084/m9.figshare.26097655.v1)\n",
    "2. [GSE145197_LAYERS.zip](https://doi.org/10.6084/m9.figshare.26097616)"
   ]
  },
  {
   "cell_type": "markdown",
   "metadata": {},
   "source": [
    "### Import"
   ]
  },
  {
   "cell_type": "code",
   "execution_count": null,
   "metadata": {},
   "outputs": [],
   "source": [
    "adatas = []\n",
    "directory = DATA_DIR  + \"/GSE145197_RAW\"\n",
    "for filename in os.listdir(directory):\n",
    "    f = os.path.join(directory, filename)\n",
    "    # checking if it is a file\n",
    "    if os.path.isfile(f):\n",
    "        adata = read_sample(f, layers_path = DATA_DIR  + \"/GSE145197_LAYERS/\")\n",
    "        print(adata)\n",
    "        if len(np.unique(adata.obs[\"layer\"])) > 1:\n",
    "            adatas.append(adata)"
   ]
  },
  {
   "cell_type": "code",
   "execution_count": null,
   "metadata": {},
   "outputs": [],
   "source": [
    "# merge files\n",
    "adata = adatas[0].concatenate(adatas[1:])"
   ]
  },
  {
   "cell_type": "code",
   "execution_count": null,
   "metadata": {},
   "outputs": [],
   "source": [
    "adata.obs['ZT'] = adata.obs['ZT'].astype('category')\n",
    "adata.obs['layer'] = adata.obs['layer'].astype('category')\n",
    "adata.obs['layer_time'] = adata.obs['layer_time'].astype('category')"
   ]
  },
  {
   "cell_type": "code",
   "execution_count": null,
   "metadata": {},
   "outputs": [],
   "source": [
    "adata.var['mt'] = adata.var_names.str.startswith('mt-')\n",
    "adata.var['mup'] = adata.var_names.str.startswith('mup')\n",
    "\n",
    "sc.pp.calculate_qc_metrics(adata, inplace=True,qc_vars=['mt', 'mup'])"
   ]
  },
  {
   "cell_type": "code",
   "execution_count": null,
   "metadata": {},
   "outputs": [],
   "source": [
    "\n",
    "sc.pl.violin(adata, ['n_genes_by_counts', 'total_counts', 'pct_counts_mt', 'pct_counts_mup'],\n",
    "             jitter=0.4, multi_panel=True)\n",
    "\n"
   ]
  },
  {
   "cell_type": "code",
   "execution_count": null,
   "metadata": {},
   "outputs": [],
   "source": [
    "sc.pl.scatter(adata, x='total_counts', y='pct_counts_mt')\n",
    "sc.pl.scatter(adata, x='total_counts', y='n_genes_by_counts')"
   ]
  },
  {
   "cell_type": "code",
   "execution_count": null,
   "metadata": {},
   "outputs": [],
   "source": [
    "sc.pp.filter_genes(adata, min_cells=5)"
   ]
  },
  {
   "cell_type": "code",
   "execution_count": null,
   "metadata": {},
   "outputs": [],
   "source": [
    "adata = adata[adata.obs.pct_counts_mt < 30, :]"
   ]
  },
  {
   "cell_type": "code",
   "execution_count": null,
   "metadata": {},
   "outputs": [],
   "source": [
    "sc.pp.filter_cells(adata, min_genes=500)\n",
    "sc.pp.filter_cells(adata, min_counts=1000)\n",
    "sc.pp.filter_cells(adata, max_counts=6000)"
   ]
  },
  {
   "cell_type": "code",
   "execution_count": null,
   "metadata": {},
   "outputs": [],
   "source": [
    "adata"
   ]
  },
  {
   "cell_type": "code",
   "execution_count": null,
   "metadata": {},
   "outputs": [],
   "source": [
    "adata.layers[\"counts\"] = adata.X"
   ]
  },
  {
   "cell_type": "markdown",
   "metadata": {},
   "source": [
    "Normalize expression levels in each cell were normalized by the sum of all genes excluding mitochondrial and major urinary protein (_Mup_) genes."
   ]
  },
  {
   "cell_type": "code",
   "execution_count": null,
   "metadata": {},
   "outputs": [],
   "source": [
    "adata.X = adata.X / adata.X[:,(~adata.var['mt']) & (~adata.var['mup'])].sum(axis=1)[:, np.newaxis]"
   ]
  },
  {
   "cell_type": "code",
   "execution_count": null,
   "metadata": {},
   "outputs": [],
   "source": [
    "adata.layers[\"normalized\"] = adata.X"
   ]
  },
  {
   "cell_type": "markdown",
   "metadata": {},
   "source": [
    "Log-transform using paper definition"
   ]
  },
  {
   "cell_type": "code",
   "execution_count": null,
   "metadata": {},
   "outputs": [],
   "source": [
    "adata.X = transform_data(adata.X)"
   ]
  },
  {
   "cell_type": "markdown",
   "metadata": {},
   "source": [
    "Filter using paper genes"
   ]
  },
  {
   "cell_type": "code",
   "execution_count": null,
   "metadata": {},
   "outputs": [],
   "source": [
    "genes = np.loadtxt(DATA_DIR + \"genes_list\", dtype=str)\n",
    "adata = adata[:, adata.var_names.isin(genes)]"
   ]
  },
  {
   "cell_type": "code",
   "execution_count": null,
   "metadata": {},
   "outputs": [],
   "source": [
    "adata = adata.copy()"
   ]
  },
  {
   "cell_type": "markdown",
   "metadata": {},
   "source": [
    "## Train `scVI` model"
   ]
  },
  {
   "cell_type": "code",
   "execution_count": null,
   "metadata": {},
   "outputs": [],
   "source": [
    "batch_key=\"rep\""
   ]
  },
  {
   "cell_type": "code",
   "execution_count": null,
   "metadata": {},
   "outputs": [],
   "source": [
    "adata = train_scvi(adata, \n",
    "           layer=\"counts\", \n",
    "           batch_key=batch_key)"
   ]
  },
  {
   "cell_type": "code",
   "execution_count": null,
   "metadata": {},
   "outputs": [],
   "source": [
    "sc.pl.umap(adata, color=\"ZT\")"
   ]
  },
  {
   "cell_type": "code",
   "execution_count": null,
   "metadata": {},
   "outputs": [],
   "source": [
    "sc.pl.umap(adata, color=\"layer\")"
   ]
  },
  {
   "cell_type": "markdown",
   "metadata": {},
   "source": [
    "## Save `sc` data"
   ]
  },
  {
   "cell_type": "code",
   "execution_count": null,
   "metadata": {},
   "outputs": [],
   "source": [
    "adata.write(DATA_DIR + \"adata_sc.h5ad\")"
   ]
  },
  {
   "cell_type": "markdown",
   "metadata": {},
   "source": [
    "## Create reference atlas"
   ]
  },
  {
   "cell_type": "code",
   "execution_count": null,
   "metadata": {},
   "outputs": [],
   "source": [
    "\n",
    "def transform_data(x):\n",
    "    return np.log2(x+10**-4)-np.log2(11*10**-5)\n",
    "\n",
    "def invert_transform(y):\n",
    "    return 2**(y+np.log2(11*10**-5))-10**-4 \n",
    "\n",
    "dic_itz = {}\n",
    "dic_itz_raw = {}\n",
    "dic_struc = {'rep1': ['00A','06A','12A','18A'], 'rep2': ['00B','06B','12B','18B'], 'rep3': ['00C',None,'12C',None]}\n",
    "for key, val in dic_struc.items():\n",
    "    for x in val:\n",
    "        if x is not None:\n",
    "            load_path = DATA_DIR + 'raw/Profiles/ZT'+x+'.mat'\n",
    "            mat = scipy.io.loadmat(load_path)\n",
    "        for name, data, SD in zip(mat['all_genes'], mat['MeanGeneExp'], mat['SE']):\n",
    "            if name[0][0] not in dic_itz_raw:\n",
    "                dic_itz_raw[name[0][0]] = {'rep1' : np.array([]), 'rep1_std' :np.array([]), 'rep2' : np.array([]), 'rep2_std' : np.array([]), 'rep3' : np.array([]), 'rep3_std' :  np.array([])}\n",
    "                dic_itz[name[0][0]] = {'rep1' : np.array([]), 'rep1_std' :np.array([]), 'rep2' : np.array([]), 'rep2_std' : np.array([]), 'rep3' : np.array([]), 'rep3_std' :  np.array([])}\n",
    "            if x is None:\n",
    "                data = [np.nan]*8\n",
    "                SD = [np.nan]*8\n",
    "            if len(dic_itz_raw[name[0][0]][key])>0:\n",
    "                dic_itz_raw[name[0][0]][key] = np.vstack( (dic_itz_raw[name[0][0]][key],np.array(data) ))\n",
    "                dic_itz_raw[name[0][0]][key+'_std']= np.vstack((dic_itz_raw[name[0][0]][key+'_std'],np.array(SD)))\n",
    "                dic_itz[name[0][0]][key]= np.vstack( (dic_itz[name[0][0]][key],transform_data(np.array(data))))\n",
    "                dic_itz[name[0][0]][key+'_std']= np.vstack( (dic_itz[name[0][0]][key+'_std'],transform_data(np.array(SD))))\n",
    "            else:\n",
    "                dic_itz_raw[name[0][0]][key] = np.array(data) \n",
    "                dic_itz_raw[name[0][0]][key+'_std']= np.array(SD)\n",
    "                dic_itz[name[0][0]][key]= transform_data(np.array(data))\n",
    "                dic_itz[name[0][0]][key+'_std']= transform_data(np.array(SD))  \n",
    "        \n",
    "#take transpose everywhere\n",
    "for key in dic_itz:\n",
    "    for key2 in ['rep1' , 'rep1_std', 'rep2', 'rep2_std', 'rep3', 'rep3_std']:\n",
    "        dic_itz[key][key2] = dic_itz[key][key2].T\n",
    "        dic_itz_raw[key][key2] = dic_itz_raw[key][key2].T\n",
    "            \n",
    "        "
   ]
  },
  {
   "cell_type": "code",
   "execution_count": null,
   "metadata": {},
   "outputs": [],
   "source": [
    "l_circadian = ['arntl', 'clock', 'npas2', 'nr1d1', 'nr1d2', 'per1', 'per2', 'cry1', 'cry2', 'dbp', 'tef', 'hlf', \n",
    "               'elovl3', 'rora', 'rorc']\n",
    "l_zonated = ['glul', 'ass1','asl','cyp2f2','cyp1a2','pck1','cyp2e1', 'cdh2','cdh1','cyp7a1','acly', 'alb', \"oat\", \n",
    "             \"aldob\", 'cps1']"
   ]
  },
  {
   "cell_type": "markdown",
   "metadata": {},
   "source": [
    "Look at how the replicate variance evolves with the gene expression\n"
   ]
  },
  {
   "cell_type": "code",
   "execution_count": null,
   "metadata": {},
   "outputs": [],
   "source": [
    "\n",
    "l_names = list(dic_itz.keys())\n",
    "#compute list of variance per time condition and per zone condition and then average\n",
    "l_var = np.array([ np.mean(np.nanvar([dic_itz[gene_name]['rep1'], dic_itz[gene_name]['rep2'],dic_itz[gene_name]['rep3']], axis = 0))/np.nanvar(np.vstack((dic_itz[gene_name]['rep1'], dic_itz[gene_name]['rep2'],dic_itz[gene_name]['rep3']))) for gene_name in l_names])\n",
    "l_var = np.array([x if not np.isnan(x) else 10**-10 for x in l_var ])\n",
    "l_exp_log = [invert_transform(np.nanmax(np.vstack((dic_itz[gene_name]['rep1'], dic_itz[gene_name]['rep2'],dic_itz[gene_name]['rep3']))))  for gene_name in l_names]\n",
    "l_exp = [np.nanmax(np.vstack((dic_itz[gene_name]['rep1'], dic_itz[gene_name]['rep2'],dic_itz[gene_name]['rep3']))) for gene_name in l_names]\n",
    "\n",
    "set_names_kept_2 = set()\n",
    "\n",
    "#scatter plot\n",
    "fig, ax = plt.subplots(figsize=(5,5))\n",
    "plt.scatter(l_exp_log, l_var, s=20, alpha = 1, color = '#34495e')\n",
    "\n",
    "#add reference genes\n",
    "flag_c = True\n",
    "flag_z = True\n",
    "flag_u = True\n",
    "for exp, var,  name in zip(l_exp_log, l_var, l_names):\n",
    "    if name in l_zonated:\n",
    "        if flag_z:\n",
    "            plt.plot(exp, var, markersize = '20', marker = '.', lw = 0, color = \"#F37F30\", label = 'Reference zonated gene')\n",
    "            flag_z = False\n",
    "        else:\n",
    "            plt.plot(exp, var, markersize = '20', marker = '.', lw = 0,color = \"#F37F30\")\n",
    "    elif name in l_circadian:\n",
    "        if flag_c:\n",
    "            plt.plot(exp, var, markersize = '20', marker = '.', lw = 0,color = \"#2178B4\", label = 'Reference rhythmic gene')\n",
    "            flag_c = False\n",
    "        else:\n",
    "            plt.plot(exp, var, markersize = '20', marker = '.', lw = 0,color = \"#2178B4\")\n",
    "    if exp>10**-5 and var<0.5:\n",
    "        set_names_kept_2.add(name)    \n",
    "        \n",
    "\n",
    "plt.xlim([10**-7,10**-1])\n",
    "plt.ylim([0,1])\n",
    "plt.xscale('log', basex=10)\n",
    "plt.xlabel('Profile maximal expresion', fontsize=15)\n",
    "plt.ylabel('Average relative replicates variance', fontsize=15)\n",
    "plt.legend()\n",
    "plt.axhline(0.5, xmin = 0.335, ls='--', color = \"red\", alpha = 0.8)\n",
    "plt.axvline(10**-5, ymax = 0.5, ls='--', color = \"red\", alpha = 0.8)\n",
    "plt.show()\n",
    "\n",
    "print(len(set_names_kept_2), ' genes remaining after filtering on replicates consistency')"
   ]
  },
  {
   "cell_type": "markdown",
   "metadata": {},
   "source": [
    "Look at the expresssion in the dataset"
   ]
  },
  {
   "cell_type": "code",
   "execution_count": null,
   "metadata": {},
   "outputs": [],
   "source": [
    "#plot the histogram of expression\n",
    "l_exp = [ invert_transform(np.nanmax(np.vstack((dic_itz[gene_name]['rep1'], dic_itz[gene_name]['rep2'],dic_itz[gene_name]['rep3'])))) for gene_name in dic_itz]\n",
    "plt.hist(l_exp, bins=np.logspace(-8,-1, 50))\n",
    "plt.xscale('log', basex=10)\n",
    "plt.xlabel('Maximal expresion')\n",
    "plt.show()"
   ]
  },
  {
   "cell_type": "markdown",
   "metadata": {},
   "source": [
    "Filter dataset"
   ]
  },
  {
   "cell_type": "code",
   "execution_count": null,
   "metadata": {},
   "outputs": [],
   "source": [
    "dic_itz_clean = {}\n",
    "for name in set_names_kept_2:\n",
    "    if 'mup' not in name and 'pisd' not in name:\n",
    "        dic_itz_clean[name] = dic_itz[name]\n",
    "l_names = list(dic_itz_clean.keys())"
   ]
  },
  {
   "cell_type": "code",
   "execution_count": null,
   "metadata": {},
   "outputs": [],
   "source": [
    "current_palette = sns.color_palette('bright')\n",
    "def plot_gene_name(name_gene, dic_itz):\n",
    "    #plt.figure(figsize=(5,5))\n",
    "    ax = plt.subplot(111)\n",
    "    for t in range(4):\n",
    "        plt.plot(np.linspace(1,8,8, endpoint = True), dic_itz[name_gene]['rep1'][:,t], marker=\".\", label = 't='+str(t*6),  color = current_palette[t], lw = 2, alpha = 0.7)\n",
    "        plt.plot(np.linspace(1,8,8, endpoint = True), dic_itz[name_gene]['rep2'][:,t],  marker=\".\",color = current_palette[t], lw = 2,  alpha = 0.7)\n",
    "        plt.plot(np.linspace(1,8,8, endpoint = True), dic_itz[name_gene]['rep3'][:,t],  marker=\".\",color = current_palette[t], lw = 2, alpha = 0.7)\n",
    "    plt.xlabel(\"Layer\")\n",
    "    plt.ylabel(\"Expression\")\n",
    "    plt.xlim([1,8])\n",
    "    plt.legend()\n",
    "    #ax.legend(loc='center left')\n",
    "    plt.legend(bbox_to_anchor=(1.04, 0.5), loc='center left', fontsize=14)\n",
    "    plt.title(str(name_gene))\n",
    "    #plt.savefig('Output/'+str(name_gene)+'.pdf', facecolor = 'white')\n",
    "    plt.show()\n",
    "    plt.close()\n",
    "    \n",
    "for name_gene in l_circadian:\n",
    "    try:\n",
    "        plot_gene_name(name_gene, dic_itz_clean)\n",
    "    except:\n",
    "        pass\n",
    "for name_gene in l_zonated:\n",
    "    try:\n",
    "        plot_gene_name(name_gene, dic_itz_clean)\n",
    "    except:\n",
    "        pass"
   ]
  },
  {
   "cell_type": "code",
   "execution_count": null,
   "metadata": {},
   "outputs": [],
   "source": [
    "load_path = DATA_DIR + 'gene_classification.csv'\n",
    "gene_class_df = pd.read_csv(load_path, header=0, index_col=0, skiprows = lambda x: x in [1])\n"
   ]
  },
  {
   "cell_type": "code",
   "execution_count": null,
   "metadata": {},
   "outputs": [],
   "source": [
    "F = -1\n",
    "S = 0\n",
    "T = 1\n",
    "ST = 2\n",
    "SxT = 3\n",
    "nclass = 4\n",
    "\n",
    "gene_class_name = np.asarray(['S', 'T', 'S+T', 'SxT','F'])\n",
    "dic_itz_clean = {}\n",
    "dic_itz_clean_raw = {}\n",
    "gene_class = []\n",
    "gene_class_ref = np.asarray([-1, 0, 0, 0, 1, 3, 2, 2, 2, 3, 3, 3], dtype=int)\n",
    "for name in gene_class_df.T.columns:\n",
    "    if 'mup' not in name and 'pisd' not in name:\n",
    "        dic_itz_clean[name] = dic_itz[name]\n",
    "        dic_itz_clean_raw[name] = dic_itz_raw[name]\n",
    "        \n",
    "\n",
    "l_names = np.asarray(list(dic_itz_clean.keys()))\n",
    "gene_class = np.asarray([gene_class_ref[np.argmax(gene_class_df.T[name])] for name in l_names])\n",
    "gene_prob = np.asarray([gene_class_df.T[name] for name in l_names])\n",
    "gene_confidence = np.asarray([np.max(gene_class_df.T[name]) for name in l_names])\n",
    "\n"
   ]
  },
  {
   "cell_type": "code",
   "execution_count": null,
   "metadata": {},
   "outputs": [],
   "source": [
    "gene_prob"
   ]
  },
  {
   "cell_type": "code",
   "execution_count": null,
   "metadata": {},
   "outputs": [],
   "source": [
    "types = [\"ZT\", \"layer\", \"layer_time\"]"
   ]
  },
  {
   "cell_type": "code",
   "execution_count": null,
   "metadata": {},
   "outputs": [],
   "source": [
    "dfs = {}\n",
    "for type_ in types:\n",
    "    dfs[type_] = pd.DataFrame(index=adata.obs[type_].cat.categories)"
   ]
  },
  {
   "cell_type": "code",
   "execution_count": null,
   "metadata": {},
   "outputs": [],
   "source": [
    "rep1 = 'rep1'\n",
    "rep2 = 'rep2'\n",
    "for gi, gene in enumerate(l_names):\n",
    "    gene_atlas = (dic_itz_clean[gene][rep1] + dic_itz_clean[gene][rep2]) /2\n",
    "    \n",
    "    dfs[types[-1]] = pd.concat([dfs[types[-1]] , \n",
    "                                pd.DataFrame(gene_atlas.flatten(), \n",
    "                                             columns=[gene], \n",
    "                                             index=adata.obs[types[-1]].cat.categories)],\n",
    "                               axis=1,\n",
    "                              )\n",
    "\n",
    "    for i, type_ in enumerate(types[:-1]):\n",
    "        dfs[type_] =  pd.concat([dfs[type_], \n",
    "                                 pd.DataFrame(np.mean(gene_atlas, axis=i), \n",
    "                                              columns=[gene], index=adata.obs[type_].cat.categories)],\n",
    "                                axis=1,\n",
    "\n",
    "                               )"
   ]
  },
  {
   "cell_type": "code",
   "execution_count": null,
   "metadata": {},
   "outputs": [],
   "source": [
    "adatas = {}\n",
    "for type_ in types:\n",
    "    adatas[type_] = anndata.AnnData(dfs[type_])\n",
    "    adatas[type_].var[\"type\"] = gene_class\n",
    "    adatas[type_].var[\"gene_confidence\"] = gene_confidence\n",
    "    adatas[type_].varm[\"type_prob\"] = gene_prob\n",
    "    "
   ]
  },
  {
   "cell_type": "code",
   "execution_count": null,
   "metadata": {},
   "outputs": [],
   "source": [
    "theta = np.arange(0, 2 * np.pi, 2 * np.pi/len(adata.obs[\"ZT\"].cat.categories.values))\n",
    "\n",
    "x = np.cos(theta)\n",
    "y =  np.sin(theta)\n",
    "t_locations = np.array(list(zip(x, y)))\n",
    "\n",
    "z = adata.obs[\"layer\"].cat.categories.values\n",
    "st_locations = np.array([(zi, x[j], y[j]) for zi in z for j in range(len(adata.obs[\"ZT\"].cat.categories.values))])\n",
    "\n",
    "locations = [t_locations, z, st_locations]"
   ]
  },
  {
   "cell_type": "code",
   "execution_count": null,
   "metadata": {},
   "outputs": [],
   "source": [
    "for i, type_ in enumerate(types):\n",
    "    adatas[type_].obsm[\"spatial\"] = locations[i]\n",
    "    adatas[type_].obsm[\"spatial\"] = adatas[type_].obsm[\"spatial\"].astype(float)"
   ]
  },
  {
   "cell_type": "code",
   "execution_count": null,
   "metadata": {},
   "outputs": [],
   "source": [
    "for key, adata_ in adatas.items():\n",
    "    adata_.write(DATA_DIR + f'adata_{key}.h5ad')"
   ]
  },
  {
   "cell_type": "code",
   "execution_count": null,
   "metadata": {},
   "outputs": [],
   "source": []
  }
 ],
 "metadata": {
  "kernelspec": {
   "display_name": "venvsc",
   "language": "python",
   "name": "venvsc"
  },
  "language_info": {
   "codemirror_mode": {
    "name": "ipython",
    "version": 3
   },
   "file_extension": ".py",
   "mimetype": "text/x-python",
   "name": "python",
   "nbconvert_exporter": "python",
   "pygments_lexer": "ipython3",
   "version": "3.9.7"
  }
 },
 "nbformat": 4,
 "nbformat_minor": 4
}
