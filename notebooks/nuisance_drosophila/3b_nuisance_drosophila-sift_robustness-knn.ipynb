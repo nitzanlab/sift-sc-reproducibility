{
 "cells": [
  {
   "cell_type": "markdown",
   "metadata": {
    "id": "qUt1UXvjIrCw"
   },
   "source": [
    "# Removal of cell-cycle and sex covariates (robustness to hyper-parameters)\n",
    "\n",
    "\n",
    "Given the dataset of Drosophila myoblasts [[1]](https://doi.org/10.7554/eLife.61276) we showcase robustness of `SiFT` to kernel hyper-parameters.\n",
    "\n",
    "[[1] Everetts, N. J., Worley, M. I., Yasutomi, R., Yosef, N., & Hariharan, I. K. (2021). Single-cell transcriptomics of the Drosophila wing disc reveals instructive epithelium-to-myoblast interactions. Elife, 10, e61276.](https://doi.org/10.7554/eLife.61276)\n",
    "\n",
    "## Import packages"
   ]
  },
  {
   "cell_type": "code",
   "execution_count": 1,
   "metadata": {
    "id": "P64GFpOASkVU"
   },
   "outputs": [],
   "source": [
    "%load_ext autoreload\n",
    "%autoreload 2"
   ]
  },
  {
   "cell_type": "code",
   "execution_count": 2,
   "metadata": {
    "id": "GRPMM5fvlt43"
   },
   "outputs": [],
   "source": [
    "import anndata\n",
    "import pandas as pd\n",
    "import scanpy as sc\n",
    "import numpy as np\n",
    "\n",
    "import os\n",
    "import sys\n",
    "import seaborn as sns \n",
    "import matplotlib.pyplot as plt\n",
    "import time\n",
    "from scipy.sparse import issparse\n",
    "\n",
    "# import sift"
   ]
  },
  {
   "cell_type": "code",
   "execution_count": 3,
   "metadata": {},
   "outputs": [],
   "source": [
    "module_path = os.path.dirname(os.path.dirname(os.path.abspath(os.path.join(\"..\"))))\n",
    "\n",
    "sys.path.append(module_path)\n",
    "sys.path.append(os.path.join(module_path, \"sift-sc\"))\n",
    "\n",
    "import sift"
   ]
  },
  {
   "cell_type": "code",
   "execution_count": 4,
   "metadata": {
    "tags": []
   },
   "outputs": [],
   "source": [
    "import warnings\n",
    "warnings.filterwarnings('ignore')"
   ]
  },
  {
   "cell_type": "code",
   "execution_count": 5,
   "metadata": {},
   "outputs": [],
   "source": [
    "sys.path.append(\"../../\")\n",
    "from paths import DATA_DIR, FIG_DIR"
   ]
  },
  {
   "cell_type": "markdown",
   "metadata": {
    "tags": []
   },
   "source": [
    "## Set Parameteres"
   ]
  },
  {
   "cell_type": "code",
   "execution_count": 6,
   "metadata": {},
   "outputs": [],
   "source": [
    "DATA_DIR = DATA_DIR / \"nuisance_drosophila\"\n",
    "FIG_DIR = FIG_DIR / \"nuisance_drosophila\"\n"
   ]
  },
  {
   "cell_type": "code",
   "execution_count": 7,
   "metadata": {
    "id": "gFajhKpKTDSc"
   },
   "outputs": [],
   "source": [
    "fontsize = 25\n",
    "size = 4\n",
    "plt.rcParams[\"svg.fonttype\"] = \"none\"\n",
    "plt.rcParams[\"pdf.fonttype\"] = 42\n",
    "plt.rcParams[\"savefig.transparent\"] = True\n",
    "plt.rcParams[\"figure.figsize\"] = (size, size)\n",
    "\n",
    "plt.rcParams[\"axes.titlesize\"] = 15\n",
    "plt.rcParams[\"axes.titleweight\"] = 500\n",
    "plt.rcParams[\"axes.titlepad\"] = 8.0\n",
    "plt.rcParams[\"axes.labelsize\"] = fontsize\n",
    "plt.rcParams[\"axes.labelweight\"] = 500\n",
    "plt.rcParams[\"axes.linewidth\"] = 1.2\n",
    "plt.rcParams[\"axes.labelpad\"] = 6.0\n",
    "plt.rcParams[\"axes.spines.top\"] = False\n",
    "plt.rcParams[\"axes.spines.right\"] = False\n",
    "\n",
    "\n",
    "plt.rcParams[\"font.size\"] = fontsize\n",
    "# plt.rcParams['font.family'] = 'sans-serif'\n",
    "plt.rcParams['font.sans-serif'] = ['Helvetica', \"Computer Modern Sans Serif\", \"DejaVU Sans\"]\n",
    "plt.rcParams['font.weight'] = 500\n",
    "\n",
    "plt.rcParams['xtick.labelsize'] = fontsize-4\n",
    "plt.rcParams['xtick.minor.size'] = 1.375\n",
    "plt.rcParams['xtick.major.size'] = 2.75\n",
    "plt.rcParams['xtick.major.pad'] = 2\n",
    "plt.rcParams['xtick.minor.pad'] = 2\n",
    "\n",
    "plt.rcParams['ytick.labelsize'] = fontsize-4\n",
    "plt.rcParams['ytick.minor.size'] = 1.375\n",
    "plt.rcParams['ytick.major.size'] = 2.75\n",
    "plt.rcParams['ytick.major.pad'] = 2\n",
    "plt.rcParams['ytick.minor.pad'] = 2\n",
    "\n",
    "plt.rcParams[\"legend.fontsize\"] = fontsize+4\n",
    "plt.rcParams['legend.handlelength'] = 1.4 \n",
    "plt.rcParams['legend.numpoints'] = 1\n",
    "plt.rcParams['legend.scatterpoints'] = 1\n",
    "plt.rcParams['legend.frameon'] = False\n",
    "\n",
    "plt.rcParams['lines.linewidth'] = 1.7\n",
    "\n",
    "DPI = 300\n",
    "\n",
    "sns.set(rc={\"figure.dpi\":300, \"savefig.dpi\":300})\n",
    "plt.style.use(\"seaborn-whitegrid\")\n",
    "sns.set_style(\"whitegrid\", {\"xtick.direction\": \"out\", \"xtick.major.size\": 3.0, \"xtick.minor.size\": 3.0,\n",
    "                            \"ytick.color\": \".15\", \"ytick.direction\": \"out\", \"ytick.major.size\": 3.0, \n",
    "                            \"ytick.minor.size\": 3.0, \"font\": [\"DejaVu Sans\"], \"font.scale\": 1, \n",
    "                            \"legend.frameon\":\"True\"})"
   ]
  },
  {
   "cell_type": "code",
   "execution_count": 8,
   "metadata": {},
   "outputs": [],
   "source": [
    "method_colors = [\"#5C88DAFF\", \"#84BD00FF\", \"#FFCD00FF\", \"#7C878EFF\"] \n",
    "coupled_method_colors = [\"#5C88DAFF\", \"#5C88DA99\", \"#84BD00FF\",  \"#84BD0099\", \"#FFCD00FF\", \"#7C878EFF\"]"
   ]
  },
  {
   "cell_type": "markdown",
   "metadata": {
    "tags": []
   },
   "source": [
    "## Helper functions"
   ]
  },
  {
   "cell_type": "markdown",
   "metadata": {},
   "source": [
    "### Set adata colors"
   ]
  },
  {
   "cell_type": "code",
   "execution_count": 9,
   "metadata": {},
   "outputs": [],
   "source": [
    "def set_adata_colors(adata):\n",
    "    # set sex\n",
    "    adata.uns[\"sex_colors\"] = list(sns.color_palette(\"colorblind\", 2).as_hex()[::-1])\n",
    "    \n",
    "    # set phase\n",
    "    adata.obs[\"phase\"] = adata.obs[\"phase\"].astype(\"category\")\n",
    "    adata.obs[\"phase\"] = adata.obs[\"phase\"].cat.reorder_categories(['G1',  'S', 'G2M'])\n",
    "    \n",
    "    colors_ = list(sns.color_palette(\"Paired\", 6).as_hex())\n",
    "    adata.uns[\"phase_colors\"] = [colors_[1], colors_[3], colors_[5]]\n",
    "    \n",
    "    # set batch\n",
    "    adata.obs[\"batch_str\"] = adata.obs[\"batch\"].copy()\n",
    "    adata.obs[\"batch_str\"] = adata.obs[\"batch_str\"].cat.rename_categories({\n",
    "        '96hr_1': \"96hr (1)\", \n",
    "        '96hr_2': \"96hr (2)\", \n",
    "        '120hr_1': \"120hr (1)\", \n",
    "        '120hr_2': \"120hr (2)\", \n",
    "    })\n",
    "    adata.uns[\"batch_str_colors\"] = [\"#92aeb3\", \"#c9c89d\", \"#999999\", \"#392b2b\"]\n",
    "\n",
    "    # set phase-sex\n",
    "    adata.obs[\"phase_sex\"] = adata.obs[\"phase\"].astype(str) + \"_\" + adata.obs[\"sex\"].astype(str)\n",
    "    adata.obs[\"phase_sex\"] = adata.obs[\"phase_sex\"].astype(\"category\")\n",
    "    adata.obs[\"phase_sex\"] = adata.obs[\"phase_sex\"].cat.reorder_categories([\n",
    "        'G1_female',  'G1_male', \n",
    "        'S_female',  'S_male', \n",
    "        'G2M_female',  'G2M_male', \n",
    "    ])\n",
    "    adata.obs[\"phase_sex\"] = adata.obs[\"phase_sex\"].cat.rename_categories({\n",
    "        'G1_female' : \"G1 (f)\",  \n",
    "        'G1_male': \"G1 (m)\",\n",
    "        'S_female': \"S (f)\",  \n",
    "        'S_male': \"S (m)\",\n",
    "        'G2M_female': \"G2M (f)\",\n",
    "        'G2M_male': \"G2M (m)\", \n",
    "    })\n",
    "    adata.uns[\"phase_sex_colors\"] = list(sns.color_palette(\"Paired\", 6).as_hex())\n",
    "    \n",
    "\n",
    "    \n",
    "    return adata"
   ]
  },
  {
   "cell_type": "markdown",
   "metadata": {
    "id": "GiDynQ_uOod2",
    "tags": []
   },
   "source": [
    "## Setting parameteres"
   ]
  },
  {
   "cell_type": "code",
   "execution_count": 10,
   "metadata": {
    "id": "hncycELOuyMG"
   },
   "outputs": [],
   "source": [
    "# list of sex genes and cell cycle genes we will be conditioning on\n",
    "sex_genes = [\"lncRNA:roX1\", \"lncRNA:roX2\", \"Sxl\", \"msl-2\"]\n",
    "\n",
    "cell_cycle_genes = ['PCNA', 'dnk', 'RnrS', 'RnrL', 'Claspin', 'Mcm5', 'Caf1-180',\n",
    "       'RPA2', 'HipHop', 'stg', 'Mcm6', 'dup', 'WRNexo', 'Mcm7', 'dpa',\n",
    "       'CG10336', 'Mcm3', 'Mcm2', 'RpA-70', 'Chrac-14', 'CG13690', 'RPA3',\n",
    "       'asf1', 'DNApol-alpha73', 'CycE', 'DNApol-alpha50',\n",
    "       'Kmn1', 'Lam', 'Nph', 'msd5', 'msd1', 'ctp', 'Set', 'scra',\n",
    "       'Chrac-16', 'ncd', 'Ote', 'pzg', 'HDAC1', 'nesd', 'tum', 'CG8173',\n",
    "       'aurB', 'feo', 'pav', 'CG6767', 'sip2', 'Det', 'Cks30A', 'CycB',\n",
    "       'B52']\n",
    "\n",
    "# list of genes we're interested in\n",
    "genes_of_interest = [\n",
    "    \"Argk\",\n",
    "    \"Nrt\",\n",
    "    \"Ten-a\",\n",
    "    \"Ten-m\",\n",
    "    \"wb\",\n",
    "    \"Act57B\",\n",
    "    \"drl\",\n",
    "    \"mid\",\n",
    "    \"nemy\",\n",
    "    \"lms\",\n",
    "    \"CG11835\",\n",
    "    \"Gyg\",\n",
    "    \"ara\",\n",
    "    \"tok\",\n",
    "    \"kirre\",\n",
    "    \"NK7.1\",\n",
    "    \"fj\",\n",
    "    \"beat-IIIc\",\n",
    "    \"CG33993\",\n",
    "    \"dpr16\",\n",
    "    \"CG15529\",\n",
    "    \"CG9593\",\n",
    "    \"beat-IIb\",\n",
    "    \"robo2\",\n",
    "    \"Ama\",\n",
    "    \"fz2\",\n",
    "    \"elB\",\n",
    "    \"noc\",\n",
    "    \"nkd\",\n",
    "    \"fng\",\n",
    "    \"vg\",\n",
    "]\n",
    "\n",
    "nuisance_genes = sex_genes + cell_cycle_genes\n",
    "\n",
    "library_size = 5000"
   ]
  },
  {
   "cell_type": "code",
   "execution_count": null,
   "metadata": {},
   "outputs": [],
   "source": [
    "# setting up anndata\n",
    "adata = sc.read(\"/cs/labs/mornitzan/zoe.piran/research/projects/SiFT_analysis/cellcycle_myoblasts/data/myoblasts.h5ad\")\n",
    "# adata = sc.read(DATA_DIR / 'myoblasts.h5ad')"
   ]
  },
  {
   "cell_type": "code",
   "execution_count": null,
   "metadata": {},
   "outputs": [],
   "source": [
    "adata.layers['counts'] = adata.X.copy() # move count data into a layer\n",
    "sc.pp.normalize_total(adata, target_sum = library_size)\n",
    "sc.pp.log1p(adata) # log the data for better umap visualization later\n",
    "adata.raw = adata"
   ]
  },
  {
   "cell_type": "markdown",
   "metadata": {},
   "source": [
    "**Classify the `sex`**\n",
    "\n",
    "based on the classification performed by Everetts et. al. [[1]]((https://doi.org/10.7554/eLife.61276)) (see [cell_sex_and_cell_cycle_correction.R](https://github.com/HariharanLab/Everetts_Worley_Yasutomi/blob/e1d1f10fefdab11688ad4ca0b8c2684ed47faa0c/scVI/cell_sex_and_cell_cycle_correction.R))\n",
    "\n",
    "_We expect the data for sex genes to be bimodal, and use the minimum between peaks as a cutoff for determining male and female cells. This usually corresponds to the second extrema in the density (from left to right). However, noise and drop-outs in the data may make this difficult to calculate, so a manual cutoff may be needed instead._\n",
    "  "
   ]
  },
  {
   "cell_type": "code",
   "execution_count": null,
   "metadata": {},
   "outputs": [],
   "source": [
    "from rpy2 import robjects\n",
    "from rpy2.robjects.packages import importr\n",
    "from rpy2.robjects import vectors\n",
    "\n",
    "stats = importr(\"stats\")\n",
    "\n",
    "sex_gene_cutoff = {}\n",
    "data_density = {}\n",
    "sex_threshold_cells = {}\n",
    "sex_genes = [\"lncRNA:roX1\", \"lncRNA:roX2\"]\n",
    "\n",
    "# get density estimate\n",
    "\n",
    "for i, gene in enumerate(sex_genes):\n",
    "    column = vectors.FloatVector(adata[:, gene].X)\n",
    "    data_density[gene]  = stats.density(column, adjust = 2)\n",
    "    x = np.asarray(data_density[gene][0])\n",
    "    y = np.asarray(data_density[gene][1])\n",
    "    # find the second extrema in the density, and use this as a cutoff for cells\n",
    "    sex_gene_cutoff[gene] = x[np.where(np.diff(np.diff(y) > 0))][1]\n",
    "    adata.obs[f\"{gene}_cutoff\"] = adata[:, gene].X >= sex_gene_cutoff[gene]\n",
    "    \n",
    "    ax = sns.histplot(adata[:, gene].X, stat=\"density\", bins=50, kde=True)\n",
    "    ax.legend().remove()\n",
    "    ax.set_xlabel(f\"Log normalized counts\\n{gene}\")\n",
    "    ax.set_ylabel(f\"density\")\n",
    "    plt.axvline(x=sex_gene_cutoff[gene],color='red')\n",
    "    plt.title(f\"{gene}, cutoff={sex_gene_cutoff[gene]:.2f}\")\n",
    "    \n",
    "    plt.tight_layout()\n",
    "    # plt.savefig(FIG_DIR / f\"sex_cutoff_{gene}.png\", bbox_inches=\"tight\", dpi=DPI)\n",
    "    plt.show()\n",
    "    \n",
    "adata.obs[\"sex\"] = \"female\"\n",
    "adata.obs.loc[adata.obs[\"lncRNA:roX1_cutoff\"] | adata.obs[\"lncRNA:roX2_cutoff\"], \"sex\"]  = \"male\"\n",
    "\n",
    "\n",
    "num_male = (adata.obs[\"sex\"] == \"male\").sum()\n",
    "num_female = (adata.obs[\"sex\"] == \"female\").sum()\n",
    "print(f\"Number of predicted male cells: {num_male}, percentage from data: {num_male/(num_male+num_female):.2f}\")\n",
    "print(f\"Number of predicted female cells: {num_female}, percentage from data: {num_female/(num_male+num_female):.2f}\")"
   ]
  },
  {
   "cell_type": "markdown",
   "metadata": {},
   "source": [
    "Classify cell cycle based on cell cycle genes from Kirchner [Drosophila_melanogaster.csv](https://github.com/hbc/tinyatlas/blob/master/cell_cycle/Drosophila_melanogaster.csv) as used in Zhu et al. [[2]](https://doi.org/10.1038/s41467-022-28915-3)\n",
    "\n",
    "[[2] Kiat, Y., Vortman, Y., & Sapir, N. (2019). Feather moult and bird appearance are correlated with global warming over the last 200 years. Nature Communications, 10(1), 1-7.](https://doi.org/10.1038/s41467-022-28915-3)\n"
   ]
  },
  {
   "cell_type": "code",
   "execution_count": null,
   "metadata": {},
   "outputs": [],
   "source": [
    "g2m_genes = [\n",
    "    'Mps1', 'aurA', 'CycB', 'fzy', 'twe', 'pbl', 'RanGAP', 'stg',\n",
    "    'sub', 'Su(var)205', 'Cdk1', 'Klp61F', 'pie', 'pav', 'glu', 'msps',\n",
    "    'pigs', 'Nek2', 'HP1b', 'Phf7', 'Bub1', 'mars', 'Mapmodulin',\n",
    "    'LBR', 'CTCF', 'Cks85A', 'HP1e', 'HP1c', 'Cap-D2', 'cmet', 'cana',\n",
    "    'scra', 'BubR1', 'Det', 'vih', 'Dsp1', 'Top2'\n",
    "]\n",
    "s_genes = [\n",
    "    'Blm', 'spn-A', 'PCNA', 'CycE', 'RnrS', 'DNApol-alpha50',\n",
    "    'l(2)dtl', 'Mcm2', 'spel1', 'tos', 'dpa', 'Mcm5', 'Ts', 'Mcm6',\n",
    "    'Fen1', 'Cdc45', 'Usp1', 'CG15141', 'CG10336', 'PCNA2', 'RPA2',\n",
    "    'Caf1-105', 'CG11788', 'Cdc6', 'Slbp', 'Claspin',\n",
    "    'DNApol-alpha180', 'RfC4', 'Psf2'\n",
    "]"
   ]
  },
  {
   "cell_type": "code",
   "execution_count": null,
   "metadata": {},
   "outputs": [],
   "source": [
    "sc.tl.score_genes_cell_cycle(adata, s_genes=s_genes, g2m_genes=g2m_genes)"
   ]
  },
  {
   "cell_type": "code",
   "execution_count": null,
   "metadata": {},
   "outputs": [],
   "source": [
    "adata = set_adata_colors(adata)"
   ]
  },
  {
   "cell_type": "code",
   "execution_count": null,
   "metadata": {},
   "outputs": [],
   "source": [
    "adata_nothing = adata.copy()"
   ]
  },
  {
   "cell_type": "code",
   "execution_count": null,
   "metadata": {},
   "outputs": [],
   "source": [
    "sc.pp.scale(adata_nothing)\n",
    "sc.tl.pca(adata_nothing)\n",
    "sc.pp.neighbors(adata_nothing)\n",
    "sc.tl.umap(adata_nothing)"
   ]
  },
  {
   "cell_type": "code",
   "execution_count": null,
   "metadata": {},
   "outputs": [],
   "source": [
    "fig = sc.pl.umap(\n",
    "        adata_nothing,\n",
    "        color=[\"batch_str\", \"sex\",  \"phase\", \"phase_sex\"],\n",
    "        frameon=False,\n",
    "        wspace=0,\n",
    "        return_fig=True,\n",
    "    )\n",
    "fig.axes[2].set_title(\"cell cycle phase\")\n",
    "fig.axes[3].set_title(\"cc phase & sex\")\n",
    "plt.show()"
   ]
  },
  {
   "cell_type": "code",
   "execution_count": null,
   "metadata": {},
   "outputs": [],
   "source": [
    "adata = adata[adata.obs[\"phase_sex\"].argsort(), :]"
   ]
  },
  {
   "cell_type": "code",
   "execution_count": null,
   "metadata": {},
   "outputs": [],
   "source": [
    "adata_nothing = adata_nothing[adata_nothing.obs[\"phase_sex\"].argsort(), :]"
   ]
  },
  {
   "cell_type": "code",
   "execution_count": null,
   "metadata": {},
   "outputs": [],
   "source": [
    "adata_nothing.write(DATA_DIR / \"myoblasts_nothing.h5ad\")"
   ]
  },
  {
   "cell_type": "code",
   "execution_count": null,
   "metadata": {},
   "outputs": [],
   "source": [
    "adata.write(DATA_DIR / \"myoblasts_annotated.h5ad\")"
   ]
  },
  {
   "cell_type": "markdown",
   "metadata": {
    "tags": []
   },
   "source": [
    "## Read pre-processed `adata`"
   ]
  },
  {
   "cell_type": "code",
   "execution_count": null,
   "metadata": {},
   "outputs": [],
   "source": [
    "methods = [\n",
    "    \"sift_knn_2\",\n",
    "    \"sift_knn_3\",\n",
    "    \"sift_knn_5\",\n",
    "    \"sift_knn_10\",\n",
    "    \"sift_knn_15\",\n",
    "    \"nothing\"\n",
    "]\n",
    "fnames = {method: f\"myoblasts_{method}.h5ad\" for method in methods}"
   ]
  },
  {
   "cell_type": "code",
   "execution_count": null,
   "metadata": {},
   "outputs": [],
   "source": [
    "adata = sc.read(DATA_DIR + \"myoblasts_annotated.h5ad\")"
   ]
  },
  {
   "cell_type": "code",
   "execution_count": null,
   "metadata": {
    "tags": []
   },
   "outputs": [],
   "source": [
    "adata"
   ]
  },
  {
   "cell_type": "code",
   "execution_count": null,
   "metadata": {},
   "outputs": [],
   "source": [
    "adatas_ = {}"
   ]
  },
  {
   "cell_type": "markdown",
   "metadata": {
    "tags": []
   },
   "source": [
    "# `SiFT` - knn"
   ]
  },
  {
   "cell_type": "code",
   "execution_count": null,
   "metadata": {},
   "outputs": [],
   "source": [
    "metric = \"knn\"\n",
    "\n",
    "for method in methods[:-1]:\n",
    "    print(f\"evaluating {method}\")\n",
    "    n_neighbors = int(method.split(\"_\")[-1])\n",
    "    # setting up anndata for knn\n",
    "\n",
    "    adatas_[method] = adata.copy()\n",
    "    \n",
    "    # then copy the expression of the nuisance gene into adata.obsm\n",
    "    adatas_[method].obsm[\"nuisance_genes\"] = adatas_[method][:, nuisance_genes].X\n",
    "    adatas_[method].uns[\"nuisance_genes\"] = nuisance_genes\n",
    "    \n",
    "    \n",
    "    # finally, remove the nuisance genes from the anndata\n",
    "    gene_subset = [g for g in adatas_[method].var_names if g not in nuisance_genes]\n",
    "    adatas_[method] = adatas_[method][:, gene_subset].copy()\n",
    "\n",
    "    start = time.perf_counter()\n",
    "    \n",
    "    print(f\"running {method}\")    \n",
    "    kernel_key_ =  \"nuisance_genes\"     \n",
    "    \n",
    "    sft = sift.SiFT(\n",
    "        adata=adatas_[method],\n",
    "        kernel_key=kernel_key_,\n",
    "        n_neighbors=n_neighbors,\n",
    "        metric=metric,\n",
    "        copy=False,\n",
    "    )\n",
    "    sft.filter(\n",
    "        embedding_key=\"X\",\n",
    "        pseudocount=False\n",
    "        )\n",
    "    compute_time = time.perf_counter() - start\n",
    "    print(f\"{method} finished in {compute_time} sec\")\n",
    "\n",
    "    sc.tl.pca(adatas_[method],)\n",
    "    sc.pp.neighbors(adatas_[method])\n",
    "    sc.tl.umap(adatas_[method])\n",
    "\n",
    "    sc.pl.umap(\n",
    "        adatas_[method],\n",
    "        color=[\"batch_str\",\"phase\", \"sex\", \"Nrt\"],\n",
    "        frameon=False,\n",
    "        wspace=0,\n",
    "        return_fig=True,\n",
    "        )\n",
    "\n",
    "    plt.tight_layout()\n",
    "    plt.show()    \n",
    "\n",
    "    adatas_[method].write(DATA_DIR + f\"myoblasts_{method}.h5ad\")\n"
   ]
  },
  {
   "cell_type": "markdown",
   "metadata": {
    "id": "Ap1K6deolt4_",
    "jp-MarkdownHeadingCollapsed": true,
    "tags": []
   },
   "source": [
    "# Nothing"
   ]
  },
  {
   "cell_type": "code",
   "execution_count": null,
   "metadata": {},
   "outputs": [],
   "source": [
    "method = methods[-1]\n",
    "method"
   ]
  },
  {
   "cell_type": "code",
   "execution_count": null,
   "metadata": {
    "id": "OEGrsTlglt4_"
   },
   "outputs": [],
   "source": [
    "adatas_[method] = adata.copy()\n",
    "sc.pp.scale(adatas_[method])\n",
    "sc.tl.pca(adatas_[method])\n",
    "sc.pp.neighbors(adatas_[method])\n",
    "sc.tl.umap(adatas_[method])"
   ]
  },
  {
   "cell_type": "code",
   "execution_count": null,
   "metadata": {
    "id": "e6pMfeXLlt4_",
    "outputId": "dcb9c91c-62df-43be-b844-cb13cd75b0a0"
   },
   "outputs": [],
   "source": [
    "fig = sc.pl.umap(\n",
    "    adatas_[method],\n",
    "    color=[\"batch_str\",\"phase\", \"sex\", \"vg\"],\n",
    "    frameon=False,\n",
    "    wspace=0,\n",
    "    return_fig=True,\n",
    ")\n",
    "plt.show()"
   ]
  },
  {
   "cell_type": "code",
   "execution_count": null,
   "metadata": {},
   "outputs": [],
   "source": [
    "# adatas_[method].write(DATA_DIR / f\"myoblasts_{method}.h5ad\")"
   ]
  },
  {
   "cell_type": "markdown",
   "metadata": {
    "id": "YmzS90GZ_g5P"
   },
   "source": [
    "# Analysis"
   ]
  },
  {
   "cell_type": "markdown",
   "metadata": {
    "id": "xDA_Lo9RQK_Q",
    "tags": []
   },
   "source": [
    "## Import data"
   ]
  },
  {
   "cell_type": "code",
   "execution_count": 11,
   "metadata": {},
   "outputs": [],
   "source": [
    "import scib"
   ]
  },
  {
   "cell_type": "code",
   "execution_count": 12,
   "metadata": {},
   "outputs": [
    {
     "name": "stderr",
     "output_type": "stream",
     "text": [
      "/usr/lib/python3/dist-packages/ipykernel/ipkernel.py:283: DeprecationWarning: `should_run_async` will not call `transform_cell` automatically in the future. Please pass the result to `transformed_cell` argument and any exception that happen during thetransform in `preprocessing_exc_tuple` in IPython 7.17 and above.\n",
      "  and should_run_async(code)\n"
     ]
    }
   ],
   "source": [
    "methods = [\n",
    "    \"sift_knn_2\",\n",
    "    \"sift_knn_3\",\n",
    "    \"sift_knn_5\",\n",
    "    \"sift_knn_10\",\n",
    "    \"sift_knn_15\",\n",
    "    \"nothing\"\n",
    "]"
   ]
  },
  {
   "cell_type": "code",
   "execution_count": 13,
   "metadata": {},
   "outputs": [],
   "source": [
    "adatas_ = {}"
   ]
  },
  {
   "cell_type": "code",
   "execution_count": 14,
   "metadata": {},
   "outputs": [],
   "source": [
    "for method in methods:\n",
    "    adatas_[method] = sc.read(DATA_DIR + f\"myoblasts_{method}.h5ad\")"
   ]
  },
  {
   "cell_type": "markdown",
   "metadata": {
    "tags": []
   },
   "source": [
    "## Plot data"
   ]
  },
  {
   "cell_type": "code",
   "execution_count": null,
   "metadata": {},
   "outputs": [],
   "source": [
    "for key_, adata_ in adatas_.items():\n",
    "    adata_ = set_adata_colors(adata_)\n",
    "    fig = sc.pl.umap(\n",
    "        adata_,\n",
    "        color=[\"batch_str\", \"sex\",  \"phase\", \"Nrt\"],\n",
    "        frameon=False,\n",
    "        wspace=0,\n",
    "        return_fig=True,\n",
    "    )\n",
    "    \n",
    "    for ax in fig.axes:\n",
    "        ax.set_title(\"\")\n",
    "        ax.legend().remove()\n",
    "    # fig.axes[0].set_title(key_, fontsize=20)\n",
    "    g = fig.axes[-1].get_yaxis()\n",
    "    g.set_ticks([0, 3.74])\n",
    "    g.set_ticklabels([\"low\", \"high\"])\n",
    "    fig.savefig(FIG_DIR + f\"dros_{key_}_umap.png\", bbox_inches=\"tight\", dpi=DPI)\n",
    "    plt.show()"
   ]
  },
  {
   "cell_type": "markdown",
   "metadata": {
    "id": "-XYUjedTA8NF"
   },
   "source": [
    "## Quantitive analysis - `iLISI graph score` and `hvg`s"
   ]
  },
  {
   "cell_type": "code",
   "execution_count": 15,
   "metadata": {},
   "outputs": [
    {
     "name": "stderr",
     "output_type": "stream",
     "text": [
      "/usr/lib/python3/dist-packages/ipykernel/ipkernel.py:283: DeprecationWarning: `should_run_async` will not call `transform_cell` automatically in the future. Please pass the result to `transformed_cell` argument and any exception that happen during thetransform in `preprocessing_exc_tuple` in IPython 7.17 and above.\n",
      "  and should_run_async(code)\n"
     ]
    }
   ],
   "source": [
    "metrics_eval = [\"ilisi\",]\n",
    "batch_keys = [\"phase\",\"phase_sex\"]\n",
    "\n",
    "scores = {}\n",
    "scores_batch = {}\n",
    "for metric_ in metrics_eval:\n",
    "    for key_ in batch_keys:\n",
    "        scores[f\"{metric_}_{key_}\"]  = {}\n",
    "        scores_batch[f\"{metric_}_{key_}\"]  = {}\n",
    "\n",
    "scores[\"hvg\"] = {}\n",
    "scores_batch[\"hvg\"]  = {}"
   ]
  },
  {
   "cell_type": "code",
   "execution_count": 16,
   "metadata": {},
   "outputs": [
    {
     "data": {
      "text/plain": [
       "['sift_knn_2',\n",
       " 'sift_knn_3',\n",
       " 'sift_knn_5',\n",
       " 'sift_knn_10',\n",
       " 'sift_knn_15',\n",
       " 'nothing']"
      ]
     },
     "execution_count": 16,
     "metadata": {},
     "output_type": "execute_result"
    }
   ],
   "source": [
    "methods"
   ]
  },
  {
   "cell_type": "code",
   "execution_count": 17,
   "metadata": {},
   "outputs": [],
   "source": [
    "n_hvg = 500\n",
    "\n",
    "methods_cmp = {\n",
    "    'sift_knn_2': r\"SiFT ($k=2$)\",\n",
    "    'sift_knn_3': r\"SiFT ($k=3$)\",\n",
    "    'sift_knn_5': r\"SiFT ($k=5$)\",\n",
    "    'sift_knn_10': r\"SiFT ($k=10$)\",\n",
    "    'sift_knn_15': r\"SiFT ($k=15$)\",\n",
    "    \"nothing\": \"Original data\"\n",
    "}"
   ]
  },
  {
   "cell_type": "code",
   "execution_count": 18,
   "metadata": {},
   "outputs": [
    {
     "name": "stdout",
     "output_type": "stream",
     "text": [
      "sift_knn_2\n",
      "eval sift_knn_2\n",
      "hvg score: 0.3870967741935484\n",
      "sift_knn_2-phase\n"
     ]
    },
    {
     "name": "stderr",
     "output_type": "stream",
     "text": [
      "/cs/labs/mornitzan/zoe.piran/venvjax/lib/python3.9/site-packages/umap/distances.py:1063: NumbaDeprecationWarning: \u001b[1mThe 'nopython' keyword argument was not supplied to the 'numba.jit' decorator. The implicit default value for this argument is currently False, but it will be changed to True in Numba 0.59.0. See https://numba.readthedocs.io/en/stable/reference/deprecation.html#deprecation-of-object-mode-fall-back-behaviour-when-using-jit for details.\u001b[0m\n",
      "  @numba.jit()\n",
      "/cs/labs/mornitzan/zoe.piran/venvjax/lib/python3.9/site-packages/umap/distances.py:1071: NumbaDeprecationWarning: \u001b[1mThe 'nopython' keyword argument was not supplied to the 'numba.jit' decorator. The implicit default value for this argument is currently False, but it will be changed to True in Numba 0.59.0. See https://numba.readthedocs.io/en/stable/reference/deprecation.html#deprecation-of-object-mode-fall-back-behaviour-when-using-jit for details.\u001b[0m\n",
      "  @numba.jit()\n",
      "/cs/labs/mornitzan/zoe.piran/venvjax/lib/python3.9/site-packages/umap/distances.py:1086: NumbaDeprecationWarning: \u001b[1mThe 'nopython' keyword argument was not supplied to the 'numba.jit' decorator. The implicit default value for this argument is currently False, but it will be changed to True in Numba 0.59.0. See https://numba.readthedocs.io/en/stable/reference/deprecation.html#deprecation-of-object-mode-fall-back-behaviour-when-using-jit for details.\u001b[0m\n",
      "  @numba.jit()\n",
      "/cs/labs/mornitzan/zoe.piran/venvjax/lib/python3.9/site-packages/umap/umap_.py:660: NumbaDeprecationWarning: \u001b[1mThe 'nopython' keyword argument was not supplied to the 'numba.jit' decorator. The implicit default value for this argument is currently False, but it will be changed to True in Numba 0.59.0. See https://numba.readthedocs.io/en/stable/reference/deprecation.html#deprecation-of-object-mode-fall-back-behaviour-when-using-jit for details.\u001b[0m\n",
      "  @numba.jit()\n"
     ]
    },
    {
     "name": "stdout",
     "output_type": "stream",
     "text": [
      "iLISI score: 0.7781885683608931\n",
      "sift_knn_2-phase_sex\n",
      "iLISI score: 0.632267958227188\n",
      "hvg score 96hr_1: 0.1935483870967742\n",
      "sift_knn_2-phase\n",
      "iLISI score 96hr_1: 0.7852312665461814\n",
      "sift_knn_2-phase_sex\n",
      "iLISI score 96hr_1: 0.6374564838204109\n",
      "hvg score 96hr_2: 0.3870967741935484\n",
      "sift_knn_2-phase\n",
      "iLISI score 96hr_2: 0.775281170269108\n",
      "sift_knn_2-phase_sex\n",
      "iLISI score 96hr_2: 0.6419703315620273\n",
      "hvg score 120hr_1: 0.3548387096774194\n",
      "sift_knn_2-phase\n",
      "iLISI score 120hr_1: 0.7161004482612301\n",
      "sift_knn_2-phase_sex\n",
      "iLISI score 120hr_1: 0.6184725966218793\n",
      "hvg score 120hr_2: 0.5161290322580645\n",
      "sift_knn_2-phase\n",
      "iLISI score 120hr_2: 0.75264983945457\n",
      "sift_knn_2-phase_sex\n",
      "iLISI score 120hr_2: 0.5318626289817039\n",
      "sift_knn_3\n",
      "eval sift_knn_3\n",
      "hvg score: 0.3548387096774194\n",
      "sift_knn_3-phase\n",
      "iLISI score: 0.774905706612476\n",
      "sift_knn_3-phase_sex\n",
      "iLISI score: 0.634526661212449\n",
      "hvg score 96hr_1: 0.22580645161290322\n",
      "sift_knn_3-phase\n",
      "iLISI score 96hr_1: 0.7902476695730574\n",
      "sift_knn_3-phase_sex\n",
      "iLISI score 96hr_1: 0.6414981674935947\n",
      "hvg score 96hr_2: 0.2903225806451613\n",
      "sift_knn_3-phase\n",
      "iLISI score 96hr_2: 0.7710144591876855\n",
      "sift_knn_3-phase_sex\n",
      "iLISI score 96hr_2: 0.6403346914303387\n",
      "hvg score 120hr_1: 0.2903225806451613\n",
      "sift_knn_3-phase\n",
      "iLISI score 120hr_1: 0.6791329718078423\n",
      "sift_knn_3-phase_sex\n",
      "iLISI score 120hr_1: 0.5999453816593887\n",
      "hvg score 120hr_2: 0.5483870967741935\n",
      "sift_knn_3-phase\n",
      "iLISI score 120hr_2: 0.748431429361663\n",
      "sift_knn_3-phase_sex\n",
      "iLISI score 120hr_2: 0.5183091390070161\n",
      "sift_knn_5\n",
      "eval sift_knn_5\n",
      "hvg score: 0.3225806451612903\n",
      "sift_knn_5-phase\n",
      "iLISI score: 0.769670792470242\n",
      "sift_knn_5-phase_sex\n",
      "iLISI score: 0.6219535446535829\n",
      "hvg score 96hr_1: 0.1935483870967742\n",
      "sift_knn_5-phase\n",
      "iLISI score 96hr_1: 0.771718675506369\n",
      "sift_knn_5-phase_sex\n",
      "iLISI score 96hr_1: 0.6185906089162444\n",
      "hvg score 96hr_2: 0.2903225806451613\n",
      "sift_knn_5-phase\n",
      "iLISI score 96hr_2: 0.776565639800531\n",
      "sift_knn_5-phase_sex\n",
      "iLISI score 96hr_2: 0.6405686593275824\n",
      "hvg score 120hr_1: 0.2903225806451613\n",
      "sift_knn_5-phase\n",
      "iLISI score 120hr_1: 0.7014411751120084\n",
      "sift_knn_5-phase_sex\n",
      "iLISI score 120hr_1: 0.5985656381252804\n",
      "hvg score 120hr_2: 0.4838709677419355\n",
      "sift_knn_5-phase\n",
      "iLISI score 120hr_2: 0.7451611585325462\n",
      "sift_knn_5-phase_sex\n",
      "iLISI score 120hr_2: 0.5162335086171735\n",
      "sift_knn_10\n",
      "eval sift_knn_10\n",
      "hvg score: 0.3870967741935484\n",
      "sift_knn_10-phase\n",
      "iLISI score: 0.7687705930632065\n",
      "sift_knn_10-phase_sex\n",
      "iLISI score: 0.6278076094094962\n",
      "hvg score 96hr_1: 0.1935483870967742\n",
      "sift_knn_10-phase\n",
      "iLISI score 96hr_1: 0.7950536827590544\n",
      "sift_knn_10-phase_sex\n",
      "iLISI score 96hr_1: 0.6289696393565783\n",
      "hvg score 96hr_2: 0.2903225806451613\n",
      "sift_knn_10-phase\n",
      "iLISI score 96hr_2: 0.7810198393343148\n",
      "sift_knn_10-phase_sex\n",
      "iLISI score 96hr_2: 0.6524578826039844\n",
      "hvg score 120hr_1: 0.3225806451612903\n",
      "sift_knn_10-phase\n",
      "iLISI score 120hr_1: 0.6965626887832383\n",
      "sift_knn_10-phase_sex\n",
      "iLISI score 120hr_1: 0.6098435123472925\n",
      "hvg score 120hr_2: 0.5161290322580645\n",
      "sift_knn_10-phase\n",
      "iLISI score 120hr_2: 0.7204636853403794\n",
      "sift_knn_10-phase_sex\n",
      "iLISI score 120hr_2: 0.5330433977325606\n",
      "sift_knn_15\n",
      "eval sift_knn_15\n",
      "hvg score: 0.3870967741935484\n",
      "sift_knn_15-phase\n",
      "iLISI score: 0.7580943912918845\n",
      "sift_knn_15-phase_sex\n",
      "iLISI score: 0.6192787600576724\n",
      "hvg score 96hr_1: 0.1935483870967742\n",
      "sift_knn_15-phase\n",
      "iLISI score 96hr_1: 0.7876997349167714\n",
      "sift_knn_15-phase_sex\n",
      "iLISI score 96hr_1: 0.6369644563321117\n",
      "hvg score 96hr_2: 0.3225806451612903\n",
      "sift_knn_15-phase\n",
      "iLISI score 96hr_2: 0.7766858141415194\n",
      "sift_knn_15-phase_sex\n",
      "iLISI score 96hr_2: 0.6347037964050031\n",
      "hvg score 120hr_1: 0.2903225806451613\n",
      "sift_knn_15-phase\n",
      "iLISI score 120hr_1: 0.6782002186232474\n",
      "sift_knn_15-phase_sex\n",
      "iLISI score 120hr_1: 0.6001555428806515\n",
      "hvg score 120hr_2: 0.5483870967741935\n",
      "sift_knn_15-phase\n",
      "iLISI score 120hr_2: 0.7525413921613326\n",
      "sift_knn_15-phase_sex\n",
      "iLISI score 120hr_2: 0.5327511695641112\n",
      "nothing\n",
      "eval nothing\n",
      "hvg score: 0.0967741935483871\n",
      "nothing-phase\n",
      "iLISI score: 0.33764051877504264\n",
      "nothing-phase_sex\n",
      "iLISI score: 0.29991502893993205\n",
      "hvg score 96hr_1: 0.0\n",
      "nothing-phase\n",
      "iLISI score 96hr_1: 0.3439791584002678\n",
      "nothing-phase_sex\n",
      "iLISI score 96hr_1: 0.31517737342499963\n",
      "hvg score 96hr_2: 0.03225806451612903\n",
      "nothing-phase\n",
      "iLISI score 96hr_2: 0.3286983921295017\n",
      "nothing-phase_sex\n",
      "iLISI score 96hr_2: 0.28037234483015616\n",
      "hvg score 120hr_1: 0.0\n",
      "nothing-phase\n",
      "iLISI score 120hr_1: 0.32959190102440084\n",
      "nothing-phase_sex\n",
      "iLISI score 120hr_1: 0.32850346070763636\n",
      "hvg score 120hr_2: 0.1935483870967742\n",
      "nothing-phase\n",
      "iLISI score 120hr_2: 0.387257745855593\n",
      "nothing-phase_sex\n",
      "iLISI score 120hr_2: 0.289222212361025\n"
     ]
    }
   ],
   "source": [
    "for method in methods_cmp:\n",
    "    print(method)\n",
    "    print(f\"eval {method}\")\n",
    "    cc = sc.pp.highly_variable_genes(\n",
    "            adatas_[method], \n",
    "            n_top_genes=n_hvg,\n",
    "            flavor = \"cell_ranger\",\n",
    "            inplace=False\n",
    "        )\n",
    "    hvgs_ = adatas_[method].var_names[cc[\"highly_variable\"]]\n",
    "        \n",
    "    intersect_hvg_ = hvgs_.intersection(genes_of_interest)\n",
    "    scores[\"hvg\"][f\"{method}\"] = len(intersect_hvg_) / len(genes_of_interest)\n",
    "    score_ = scores[\"hvg\"][f\"{method}\"]\n",
    "    print(f\"hvg score: {score_}\")\n",
    "    \n",
    "    for batch_key in batch_keys:\n",
    "        print(f\"{method}-{batch_key}\")\n",
    "        \n",
    "        # iLISI\n",
    "        params = {\n",
    "            \"adata\": adatas_[method],\n",
    "            \"batch_key\": batch_key,\n",
    "            \"type_\": \"embed\" if \"X_emb\" in adatas_[method].obsm else \"full\",\n",
    "            \"n_cores\": 1,\n",
    "            \"subsample\": 0.5 * 100,\n",
    "        }\n",
    "        \n",
    "        scores[f\"ilisi_{batch_key}\"][f\"{method}\"] = scib.metrics.ilisi_graph(\n",
    "            **params\n",
    "        )\n",
    "        score_ = scores[f\"ilisi_{batch_key}\"][f\"{method}\"]\n",
    "        print(f\"iLISI score: {score_}\")\n",
    "        \n",
    "        scores_batch[f\"ilisi_{batch_key}\"][f\"{method}\"] = []\n",
    "    \n",
    "    scores_batch[\"hvg\"][f\"{method}\"] = []\n",
    "    for batch in adatas_[method].obs[\"batch\"].cat.categories:\n",
    "        adata_c = adatas_[method][adatas_[method].obs[\"batch\"].isin([batch])].copy()\n",
    "        cc = sc.pp.highly_variable_genes(\n",
    "            adata_c, \n",
    "            n_top_genes=n_hvg,\n",
    "            flavor = \"cell_ranger\",\n",
    "            inplace=False\n",
    "        )\n",
    "        hvgs_ = adata_c.var_names[cc[\"highly_variable\"]]\n",
    "\n",
    "        intersect_hvg_ = hvgs_.intersection(genes_of_interest)\n",
    "    \n",
    "        scores_batch[\"hvg\"][f\"{method}\"].append(len(intersect_hvg_) / len(genes_of_interest))\n",
    "        \n",
    "        score_ = scores_batch[\"hvg\"][f\"{method}\"][-1]\n",
    "        print(f\"hvg score {batch}: {score_}\")\n",
    "        \n",
    "        for batch_key in batch_keys:\n",
    "            print(f\"{method}-{batch_key}\")\n",
    "            # iLISI\n",
    "            params = {\n",
    "                \"adata\": adata_c,\n",
    "                \"batch_key\": batch_key,\n",
    "                \"type_\": \"embed\" if \"X_emb\" in adata_c.obsm else \"full\",\n",
    "                \"n_cores\": 1,\n",
    "                \"subsample\": 0.5 * 100,\n",
    "            }\n",
    "\n",
    "            scores_batch[f\"ilisi_{batch_key}\"][f\"{method}\"].append(scib.metrics.ilisi_graph(\n",
    "                **params\n",
    "            ))\n",
    "            score_ = scores_batch[f\"ilisi_{batch_key}\"][f\"{method}\"][-1]\n",
    "            print(f\"iLISI score {batch}: {score_}\")\n",
    "      "
   ]
  },
  {
   "cell_type": "code",
   "execution_count": 19,
   "metadata": {
    "tags": []
   },
   "outputs": [
    {
     "name": "stderr",
     "output_type": "stream",
     "text": [
      "/usr/lib/python3/dist-packages/ipykernel/ipkernel.py:283: DeprecationWarning: `should_run_async` will not call `transform_cell` automatically in the future. Please pass the result to `transformed_cell` argument and any exception that happen during thetransform in `preprocessing_exc_tuple` in IPython 7.17 and above.\n",
      "  and should_run_async(code)\n"
     ]
    }
   ],
   "source": [
    "df_scores_batch = pd.DataFrame(scores_batch).T \n",
    "df_scores_batch = df_scores_batch.reset_index()\n",
    "df_scores_batch = df_scores_batch.melt(id_vars=[\"index\"]).rename(columns = {'index':'metric', 'value':'score', \"variable\":\"method\"}, inplace = False)\n",
    "df_scores_batch[[\"0\",\"1\",\"2\",\"3\"]] = pd.DataFrame(df_scores_batch.score.tolist(), index= df_scores_batch.index)\n",
    "del df_scores_batch[\"score\"]\n",
    "\n",
    "df_scores_batch = df_scores_batch.melt(id_vars=[\"metric\", \"method\"])\n"
   ]
  },
  {
   "cell_type": "code",
   "execution_count": 20,
   "metadata": {},
   "outputs": [
    {
     "name": "stderr",
     "output_type": "stream",
     "text": [
      "/usr/lib/python3/dist-packages/ipykernel/ipkernel.py:283: DeprecationWarning: `should_run_async` will not call `transform_cell` automatically in the future. Please pass the result to `transformed_cell` argument and any exception that happen during thetransform in `preprocessing_exc_tuple` in IPython 7.17 and above.\n",
      "  and should_run_async(code)\n"
     ]
    },
    {
     "data": {
      "text/html": [
       "<div>\n",
       "<style scoped>\n",
       "    .dataframe tbody tr th:only-of-type {\n",
       "        vertical-align: middle;\n",
       "    }\n",
       "\n",
       "    .dataframe tbody tr th {\n",
       "        vertical-align: top;\n",
       "    }\n",
       "\n",
       "    .dataframe thead th {\n",
       "        text-align: right;\n",
       "    }\n",
       "</style>\n",
       "<table border=\"1\" class=\"dataframe\">\n",
       "  <thead>\n",
       "    <tr style=\"text-align: right;\">\n",
       "      <th></th>\n",
       "      <th>metric</th>\n",
       "      <th>method</th>\n",
       "      <th>variable</th>\n",
       "      <th>value</th>\n",
       "    </tr>\n",
       "  </thead>\n",
       "  <tbody>\n",
       "    <tr>\n",
       "      <th>0</th>\n",
       "      <td>ilisi_phase</td>\n",
       "      <td>sift_knn_2</td>\n",
       "      <td>0</td>\n",
       "      <td>0.785231</td>\n",
       "    </tr>\n",
       "    <tr>\n",
       "      <th>1</th>\n",
       "      <td>ilisi_phase_sex</td>\n",
       "      <td>sift_knn_2</td>\n",
       "      <td>0</td>\n",
       "      <td>0.637456</td>\n",
       "    </tr>\n",
       "    <tr>\n",
       "      <th>2</th>\n",
       "      <td>hvg</td>\n",
       "      <td>sift_knn_2</td>\n",
       "      <td>0</td>\n",
       "      <td>0.193548</td>\n",
       "    </tr>\n",
       "    <tr>\n",
       "      <th>3</th>\n",
       "      <td>ilisi_phase</td>\n",
       "      <td>sift_knn_3</td>\n",
       "      <td>0</td>\n",
       "      <td>0.790248</td>\n",
       "    </tr>\n",
       "    <tr>\n",
       "      <th>4</th>\n",
       "      <td>ilisi_phase_sex</td>\n",
       "      <td>sift_knn_3</td>\n",
       "      <td>0</td>\n",
       "      <td>0.641498</td>\n",
       "    </tr>\n",
       "    <tr>\n",
       "      <th>...</th>\n",
       "      <td>...</td>\n",
       "      <td>...</td>\n",
       "      <td>...</td>\n",
       "      <td>...</td>\n",
       "    </tr>\n",
       "    <tr>\n",
       "      <th>67</th>\n",
       "      <td>ilisi_phase_sex</td>\n",
       "      <td>sift_knn_15</td>\n",
       "      <td>3</td>\n",
       "      <td>0.532751</td>\n",
       "    </tr>\n",
       "    <tr>\n",
       "      <th>68</th>\n",
       "      <td>hvg</td>\n",
       "      <td>sift_knn_15</td>\n",
       "      <td>3</td>\n",
       "      <td>0.548387</td>\n",
       "    </tr>\n",
       "    <tr>\n",
       "      <th>69</th>\n",
       "      <td>ilisi_phase</td>\n",
       "      <td>nothing</td>\n",
       "      <td>3</td>\n",
       "      <td>0.387258</td>\n",
       "    </tr>\n",
       "    <tr>\n",
       "      <th>70</th>\n",
       "      <td>ilisi_phase_sex</td>\n",
       "      <td>nothing</td>\n",
       "      <td>3</td>\n",
       "      <td>0.289222</td>\n",
       "    </tr>\n",
       "    <tr>\n",
       "      <th>71</th>\n",
       "      <td>hvg</td>\n",
       "      <td>nothing</td>\n",
       "      <td>3</td>\n",
       "      <td>0.193548</td>\n",
       "    </tr>\n",
       "  </tbody>\n",
       "</table>\n",
       "<p>72 rows × 4 columns</p>\n",
       "</div>"
      ],
      "text/plain": [
       "             metric       method variable     value\n",
       "0       ilisi_phase   sift_knn_2        0  0.785231\n",
       "1   ilisi_phase_sex   sift_knn_2        0  0.637456\n",
       "2               hvg   sift_knn_2        0  0.193548\n",
       "3       ilisi_phase   sift_knn_3        0  0.790248\n",
       "4   ilisi_phase_sex   sift_knn_3        0  0.641498\n",
       "..              ...          ...      ...       ...\n",
       "67  ilisi_phase_sex  sift_knn_15        3  0.532751\n",
       "68              hvg  sift_knn_15        3  0.548387\n",
       "69      ilisi_phase      nothing        3  0.387258\n",
       "70  ilisi_phase_sex      nothing        3  0.289222\n",
       "71              hvg      nothing        3  0.193548\n",
       "\n",
       "[72 rows x 4 columns]"
      ]
     },
     "execution_count": 20,
     "metadata": {},
     "output_type": "execute_result"
    }
   ],
   "source": [
    "df_scores_batch"
   ]
  },
  {
   "cell_type": "markdown",
   "metadata": {},
   "source": [
    "### Save score"
   ]
  },
  {
   "cell_type": "code",
   "execution_count": 21,
   "metadata": {},
   "outputs": [
    {
     "name": "stderr",
     "output_type": "stream",
     "text": [
      "/usr/lib/python3/dist-packages/ipykernel/ipkernel.py:283: DeprecationWarning: `should_run_async` will not call `transform_cell` automatically in the future. Please pass the result to `transformed_cell` argument and any exception that happen during thetransform in `preprocessing_exc_tuple` in IPython 7.17 and above.\n",
      "  and should_run_async(code)\n"
     ]
    }
   ],
   "source": [
    "df_scores_batch.to_csv(DATA_DIR + \"ilisi_hvg_scores_batch_sift_robustness_k.csv\")"
   ]
  },
  {
   "cell_type": "markdown",
   "metadata": {},
   "source": [
    "### Plot score"
   ]
  },
  {
   "cell_type": "code",
   "execution_count": 22,
   "metadata": {},
   "outputs": [],
   "source": [
    "df_scores_batch = pd.read_csv(DATA_DIR + \"ilisi_hvg_scores_batch_sift_robustness_k.csv\")"
   ]
  },
  {
   "cell_type": "code",
   "execution_count": 23,
   "metadata": {},
   "outputs": [
    {
     "name": "stderr",
     "output_type": "stream",
     "text": [
      "/usr/lib/python3/dist-packages/ipykernel/ipkernel.py:283: DeprecationWarning: `should_run_async` will not call `transform_cell` automatically in the future. Please pass the result to `transformed_cell` argument and any exception that happen during thetransform in `preprocessing_exc_tuple` in IPython 7.17 and above.\n",
      "  and should_run_async(code)\n"
     ]
    }
   ],
   "source": [
    "methods_plot = {\n",
    "    'sift_knn_2': r\"SiFT ($k=2$)\",\n",
    "    'sift_knn_3': r\"SiFT ($k=3$)\",\n",
    "    'sift_knn_5': r\"SiFT ($k=5$)\",\n",
    "    'sift_knn_10': r\"SiFT ($k=10$)\",\n",
    "    'sift_knn_15': r\"SiFT ($k=15$)\",\n",
    "    \"nothing\": \"Original data\"\n",
    "}"
   ]
  },
  {
   "cell_type": "code",
   "execution_count": 42,
   "metadata": {},
   "outputs": [
    {
     "name": "stderr",
     "output_type": "stream",
     "text": [
      "/usr/lib/python3/dist-packages/ipykernel/ipkernel.py:283: DeprecationWarning: `should_run_async` will not call `transform_cell` automatically in the future. Please pass the result to `transformed_cell` argument and any exception that happen during thetransform in `preprocessing_exc_tuple` in IPython 7.17 and above.\n",
      "  and should_run_async(code)\n"
     ]
    }
   ],
   "source": [
    "label_title = {\"phase\":\"graph iLISI\\n cc phase\", \"phase_sex\": \"graph iLISI\\ncc phase & sex\", \"hvg\": \"HVG overlap\"}\n",
    "\n",
    "metrics_plot =  [f\"ilisi_{label}\" for label in [\"phase\", \"phase_sex\"]] \n",
    "metrics_plot.append(\"hvg\")\n",
    "\n",
    "df_scores_lim = df_scores_batch[df_scores_batch[\"metric\"].isin(metrics_plot)].copy()\n",
    "df_scores_lim.loc[:, \"metric\"] = df_scores_lim.loc[:, \"metric\"].replace({\n",
    "        f\"ilisi_{label}\": label_title[label] for label in [\"phase\", \"phase_sex\"]\n",
    "        \n",
    "    }, inplace=False)\n",
    "\n",
    "df_scores_lim.loc[:, \"metric\"] = df_scores_lim.loc[:, \"metric\"].replace({\n",
    "        \"hvg\": \"HVG overlap\"\n",
    "        }, inplace=False)\n",
    "\n",
    "df_scores_lim = df_scores_lim[df_scores_lim[\"method\"].isin(methods_plot.keys())]\n",
    "df_scores_lim.loc[:, \"method\"] =  df_scores_lim.loc[:, \"method\"].replace({\n",
    "    'sift_knn_2': r\"SiFT ($k=2$)\",\n",
    "    'sift_knn_3': r\"SiFT ($k=3$)\",\n",
    "    'sift_knn_5': r\"SiFT ($k=5$)\",\n",
    "    'sift_knn_10': r\"SiFT ($k=10$)\",  \n",
    "    'sift_knn_15': r\"SiFT ($k=15$)\",   \n",
    "    \"nothing\": \"Original data\"\n",
    "}, inplace=False)"
   ]
  },
  {
   "cell_type": "code",
   "execution_count": 43,
   "metadata": {
    "tags": []
   },
   "outputs": [
    {
     "name": "stderr",
     "output_type": "stream",
     "text": [
      "/usr/lib/python3/dist-packages/seaborn/palettes.py:443: MatplotlibDeprecationWarning: The get_cmap function was deprecated in Matplotlib 3.7 and will be removed two minor releases later. Use ``matplotlib.colormaps[name]`` or ``matplotlib.colormaps.get_cmap(obj)`` instead.\n",
      "  cmap = mpl.cm.get_cmap(name)\n"
     ]
    },
    {
     "data": {
      "text/plain": [
       "['#105ba4', '#3787c0', '#6aaed6', '#abd0e6', '#d6e6f4', '#7C878EFF']"
      ]
     },
     "execution_count": 43,
     "metadata": {},
     "output_type": "execute_result"
    }
   ],
   "source": [
    "colors_sift = sns.color_palette(\"Blues\", 5)\n",
    "list(colors_sift.as_hex())\n",
    "colors_sift = list(colors_sift.as_hex())[::-1] + [method_colors[-1]]\n",
    "colors_sift"
   ]
  },
  {
   "cell_type": "code",
   "execution_count": 26,
   "metadata": {},
   "outputs": [],
   "source": [
    "method_colors = [\"#5C88DAFF\", \"#84BD00FF\", \"#FFCD00FF\", \"#7C878EFF\"] "
   ]
  },
  {
   "cell_type": "code",
   "execution_count": 45,
   "metadata": {},
   "outputs": [
    {
     "name": "stderr",
     "output_type": "stream",
     "text": [
      "/usr/lib/python3/dist-packages/ipykernel/ipkernel.py:283: DeprecationWarning: `should_run_async` will not call `transform_cell` automatically in the future. Please pass the result to `transformed_cell` argument and any exception that happen during thetransform in `preprocessing_exc_tuple` in IPython 7.17 and above.\n",
      "  and should_run_async(code)\n"
     ]
    },
    {
     "data": {
      "image/png": "[encoded data removed]",
      "text/plain": [
       "<Figure size 806.4x360 with 1 Axes>"
      ]
     },
     "metadata": {
      "needs_background": "light"
     },
     "output_type": "display_data"
    }
   ],
   "source": [
    "size = 4\n",
    "fig, axs = plt.subplots(1,1, figsize=(size*2.8, size+1))\n",
    "\n",
    "bar = sns.barplot(x=\"metric\", \n",
    "                  y=\"value\",\n",
    "                  data=df_scores_lim, \n",
    "                  hue=\"method\", \n",
    "                  ax=axs, \n",
    "                  palette=colors_sift,\n",
    "                  # ci=None\n",
    "                 )\n",
    "        \n",
    "leg = axs.legend(ncol=1, \n",
    "                    loc=\"upper left\", \n",
    "                    bbox_to_anchor=(1.0, 1.0),\n",
    "                    frameon=False, fontsize=fontsize-2)\n",
    "plt.title(\"\")\n",
    "plt.xticks(rotation=0,  fontsize=fontsize-2)\n",
    "plt.ylim(0, 0.8)\n",
    "plt.yticks([0, 0.2, 0.4, 0.6, 0.8] ,fontsize=fontsize-4)\n",
    "plt.xlabel(\"\", fontsize=fontsize-4)\n",
    "plt.ylabel(\"score\",  fontsize=fontsize+4)\n",
    "plt.tight_layout()\n",
    "fig.savefig(FIG_DIR + f\"score_iLISI_hvg_batch_sift_knn.png\", bbox_inches=\"tight\", dpi=DPI)\n",
    "plt.show()"
   ]
  },
  {
   "cell_type": "code",
   "execution_count": null,
   "metadata": {},
   "outputs": [],
   "source": []
  }
 ],
 "metadata": {
  "accelerator": "GPU",
  "colab": {
   "collapsed_sections": [],
   "machine_shape": "hm",
   "name": "scvi_covariates.ipynb",
   "provenance": [],
   "toc_visible": true
  },
  "kernelspec": {
   "display_name": "venvjax",
   "language": "python",
   "name": "venvjax"
  },
  "language_info": {
   "codemirror_mode": {
    "name": "ipython",
    "version": 3
   },
   "file_extension": ".py",
   "mimetype": "text/x-python",
   "name": "python",
   "nbconvert_exporter": "python",
   "pygments_lexer": "ipython3",
   "version": "3.9.2"
  }
 },
 "nbformat": 4,
 "nbformat_minor": 4
}
