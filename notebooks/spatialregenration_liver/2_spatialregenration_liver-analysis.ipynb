{
 "cells": [
  {
   "cell_type": "markdown",
   "id": "0185ca43",
   "metadata": {},
   "source": [
    "# Analysis of _multimodal mouse liver regeneration atlas_\n",
    "\n",
    "We apply SiFT to the pre-processed _Multimodal liver regeneration atlas_[[1]](https://doi.org/10.1101/2023.02.24.529873) over mouse data.\n",
    "\n",
    "Uses AnnData objects created in [1_spatialregenration_liver-preprocessing.ipynb]()\n",
    "\n",
    "[[1] Matchett, Kylie P., John W. Wilson-Kanamori, Jordan R. Portman, Andreas Kapourani, Frederic Fercoq, Stephanie May, John BG Mackey et al. \"Multimodal decoding of human liver regeneration.\" bioRxiv (2023): 2023-02.](https://doi.org/10.1101/2023.02.24.529873)\n",
    "\n",
    "\n",
    "## Import packages"
   ]
  },
  {
   "cell_type": "code",
   "execution_count": 1,
   "id": "6e35dc38",
   "metadata": {},
   "outputs": [],
   "source": [
    "%load_ext autoreload\n",
    "%autoreload 2"
   ]
  },
  {
   "cell_type": "code",
   "execution_count": 2,
   "id": "4b73926f",
   "metadata": {},
   "outputs": [],
   "source": [
    "import os \n",
    "import sys\n",
    "\n",
    "import pandas as pd\n",
    "import numpy as np\n",
    "import pickle as pkl\n",
    "import scanpy as sc\n",
    "import squidpy as sq\n",
    "import decoupler as dc\n",
    "import scFates as scf\n",
    "from dython.nominal import associations\n",
    "import warnings\n",
    "import scipy\n",
    "\n",
    "import matplotlib.pyplot as plt\n",
    "from matplotlib import rcParams, cm\n",
    "from matplotlib.colors import ListedColormap, LinearSegmentedColormap\n",
    "import seaborn as sns\n",
    "\n",
    "import sift"
   ]
  },
  {
   "cell_type": "code",
   "execution_count": 3,
   "id": "5eeaf739-9fd0-42f2-8a27-705c3fcea55d",
   "metadata": {
    "tags": []
   },
   "outputs": [],
   "source": [
    "warnings.simplefilter(\"ignore\", UserWarning)\n",
    "warnings.simplefilter(\"ignore\", FutureWarning)"
   ]
  },
  {
   "cell_type": "code",
   "execution_count": 4,
   "id": "dc7b71eb-8988-4ca3-a23d-4d52a247bed9",
   "metadata": {},
   "outputs": [],
   "source": [
    "# sys.path.append(\"../../\")\n",
    "# from paths import DATA_DIR, FIG_DIR\n",
    "\n",
    "DATA_DIR = \"/cs/labs/mornitzan/zoe.piran/research/projects/SiFT_analysis/spatial-regenration_liver/data/\"\n",
    "FIG_DIR = \"/cs/labs/mornitzan/zoe.piran/research/projects/SiFT_analysis/spatial-regenration_liver/figures/\""
   ]
  },
  {
   "cell_type": "markdown",
   "id": "4f78feca-273f-46b7-886c-d3790d63cd0d",
   "metadata": {},
   "source": [
    "## Helper functions"
   ]
  },
  {
   "cell_type": "code",
   "execution_count": 5,
   "id": "6cfc878d-df68-4057-b159-eb166b6720f4",
   "metadata": {
    "tags": []
   },
   "outputs": [],
   "source": [
    "def process_adata(\n",
    "    adata,\n",
    "    hvg=False,\n",
    "    n_top_genes = 2000,\n",
    "    use_rep = \"X_pca\",\n",
    "    key = \"sample\",\n",
    "    pseudocount = \"layer\",\n",
    "    resolution=1\n",
    "):\n",
    "    for key_ in [\"X_pca\", \"X_umap\"]:\n",
    "        if key_ in adata.obsm:\n",
    "            del adata.obsm[key_] \n",
    "    for key_ in [\"leiden\", \"neighbors\", \"pca\", \"umap\"]:\n",
    "        if key_ in adata.uns:\n",
    "            del adata.uns[key_]\n",
    "    \n",
    "    for key_ in adata.obs:\n",
    "        if \"score\" in key_:\n",
    "            del adata.obs[key_]\n",
    "        if \"leiden\" in key_:\n",
    "            del adata.obs[key_]\n",
    "    \n",
    "    if hvg:\n",
    "        print(\"hvg\")\n",
    "        if \"hvg\" in adata.uns:\n",
    "            del adata.uns[\"hvg\"]\n",
    "        sc.pp.highly_variable_genes(\n",
    "            adata,\n",
    "            n_top_genes=3000,\n",
    "            subset=True,\n",
    "            layer=\"counts\",\n",
    "            flavor=\"seurat_v3\",\n",
    "        )\n",
    "    \n",
    "    print(\"pca\")\n",
    "    sc.tl.pca(adata)\n",
    "    \n",
    "        \n",
    "    if use_rep == \"X_pca_harmony\":\n",
    "        print(\"pca_harmony\")\n",
    "        sc.external.pp.harmony_integrate(adata, key, basis=\"X_pca\", adjusted_basis=\"X_pca_harmony\")\n",
    "        \n",
    "    print(\"nns\")\n",
    "    sc.pp.neighbors(adata, use_rep=use_rep)\n",
    "        \n",
    "    \n",
    "    print(\"umap\")\n",
    "    sc.tl.umap(adata)\n",
    "\n",
    "    print(\"leiden\")\n",
    "    sc.tl.leiden(adata, resolution = resolution)\n",
    "    \n",
    "    if pseudocount == \"layer\":\n",
    "        print(\"add pseudocount layer\")\n",
    "        adata.layers[\"pseudocount\"] = adata.X.copy()\n",
    "        for batch in adata.obs[key].cat.categories:\n",
    "            adata.layers[\"pseudocount\"][adata.obs[key].isin([batch]), :] -= adata.X[adata.obs[key].isin([batch])].min()\n",
    "    elif pseudocount:\n",
    "        print(\"add pseudocount to `.X`\")\n",
    "        for batch in adata.obs[key].cat.categories:\n",
    "            adata.X[adata.obs[key].isin([batch]), :] -= adata.X[adata.obs[key].isin([batch])].min()\n",
    "        "
   ]
  },
  {
   "cell_type": "code",
   "execution_count": 6,
   "id": "88c72c15-c888-4574-abe4-700b9b60057f",
   "metadata": {
    "tags": []
   },
   "outputs": [],
   "source": [
    "def rank_genes_groups(\n",
    "    adata,\n",
    "    groups=None,\n",
    "    n_genes = 20,\n",
    "    gene_symbols = None,\n",
    "    bold_genes = None,\n",
    "    key = 'rank_genes_groups',\n",
    "    fontsize = 8,\n",
    "    ncols = 4,\n",
    "    sharey = True,\n",
    "    title = None,\n",
    "    show = None,\n",
    "    ax = None,\n",
    "    **kwds,\n",
    "):\n",
    "    \"\"\"\\\n",
    "    Plot ranking of genes.\n",
    "\n",
    "    Parameters\n",
    "    ----------\n",
    "    adata\n",
    "        Annotated data matrix.\n",
    "    groups\n",
    "        The groups for which to show the gene ranking.\n",
    "    gene_symbols\n",
    "        Key for field in `.var` that stores gene symbols if you do not want to\n",
    "        use `.var_names`.\n",
    "    n_genes\n",
    "        Number of genes to show.\n",
    "    fontsize\n",
    "        Fontsize for gene names.\n",
    "    ncols\n",
    "        Number of panels shown per row.\n",
    "    sharey\n",
    "        Controls if the y-axis of each panels should be shared. But passing\n",
    "        `sharey=False`, each panel has its own y-axis range.\n",
    "    {show_save_ax}\n",
    "\n",
    "\n",
    "    Examples\n",
    "    --------\n",
    "\n",
    "    .. plot::\n",
    "        :context: close-figs\n",
    "\n",
    "        import scanpy as sc\n",
    "        adata = sc.datasets.pbmc68k_reduced()\n",
    "        sc.pl.rank_genes_groups(adata)\n",
    "\n",
    "\n",
    "    Plot top 10 genes (default 20 genes)\n",
    "\n",
    "    .. plot::\n",
    "        :context: close-figs\n",
    "\n",
    "        sc.pl.rank_genes_groups(adata, n_genes=10)\n",
    "\n",
    "    .. currentmodule:: scanpy\n",
    "\n",
    "    See also\n",
    "    --------\n",
    "    tl.rank_genes_groups\n",
    "\n",
    "    \"\"\"\n",
    "    if bold_genes is None:\n",
    "        bold_genes = []\n",
    "    if 'n_panels_per_row' in kwds:\n",
    "        n_panels_per_row = kwds['n_panels_per_row']\n",
    "    else:\n",
    "        n_panels_per_row = ncols\n",
    "    if n_genes < 1:\n",
    "        raise NotImplementedError(\n",
    "            \"Specifying a negative number for n_genes has not been implemented for \"\n",
    "            f\"this plot. Received n_genes={n_genes}.\"\n",
    "        )\n",
    "\n",
    "    reference = str(adata.uns[key]['params']['reference'])\n",
    "    group_names = adata.uns[key]['names'].dtype.names if groups is None else groups\n",
    "    # one panel for each group\n",
    "    # set up the figure\n",
    "    n_panels_x = min(n_panels_per_row, len(group_names))\n",
    "    n_panels_y = np.ceil(len(group_names) / n_panels_x).astype(int)\n",
    "\n",
    "    from matplotlib import gridspec\n",
    "\n",
    "    fig = plt.figure(\n",
    "        figsize=(\n",
    "            n_panels_x * rcParams['figure.figsize'][0],\n",
    "            n_panels_y * rcParams['figure.figsize'][1],\n",
    "        )\n",
    "    )\n",
    "    gs = gridspec.GridSpec(nrows=n_panels_y, ncols=n_panels_x, wspace=0.22, hspace=0.3)\n",
    "\n",
    "    ax0 = None\n",
    "    ymin = np.Inf\n",
    "    ymax = -np.Inf\n",
    "    for count, group_name in enumerate(group_names):\n",
    "        gene_names = adata.uns[key]['names'][group_name][:n_genes]\n",
    "        scores = adata.uns[key]['scores'][group_name][:n_genes]\n",
    "\n",
    "        # Setting up axis, calculating y bounds\n",
    "        if sharey:\n",
    "            ymin = min(ymin, np.min(scores))\n",
    "            ymax = max(ymax, np.max(scores))\n",
    "\n",
    "            if ax0 is None:\n",
    "                ax = fig.add_subplot(gs[count])\n",
    "                ax0 = ax\n",
    "            else:\n",
    "                ax = fig.add_subplot(gs[count], sharey=ax0)\n",
    "        else:\n",
    "            ymin = np.min(scores)\n",
    "            ymax = np.max(scores)\n",
    "            ymax += 0.3 * (ymax - ymin)\n",
    "\n",
    "            ax = fig.add_subplot(gs[count])\n",
    "            ax.set_ylim(ymin, ymax)\n",
    "\n",
    "        ax.set_xlim(-0.9, n_genes - 0.1)\n",
    "\n",
    "        # Mapping to gene_symbols\n",
    "        if gene_symbols is not None:\n",
    "            if adata.raw is not None and adata.uns[key]['params']['use_raw']:\n",
    "                gene_names = adata.raw.var[gene_symbols][gene_names]\n",
    "            else:\n",
    "                gene_names = adata.var[gene_symbols][gene_names]\n",
    "\n",
    "        # Making labels\n",
    "        for ig, gene_name in enumerate(gene_names):\n",
    "            if gene_name in bold_genes:\n",
    "                ax.text(\n",
    "                    ig,\n",
    "                    scores[ig],\n",
    "                    gene_name,\n",
    "                    rotation='vertical',\n",
    "                    verticalalignment='bottom',\n",
    "                    horizontalalignment='center',\n",
    "                    fontsize=fontsize,\n",
    "                    weight=\"bold\"\n",
    "                )\n",
    "            else:\n",
    "                ax.text(\n",
    "                    ig,\n",
    "                    scores[ig],\n",
    "                    gene_name,\n",
    "                    rotation='vertical',\n",
    "                    verticalalignment='bottom',\n",
    "                    horizontalalignment='center',\n",
    "                    fontsize=fontsize\n",
    "                    )\n",
    "\n",
    "        ax.set_title('{} vs. {}'.format(group_name, reference))\n",
    "        if count >= n_panels_x * (n_panels_y - 1):\n",
    "            ax.set_xlabel('ranking')\n",
    "\n",
    "        # print the 'score' label only on the first panel per row.\n",
    "        if count % n_panels_x == 0:\n",
    "            ax.set_ylabel('score')\n",
    "\n",
    "    if sharey is True:\n",
    "        ymax += 0.3 * (ymax - ymin)\n",
    "        ax.set_ylim(ymin, ymax)"
   ]
  },
  {
   "cell_type": "code",
   "execution_count": 7,
   "id": "1bb67e6d-12c5-4da1-801e-c35254771785",
   "metadata": {
    "tags": []
   },
   "outputs": [],
   "source": [
    "def rank_genes_group(\n",
    "    adata,\n",
    "    group_name,\n",
    "    n_genes = 20,\n",
    "    gene_symbols = None,\n",
    "    bold_genes = None,\n",
    "    key = 'rank_genes_groups',\n",
    "    fontsize=8,\n",
    "    title = None,\n",
    "    show = None,\n",
    "    ax = None,\n",
    "    **kwds,\n",
    "):\n",
    "    \"\"\"\\\n",
    "    Plot ranking of genes.\n",
    "\n",
    "    Parameters\n",
    "    ----------\n",
    "    adata\n",
    "        Annotated data matrix.\n",
    "    groups\n",
    "        The groups for which to show the gene ranking.\n",
    "    gene_symbols\n",
    "        Key for field in `.var` that stores gene symbols if you do not want to\n",
    "        use `.var_names`.\n",
    "    n_genes\n",
    "        Number of genes to show.\n",
    "    fontsize\n",
    "        Fontsize for gene names.\n",
    "    ncols\n",
    "        Number of panels shown per row.\n",
    "    sharey\n",
    "        Controls if the y-axis of each panels should be shared. But passing\n",
    "        `sharey=False`, each panel has its own y-axis range.\n",
    "    {show_save_ax}\n",
    "\n",
    "\n",
    "    Examples\n",
    "    --------\n",
    "\n",
    "    .. plot::\n",
    "        :context: close-figs\n",
    "\n",
    "        import scanpy as sc\n",
    "        adata = sc.datasets.pbmc68k_reduced()\n",
    "        sc.pl.rank_genes_groups(adata)\n",
    "\n",
    "\n",
    "    Plot top 10 genes (default 20 genes)\n",
    "\n",
    "    .. plot::\n",
    "        :context: close-figs\n",
    "\n",
    "        sc.pl.rank_genes_groups(adata, n_genes=10)\n",
    "\n",
    "    .. currentmodule:: scanpy\n",
    "\n",
    "    See also\n",
    "    --------\n",
    "    tl.rank_genes_groups\n",
    "\n",
    "    \"\"\"\n",
    "    if bold_genes is None:\n",
    "        bold_genes = []\n",
    "    if n_genes < 1:\n",
    "        raise NotImplementedError(\n",
    "            \"Specifying a negative number for n_genes has not been implemented for \"\n",
    "            f\"this plot. Received n_genes={n_genes}.\"\n",
    "        )\n",
    "\n",
    "    reference = str(adata.uns[key]['params']['reference'])\n",
    "    gene_names = adata.uns[key]['names'][group_name][:n_genes]\n",
    "    scores = adata.uns[key]['scores'][group_name][:n_genes]\n",
    "    \n",
    "    ymin = 0\n",
    "    ymax = np.max(scores)\n",
    "    ymax += 0.3 * (ymax - ymin)\n",
    "    ax.set_ylim(ymin, ymax)\n",
    "    ax.set_xlim(-0.9, n_genes - 0.1)\n",
    "\n",
    "    # Mapping to gene_symbols\n",
    "    if gene_symbols is not None:\n",
    "        if adata.raw is not None and adata.uns[key]['params']['use_raw']:\n",
    "            gene_names = adata.raw.var[gene_symbols][gene_names]\n",
    "        else:\n",
    "            gene_names = adata.var[gene_symbols][gene_names]\n",
    "\n",
    "    # Making labels\n",
    "    for ig, gene_name in enumerate(gene_names):\n",
    "        if gene_name in bold_genes:\n",
    "            ax.text(\n",
    "                    ig,\n",
    "                    scores[ig],\n",
    "                    gene_name,\n",
    "                    rotation='vertical',\n",
    "                    verticalalignment='bottom',\n",
    "                    horizontalalignment='center',\n",
    "                    fontsize=fontsize,\n",
    "                    weight=\"bold\"\n",
    "                )\n",
    "        else:\n",
    "            ax.text(\n",
    "                    ig,\n",
    "                    scores[ig],\n",
    "                    gene_name,\n",
    "                    rotation='vertical',\n",
    "                    verticalalignment='bottom',\n",
    "                    horizontalalignment='center',\n",
    "                    fontsize=fontsize\n",
    "                )\n",
    "\n",
    "    ax.set_title(title if title is not None else '{} vs. {}'.format(group_name, reference))\n",
    "    \n",
    "    ax.set_xlabel('ranking')\n",
    "    ax.set_ylabel('score')"
   ]
  },
  {
   "cell_type": "markdown",
   "id": "e017ff5d-33b1-46e5-adf7-2edcb8e2ce85",
   "metadata": {},
   "source": [
    "## Set Parameters\n"
   ]
  },
  {
   "cell_type": "code",
   "execution_count": 8,
   "id": "02054f39-218e-4306-8675-e084bb4dc799",
   "metadata": {
    "tags": []
   },
   "outputs": [],
   "source": [
    "import mplscience\n",
    "mplscience.set_style()\n",
    "plt.rcParams[\"legend.scatterpoints\"] = 1"
   ]
  },
  {
   "cell_type": "code",
   "execution_count": 9,
   "id": "a47b0d87-309a-4baa-a705-5c4c8b44d2b8",
   "metadata": {
    "tags": []
   },
   "outputs": [],
   "source": [
    "gene_groups ={\n",
    "    \"migration\": [\n",
    "        \"AKAP12\",\"ITGB1-DT\",\"FMNL2\",\"ITGA2\",\"TNFAIP8\",\"PLOD2\",\"ITGAV\",\"BICC1\",\"TPM1\",\"KLHL29\",\"CREB5\",\"DTNA\",\"MIR4435-2HG\",\"GMDS\",\n",
    "        \"ANXA2\",\"NDRG1\",\"GNA13\",\"DGKH\",\"AL359313.1\",\n",
    "        \"RAB3B\",\"MKL1\",\"PRKCA\",\"AL138828.1\",\"PRAG1\",\"SLC38A1\",\"CYTOR\",\"HKDC1\",\"PTPRM\",\"ASAP1\",\"FLNB\",\"DUSP5\",\"SAMD4A\",\n",
    "        \"FAT1\",\"UBASH3B\",\"MAP4K4\",\"TXNRD1\",\"LPGAT1\",\"LUCAT1\",\n",
    "        \"MYH9\",\"BCL2L1\",\"SERPINE1\",\"PALLD\",\"CBLB\",\"PKN2-AS1\",\"HIF1A\",\"ASPH\",\"ARHGAP12\",\"FAM13A\",\"RELN\",\"ITGB5\"\n",
    "    ],\n",
    "    \"cycling\": [\n",
    "        \"MCM5\", \"PCNA\", \"TYMS\", \"FEN1\", \"MCM7\",\"MCM4\", \"RRM1\", \"UNG\", \"GINS2\", \"MCM6\", \"CDCA7\", \"DTL\", \"PRIM1\", \"UHRF1\",\n",
    "        \"CENPU\", \"HELLS\", \"RFC2\", \"POLR1B\",\"NASP\",\"RAD51AP1\", \"GMNN\", \"WDR76\", \"SLBP\", \"CCNE2\", \"UBR7\", \"POLD3\", \"MSH2\", \"ATAD2\", \"RAD51\", \"RRM2\", \"CDC45\", \"CDC6\", \"EXO1\", \"TIPIN\", \"DSCC1\",\n",
    "        \"BLM\", \"CASP8AP2\", \"USP1\",\"CLSPN\", \"POLA1\", \"CHAF1B\", \"MRPL36\", \"E2F8\", \"HMGB2\",\"CDK1\", \"NUSAP1\", \"UBE2C\",\"BIRC5\",\"TPX2\", \"TOP2A\",\"NDC80\" ,\n",
    "        \"CKS2\", \"NUF2\", \"CKS1B\", \"MKI67\",\"TMPO\", \"CENPF\",\"TACC3\",\"PIMREG\", \"SMC4\", \"CCNB2\", \"CKAP2L\", \"CKAP2\", \"AURKB\", \"BUB1\", \"KIF11\",\"ANP32E\", \"TUBB4B\", \"GTSE1\", \n",
    "        \"KIF20B\", \"HJURP\", \"CDCA3\",\"JPT1\", \"CDC20\", \"TTK\", \n",
    "        \"CDC25C\", \"KIF2C\", \"RANGAP1\", \"NCAPD2\", \"DLGAP5\", \"CDCA2\", \"CDCA8\", \"ECT2\", \"KIF23\", \"HMMR\", \"AURKA\",\"PSRC1\",\n",
    "        \"ANLN\", \"LBR\",\"CKAP5\",\"CENPE\", \"CTCF\", \"NEK2\", \"G2E3\", \"GAS2L3\", \"CBX5\", \"CENPA\"\n",
    "    ],\n",
    "    \"hepatocytes\": [\n",
    "        \"TTR\",\"TF\",\"HP\",\"CYP2A6\", \"CYP2E1\",\"CYP3A4\", \"HAL\"\n",
    "    ],\n",
    "    \"myofibroblasts\": [\n",
    "        \"ACTA2\",\"COL1A1\",\"COL1A2\",\"COL3A1\"\n",
    "    ],\n",
    "    \"portal\": [\n",
    "        \"Pigr\",\"Hsd17b13\",\"Gls2\",\"Hal\",\"Sds\",\"Aldob\",\"Rida\",\"Hpx\",\"Cyp2f2\",\"Uox\",\"Serpina12\",\"Mup20\"\n",
    "    ],\n",
    "    \"central\" : [\n",
    "       \"Aldh2\", \"Aldh1a1\",\"Cyp2e1\",\"Gsta3\",\"Cyb5a\",\"Cyp3a11\",\"Cyp2c29\",\"Elovl3\",\"Ang\",\n",
    "        \"Slco1b2\",\"Akr1c6\",\"Car3\",\"Rgn\",\"Gstm1\",\"Mup11\",\"Sult2a8\",\"Csad\",\n",
    "        \"Rnase4\",\"Pon1\",\"Lect2\",\"Cyp2d9\",\"Mgst1\",\"Cyp2c67\"]\n",
    "}"
   ]
  },
  {
   "cell_type": "code",
   "execution_count": 10,
   "id": "faa104df-9f4d-476e-9aed-41f9d768a428",
   "metadata": {
    "tags": []
   },
   "outputs": [],
   "source": [
    "for gr in gene_groups:\n",
    "    gene_groups[gr] = [x.capitalize() for x in gene_groups[gr]]"
   ]
  },
  {
   "cell_type": "markdown",
   "id": "e1011a8e-c8f9-402f-86b4-d8c8f77e47d6",
   "metadata": {},
   "source": [
    "Use `R` to download `mouse` geneset\n",
    "\n",
    "```{R}\n",
    "library(progeny)\n",
    "model_data <- progeny::model_mouse_full\n",
    "\n",
    "write.table(model_data ,'./progeny_mouse_geneset.txt')\n",
    "```"
   ]
  },
  {
   "cell_type": "code",
   "execution_count": 11,
   "id": "c911737f-427b-4043-8018-6bf8accf3d8c",
   "metadata": {
    "tags": []
   },
   "outputs": [],
   "source": [
    "gene_set = pd.read_csv(DATA_DIR + \"progeny_mouse_geneset.txt\", sep=\" \")\n",
    "gene_set.rename(columns = {'gene':'target','pathway':'source','p.value':'p_value'},inplace = True)\n",
    "gene_set = gene_set.reindex(columns=['source','target','weight','p_value'])\n",
    "\n",
    "n_genes = 100\n",
    "gene_set = gene_set.sort_values('p_value').groupby('source').head(n_genes).sort_values(['source', 'p_value']).reset_index()"
   ]
  },
  {
   "cell_type": "code",
   "execution_count": 12,
   "id": "707c8a6e-0bc5-4c51-a514-a5b1a339a9e6",
   "metadata": {
    "tags": []
   },
   "outputs": [],
   "source": [
    "order =  [ \n",
    "    'APAP_24h_S1_mouse', \n",
    "    'APAP_24h_S2_mouse',\n",
    "    'APAP_36h_S1_mouse',\n",
    "    'APAP_36h_S2_mouse',\n",
    "    'APAP_48h_S1_mouse', \n",
    "    'APAP_48h_S2_mouse',\n",
    "    'APAP_48h_S3_mouse',\n",
    "    'APAP_48h_S4_mouse'\n",
    "]"
   ]
  },
  {
   "cell_type": "code",
   "execution_count": 13,
   "id": "8caf8747-6f18-4d1b-861d-916f648c30f9",
   "metadata": {
    "tags": []
   },
   "outputs": [],
   "source": [
    "sift_leiden_colors = [\"#F0F0C9\",\"#124E78\",\"#F2BB05\", \"#D74E09\",\"#6E0E0A\"]\n",
    "sample_colors = [\"#a6cee3\", \"#1f78b4\",\"#b2df8a\", \"#33a02c\",\"#995e24\", \"#FF9E3D\", \"#ffc48a\", \"#FFE7CF\"]"
   ]
  },
  {
   "cell_type": "markdown",
   "id": "bf416cea-fc32-479e-8465-70e9b4731c0a",
   "metadata": {
    "tags": []
   },
   "source": [
    "## Load data"
   ]
  },
  {
   "cell_type": "code",
   "execution_count": null,
   "id": "0e7927ad-3e0d-49f1-a6d4-a20c65a5ae77",
   "metadata": {},
   "outputs": [],
   "source": [
    "adatas = {}\n",
    "for filename in os.listdir(DATA_DIR):\n",
    "    if \"mouse.h5ad\" in filename:\n",
    "        if \"APAP\" in filename:\n",
    "            key = filename.split(\"adata_\")[1].split(\".\")[0]\n",
    "            adatas[key] = sc.read(DATA_DIR + filename)\n",
    "            sc.tl.leiden(adatas[key], resolution = 0.5)\n",
    "            sq.gr.spatial_neighbors(adatas[key])\n",
    "            sq.gr.interaction_matrix(adatas[key], cluster_key=\"leiden\")"
   ]
  },
  {
   "cell_type": "code",
   "execution_count": null,
   "id": "195e4431-ac31-48d8-9052-7f00845b721d",
   "metadata": {
    "tags": []
   },
   "outputs": [],
   "source": [
    "fig, axs = plt.subplots(2, 4, figsize=(12, 6))\n",
    "idx = 0\n",
    "for idx, key in enumerate(order):\n",
    "    i,j = np.unravel_index(idx, (2,4))\n",
    "    sq.plt.spatial_scatter(adatas[key], color=\"leiden\", size=6, title=key.split(\"APAP_\")[1].split(\"_mouse\")[0], ax=axs[i,j])        \n",
    "    \n",
    "plt.tight_layout()\n",
    "plt.show()"
   ]
  },
  {
   "cell_type": "code",
   "execution_count": null,
   "id": "edc22f6c-88eb-45ba-aaaf-af7453b752b1",
   "metadata": {
    "tags": []
   },
   "outputs": [],
   "source": [
    "fig, axs = plt.subplots(2, 4, figsize=(12, 4))\n",
    "idx = 0\n",
    "for idx, key in enumerate(order):\n",
    "    i,j = np.unravel_index(idx, (2,4))\n",
    "    sq.pl.interaction_matrix(adatas[key], cluster_key=\"leiden\", title=key.split(\"APAP_\")[1].split(\"_mouse\")[0], ax=axs[i,j])\n",
    "    \n",
    "plt.tight_layout()\n",
    "plt.show()"
   ]
  },
  {
   "cell_type": "code",
   "execution_count": null,
   "id": "bfa4e7ac-9e5b-4b46-a4af-ad9adb44c8fa",
   "metadata": {
    "tags": []
   },
   "outputs": [],
   "source": [
    "fig, axs = plt.subplots(1, 1, figsize=(3, 3))\n",
    "\n",
    "sq.pl.spatial_scatter(adatas[\"APAP_36h_S1_mouse\"], color=\"Anxa2\", size=2, title=\"\", ax=axs)        \n",
    "plt.tight_layout()\n",
    "plt.savefig(FIG_DIR + \"spatial_example.png\",  dpi=300, bbox_inches=\"tight\", transparent=True)\n",
    "\n",
    "plt.show()"
   ]
  },
  {
   "cell_type": "markdown",
   "id": "3d675aae-6036-4326-bdf4-f9dda3d3d785",
   "metadata": {
    "tags": []
   },
   "source": [
    "## Create merge"
   ]
  },
  {
   "cell_type": "code",
   "execution_count": null,
   "id": "dcae942e-47f3-461e-a78c-61729e7815d9",
   "metadata": {
    "tags": []
   },
   "outputs": [],
   "source": [
    "adatas_APAP = sc.concat({key: adatas[key] for key in adatas.keys()}, label=\"sample\")"
   ]
  },
  {
   "cell_type": "code",
   "execution_count": null,
   "id": "dde7ddba-0dea-4dde-ac8d-4310a1943b49",
   "metadata": {
    "tags": []
   },
   "outputs": [],
   "source": [
    "adatas_APAP.obs[\"time\"] = [float(x.split(\"_\")[1].split(\"h\")[0]) for x in adatas_APAP.obs[\"sample\"]]\n",
    "adatas_APAP.obs[\"time\"]  = adatas_APAP.obs[\"time\"].astype(\"category\")"
   ]
  },
  {
   "cell_type": "code",
   "execution_count": null,
   "id": "ea24d5c0-bcbe-4c3e-bb69-e58ee1cec0b0",
   "metadata": {
    "tags": []
   },
   "outputs": [],
   "source": [
    "process_adata(\n",
    "    adatas_APAP, \n",
    "    use_rep=\"X_pca_harmony\", \n",
    "    resolution=0.5, \n",
    "    pseudocount=False\n",
    ")\n",
    "sc.tl.rank_genes_groups(adatas_APAP, groupby=\"leiden\", use_raw=False)\n",
    "sc.pl.rank_genes_groups(adatas_APAP)\n",
    "\n",
    "for gr, genes in gene_groups.items():\n",
    "    print(f\"scoring {gr} genes.\")\n",
    "    sc.tl.score_genes(adatas_APAP, gene_list=genes, score_name=f\"{gr}_score\")\n",
    "    \n",
    "dc.run_mlm(mat=adatas_APAP, net=gene_set, source='source', target='target', weight='weight', verbose=False, use_raw=False)\n",
    "for col in adatas_APAP.obsm[\"mlm_estimate\"]:\n",
    "    adatas_APAP.obs[f\"{col}_score\"] = adatas_APAP.obsm[\"mlm_estimate\"][col]"
   ]
  },
  {
   "cell_type": "code",
   "execution_count": null,
   "id": "63ee8fa2-76c3-40e3-a7a3-4331600c2f83",
   "metadata": {
    "tags": []
   },
   "outputs": [],
   "source": [
    "adatas_APAP.obs[\"central_score\"] = (adatas_APAP.obs[\"central_score\"] - adatas_APAP.obs[\"central_score\"].min()) / (adatas_APAP.obs[\"central_score\"].max() - adatas_APAP.obs[\"central_score\"].min())\n",
    "adatas_APAP.obs[\"portal_score\"] = (adatas_APAP.obs[\"portal_score\"] - adatas_APAP.obs[\"portal_score\"].min()) / (adatas_APAP.obs[\"portal_score\"].max() - adatas_APAP.obs[\"portal_score\"].min())\n",
    "adatas_APAP.obs[\"zonation_specifity_score\"] = adatas_APAP.obs[\"central_score\"] / (adatas_APAP.obs[\"central_score\"] + adatas_APAP.obs[\"portal_score\"] )"
   ]
  },
  {
   "cell_type": "code",
   "execution_count": null,
   "id": "a531d39d-c6fa-43ab-b7c7-3d9d7866cb9e",
   "metadata": {
    "tags": []
   },
   "outputs": [],
   "source": [
    "adatas_APAP.obs[\"sample\"] = adatas_APAP.obs[\"sample\"].cat.reorder_categories(order)\n",
    "adatas_APAP.obs[\"leiden_samples\"] = adatas_APAP.obs[\"leiden\"].copy()"
   ]
  },
  {
   "cell_type": "code",
   "execution_count": null,
   "id": "611ceebd-abf3-4784-b133-842182675449",
   "metadata": {
    "tags": []
   },
   "outputs": [],
   "source": [
    "fig, axs = plt.subplots(2, 4, figsize=(12, 6))\n",
    "\n",
    "for idx, sample in enumerate(adatas_APAP.obs[\"sample\"].cat.categories):\n",
    "    adatas[sample].obs[\"leiden_orig\"] = adatas_APAP[adatas_APAP.obs[\"sample\"].isin([sample])].obs[\"leiden\"].copy()\n",
    "    sq.gr.spatial_neighbors(adatas[sample])\n",
    "    sq.gr.interaction_matrix(adatas[sample], cluster_key=\"leiden_orig\")\n",
    "    adatas_APAP.uns[f\"leiden_sample_interactions_{sample}\"] = adatas[sample].uns[\"leiden_interactions\"].copy()\n",
    "    adatas_APAP.uns[f\"leiden_orig_interactions_{sample}\"] = adatas[sample].uns[\"leiden_orig_interactions\"].copy()\n",
    "    \n",
    "    # del adatas[sample].uns[\"leiden_orig_colors\"]\n",
    "    i,j = np.unravel_index(idx, (2,4))\n",
    "    sq.pl.spatial_scatter(adatas[sample], \n",
    "                          color=\"leiden_orig\", \n",
    "                          size=6, \n",
    "                          title=sample.split(\"APAP_\")[1].split(\"_mouse\")[0], ax=axs[i,j],\n",
    "                          palette=\"Dark2\",\n",
    "                          legend_loc=None\n",
    "                         ) \n",
    "    \n",
    "plt.tight_layout()\n",
    "plt.savefig(FIG_DIR + \"leiden_orig.png\",  dpi=300, bbox_inches=\"tight\", transparent=True)\n",
    "\n",
    "plt.show()"
   ]
  },
  {
   "cell_type": "code",
   "execution_count": null,
   "id": "ecf3d971-5592-4b7e-b1f9-6305e90e2dc7",
   "metadata": {
    "tags": []
   },
   "outputs": [],
   "source": [
    "fig, axs = plt.subplots(2, 4, figsize=(12, 6))\n",
    "\n",
    "for idx, sample in enumerate(adatas_APAP.obs[\"sample\"].cat.categories):\n",
    "    adatas[sample].obs[\"leiden_orig\"] = adatas_APAP[adatas_APAP.obs[\"sample\"].isin([sample])].obs[\"leiden\"].copy()\n",
    "    sq.gr.spatial_neighbors(adatas[sample])\n",
    "    sq.gr.interaction_matrix(adatas[sample], cluster_key=\"leiden_orig\")\n",
    "    adatas_APAP.uns[f\"leiden_sample_interactions_{sample}\"] = adatas[sample].uns[\"leiden_interactions\"].copy()\n",
    "    adatas_APAP.uns[f\"leiden_orig_interactions_{sample}\"] = adatas[sample].uns[\"leiden_orig_interactions\"].copy()\n",
    "    \n",
    "    # del adatas[sample].uns[\"leiden_orig_colors\"]\n",
    "    i,j = np.unravel_index(idx, (2,4))\n",
    "    sq.pl.spatial_scatter(adatas[sample], \n",
    "                          color=\"leiden_orig\", \n",
    "                          size=6, \n",
    "                          title=sample.split(\"APAP_\")[1].split(\"_mouse\")[0], ax=axs[i,j],\n",
    "                          palette=\"Dark2\"\n",
    "                         ) \n",
    "    \n",
    "plt.tight_layout()\n",
    "plt.savefig(FIG_DIR + \"leiden_orig_legend.png\",  dpi=300, bbox_inches=\"tight\", transparent=True)\n",
    "\n",
    "plt.show()"
   ]
  },
  {
   "cell_type": "code",
   "execution_count": null,
   "id": "c84b6b79-43e2-4dca-8b09-12e05351f157",
   "metadata": {
    "tags": []
   },
   "outputs": [],
   "source": [
    "fig, axs = plt.subplots(2, 4, figsize=(12, 6))\n",
    "\n",
    "for idx, sample in enumerate(adatas_APAP.obs[\"sample\"].cat.categories):\n",
    "    df = pd.DataFrame(adatas[sample].uns[\"leiden_orig_interactions\"].copy(), \n",
    "                      index=adatas[sample].obs[\"leiden_orig\"].cat.categories, \n",
    "                      columns=adatas[sample].obs[\"leiden_orig\"].cat.categories\n",
    "                     )\n",
    "    \n",
    "    i,j = np.unravel_index(idx, (2,4))\n",
    "    sns.heatmap(df, ax=axs[i,j], cmap=\"coolwarm\", cbar=False)\n",
    "    axs[i,j].set_title(sample.split(\"APAP_\")[1].split(\"_mouse\")[0])\n",
    "    \n",
    "plt.tight_layout()\n",
    "plt.savefig(FIG_DIR + \"leiden_orig_spatial_corr.png\",  dpi=300, bbox_inches=\"tight\", transparent=True)\n",
    "\n",
    "plt.show()"
   ]
  },
  {
   "cell_type": "code",
   "execution_count": null,
   "id": "c6db0573-42df-490f-a5e3-0431c1fed613",
   "metadata": {
    "tags": []
   },
   "outputs": [],
   "source": [
    "fig, axs = plt.subplots(2, 4, figsize=(12, 6))\n",
    "\n",
    "for idx, sample in enumerate(adatas_APAP.obs[\"sample\"].cat.categories):\n",
    "    df = pd.DataFrame(adatas[sample].uns[\"leiden_orig_interactions\"].copy(), \n",
    "                      index=adatas[sample].obs[\"leiden_orig\"].cat.categories, \n",
    "                      columns=adatas[sample].obs[\"leiden_orig\"].cat.categories\n",
    "                     )\n",
    "    \n",
    "    i,j = np.unravel_index(idx, (2,4))\n",
    "    sns.heatmap(df, ax=axs[i,j], cmap=\"coolwarm\")\n",
    "    \n",
    "plt.tight_layout()\n",
    "plt.savefig(FIG_DIR + \"leiden_orig_spatial_corr_cbar.png\",  dpi=300, bbox_inches=\"tight\", transparent=True)\n",
    "\n",
    "plt.show()"
   ]
  },
  {
   "cell_type": "code",
   "execution_count": null,
   "id": "e65ab100-455e-4757-af44-75d4bc94a144",
   "metadata": {},
   "outputs": [],
   "source": [
    "fig, axs = plt.subplots(2, 3, figsize=(18, 6))\n",
    "sc.pl.umap(adatas_APAP, color=[\"sample\"], ax=axs[0, 0], show=False, frameon=False)\n",
    "sc.pl.umap(adatas_APAP, color=[\"leiden\"], ax=axs[0, 1], show=False, frameon=False)\n",
    "sc.pl.umap(adatas_APAP, color=[\"leiden_samples\"], ax=axs[0, 2], show=False, frameon=False)\n",
    "sc.pl.umap(adatas_APAP, color=[\"migration_score\"], ax=axs[1, 0], show=False, frameon=False)\n",
    "sc.pl.umap(adatas_APAP, color=[\"zonation_specifity_score\"], ax=axs[1, 1], show=False, frameon=False)\n",
    "sc.pl.umap(adatas_APAP, color=[\"Anxa2\"], ax=axs[1, 2], show=False, frameon=False)\n",
    "    \n",
    "\n",
    "plt.tight_layout()\n",
    "plt.show()"
   ]
  },
  {
   "cell_type": "code",
   "execution_count": null,
   "id": "64e295e9-e3c3-4421-aea0-fc40a853de5e",
   "metadata": {
    "tags": []
   },
   "outputs": [],
   "source": [
    "adatas_APAP.write(DATA_DIR + f\"adatas_mouse_APAP.h5ad\")"
   ]
  },
  {
   "cell_type": "code",
   "execution_count": null,
   "id": "ebcead67-0878-4362-bc93-b57d76f9b5f1",
   "metadata": {
    "tags": []
   },
   "outputs": [],
   "source": [
    "with open(DATA_DIR + f\"adatas_mouse_APAP.pkl\", \"wb\") as handle:\n",
    "    pkl.dump(adatas, handle)"
   ]
  },
  {
   "cell_type": "markdown",
   "id": "610928cc-5354-41bc-b1be-847f3faa7fe0",
   "metadata": {
    "tags": []
   },
   "source": [
    "## Load processed"
   ]
  },
  {
   "cell_type": "code",
   "execution_count": 14,
   "id": "7e6d5936-af1e-4678-8c98-7aa3ee552e3f",
   "metadata": {
    "tags": []
   },
   "outputs": [],
   "source": [
    "adatas_APAP = sc.read(DATA_DIR + f\"adatas_mouse_APAP.h5ad\")"
   ]
  },
  {
   "cell_type": "code",
   "execution_count": null,
   "id": "a72347cb-654e-4262-a3d5-b1d867893840",
   "metadata": {
    "tags": []
   },
   "outputs": [],
   "source": [
    "with open(DATA_DIR + f\"adatas_mouse_APAP.pkl\", \"rb\") as handle:\n",
    "    adatas = pkl.load(handle)"
   ]
  },
  {
   "cell_type": "markdown",
   "id": "151c5a24-ed21-4932-b295-4bbae47b8a16",
   "metadata": {
    "tags": []
   },
   "source": [
    "## Apply `SiFT`"
   ]
  },
  {
   "cell_type": "code",
   "execution_count": null,
   "id": "9c7532a4-fb9f-4420-b365-bfed465f5bd5",
   "metadata": {
    "tags": []
   },
   "outputs": [],
   "source": [
    "adatas_sift = {}"
   ]
  },
  {
   "cell_type": "markdown",
   "id": "cc4d8309-6774-4e5c-8ed0-b48dda215f0f",
   "metadata": {
    "jp-MarkdownHeadingCollapsed": true,
    "tags": []
   },
   "source": [
    "Filter the control signal"
   ]
  },
  {
   "cell_type": "code",
   "execution_count": null,
   "id": "694ab0ad",
   "metadata": {
    "tags": []
   },
   "outputs": [],
   "source": [
    "for key, adata in adatas.items():\n",
    "    adatas_sift[key] = sift.sifter(\n",
    "        adata=adata,\n",
    "        kernel_key=\"spatial\",\n",
    "        metric=\"rbf\",\n",
    "        embedding_key=\"X\",\n",
    "        pseudocount=False,\n",
    "        kernel_params= {\"ignore_self\": True, \"length_scale\": 1},\n",
    "        copy=True\n",
    "    )\n",
    "        \n",
    "    adatas_sift[key].layers[\"X_orig\"] = adata.X.copy()"
   ]
  },
  {
   "cell_type": "code",
   "execution_count": null,
   "id": "2b72acb2-ee5a-435e-b590-6e802b2dcb65",
   "metadata": {
    "tags": []
   },
   "outputs": [],
   "source": [
    "adatas_APAP_sift = sc.concat({key: adatas_sift[key] for key in adatas_sift.keys()}, label=\"sample\")"
   ]
  },
  {
   "cell_type": "code",
   "execution_count": null,
   "id": "14401426-bb11-46d1-8ccb-1b3fd2ed1ffe",
   "metadata": {
    "tags": []
   },
   "outputs": [],
   "source": [
    "process_adata(\n",
    "        adatas_APAP_sift, \n",
    "        use_rep=\"X_pca\",\n",
    "        resolution=0.5,\n",
    "        pseudocount = \"layer\"\n",
    ")\n",
    "\n",
    "sc.tl.rank_genes_groups(adatas_APAP_sift, groupby=\"leiden\", layer=\"pseudocount\")\n",
    "sc.pl.rank_genes_groups(adatas_APAP_sift)\n",
    "\n",
    "for gr, genes in gene_groups.items():\n",
    "    print(f\"scoring {gr} genes.\")\n",
    "    sc.tl.score_genes(adatas_APAP_sift, gene_list=genes, score_name=f\"{gr}_score\", use_raw=False)\n",
    "\n",
    "dc.run_mlm(mat=adatas_APAP_sift, net=gene_set, source='source', target='target', weight='weight', verbose=False, use_raw=False)\n",
    "for col in adatas_APAP_sift.obsm[\"mlm_estimate\"]:\n",
    "    adatas_APAP_sift.obs[f\"{col}_score\"] = adatas_APAP_sift.obsm[\"mlm_estimate\"][col]\n",
    "    \n",
    "adatas_APAP_sift.obs[\"central_score\"] = (adatas_APAP_sift.obs[\"central_score\"] - adatas_APAP_sift.obs[\"central_score\"].min()) / (adatas_APAP_sift.obs[\"central_score\"].max() - adatas_APAP_sift.obs[\"central_score\"].min())\n",
    "adatas_APAP_sift.obs[\"portal_score\"] = (adatas_APAP_sift.obs[\"portal_score\"] - adatas_APAP_sift.obs[\"portal_score\"].min()) / (adatas_APAP_sift.obs[\"portal_score\"].max() - adatas_APAP_sift.obs[\"portal_score\"].min())\n",
    "adatas_APAP_sift.obs[\"zonation_specifity_score\"] = adatas_APAP_sift.obs[\"central_score\"] / (adatas_APAP_sift.obs[\"central_score\"] + adatas_APAP_sift.obs[\"portal_score\"] )"
   ]
  },
  {
   "cell_type": "code",
   "execution_count": null,
   "id": "846568fd-72ba-4ed4-a717-128f2dd3d63f",
   "metadata": {
    "tags": []
   },
   "outputs": [],
   "source": [
    "adatas_APAP_sift.obs[\"time\"] = [float(x.split(\"_\")[1].split(\"h\")[0]) for x in adatas_APAP_sift.obs[\"sample\"]]\n",
    "adatas_APAP_sift.obs[\"time\"]  = adatas_APAP_sift.obs[\"time\"].astype(\"category\")\n",
    "\n",
    "adatas_APAP.obs[\"leiden_sift\"]  = adatas_APAP_sift.obs[\"leiden\"].copy()\n",
    "adatas_APAP.obs[\"leiden_orig\"]  = adatas_APAP.obs[\"leiden\"].copy()\n",
    "\n",
    "adatas_APAP_sift.obs[\"leiden_sift\"]  = adatas_APAP_sift.obs[\"leiden\"].copy()\n",
    "adatas_APAP_sift.obs[\"leiden_orig\"]  = adatas_APAP.obs[\"leiden_orig\"].copy()\n",
    "\n",
    "del adatas_APAP_sift.obs[\"leiden\"]\n",
    "del adatas_APAP.obs[\"leiden\"]\n",
    "\n",
    "del adatas_APAP_sift.uns[\"leiden\"]\n",
    "del adatas_APAP.uns[\"leiden\"]"
   ]
  },
  {
   "cell_type": "code",
   "execution_count": null,
   "id": "1ad92af2-6f27-4447-a3a0-cf34d764ef13",
   "metadata": {
    "tags": []
   },
   "outputs": [],
   "source": [
    "sc.tl.rank_genes_groups(adatas_APAP_sift, \n",
    "                        groupby=\"leiden_orig\", \n",
    "                        layer=\"X_orig\", \n",
    "                        key_added=\"rank_genes_groups_orig\",\n",
    "                       )\n"
   ]
  },
  {
   "cell_type": "code",
   "execution_count": null,
   "id": "b836a305-77df-4997-a617-26b36fb3ba33",
   "metadata": {
    "tags": []
   },
   "outputs": [],
   "source": [
    "rank_genes_groups(\n",
    "    adatas_APAP_sift, \n",
    "    bold_genes=gene_groups[\"migration\"], \n",
    "    key=\"rank_genes_groups_orig\",\n",
    "    n_genes=20,\n",
    ")\n",
    "plt.tight_layout()\n",
    "plt.savefig(FIG_DIR + \"rank_genes_orig.png\",  dpi=300, bbox_inches=\"tight\", transparent=True)\n",
    "\n",
    "plt.show()"
   ]
  },
  {
   "cell_type": "code",
   "execution_count": null,
   "id": "88fd2f23-1eb7-472e-8613-ee45e96d9c53",
   "metadata": {
    "tags": []
   },
   "outputs": [],
   "source": [
    "rank_genes_groups(\n",
    "    adatas_APAP_sift, \n",
    "    bold_genes=gene_groups[\"migration\"], \n",
    "    key=\"rank_genes_groups\",\n",
    "    n_genes=20\n",
    ")\n",
    "plt.tight_layout()\n",
    "plt.savefig(FIG_DIR + \"rank_genes_sift.png\",  dpi=300, bbox_inches=\"tight\", transparent=True)\n",
    "\n",
    "plt.show()"
   ]
  },
  {
   "cell_type": "code",
   "execution_count": null,
   "id": "6f70da0b-134b-4f6e-aa36-575815d32704",
   "metadata": {
    "tags": []
   },
   "outputs": [],
   "source": [
    "fig, axs = plt.subplots(1, 1, figsize=(4, 3.5))\n",
    "rank_genes_group(\n",
    "    adatas_APAP_sift,\n",
    "    group_name=\"1\",\n",
    "    bold_genes=[\"Anxa2\"], \n",
    "    show=False, \n",
    "    ax=axs, \n",
    "    fontsize=10,\n",
    "    title=\"migrating vs. rest\"\n",
    ")\n",
    "\n",
    "plt.tight_layout()\n",
    "plt.savefig(FIG_DIR + \"rank_genes_migrating_sift.png\",  dpi=300, bbox_inches=\"tight\", transparent=True)\n",
    "\n",
    "plt.show()"
   ]
  },
  {
   "cell_type": "code",
   "execution_count": null,
   "id": "084faba4-0689-4414-9c98-e2e2334ab974",
   "metadata": {
    "tags": []
   },
   "outputs": [],
   "source": [
    "newcmp = ListedColormap(sift_leiden_colors)"
   ]
  },
  {
   "cell_type": "code",
   "execution_count": null,
   "id": "2772c507-f2bd-4206-9b35-6aa51a7accfa",
   "metadata": {
    "tags": []
   },
   "outputs": [],
   "source": [
    "sns.color_palette(sift_leiden_colors)"
   ]
  },
  {
   "cell_type": "code",
   "execution_count": null,
   "id": "1cf3a477-b517-419e-826a-994cc7072b55",
   "metadata": {
    "tags": []
   },
   "outputs": [],
   "source": [
    "fig, axs = plt.subplots(2, 4, figsize=(12, 6))\n",
    "\n",
    "for idx, sample in enumerate(adatas_APAP.obs[\"sample\"].cat.categories):\n",
    "    adatas[sample].obs[\"leiden_sift\"] = adatas_APAP_sift[adatas_APAP_sift.obs[\"sample\"].isin([sample])].obs[\"leiden_sift\"].copy()\n",
    "    sq.gr.spatial_neighbors(adatas[sample])\n",
    "    sq.gr.interaction_matrix(adatas[sample], cluster_key=\"leiden_sift\")\n",
    "    \n",
    "    adatas_APAP.uns[f\"leiden_sample_interactions_{sample}\"] = adatas[sample].uns[\"leiden_interactions\"].copy()\n",
    "    adatas_APAP.uns[f\"lleiden_sift_interactions_{sample}\"] = adatas[sample].uns[\"leiden_sift_interactions\"].copy()\n",
    "    \n",
    "    # del adatas[sample].uns[\"leiden_sift_colors\"]\n",
    "    i,j = np.unravel_index(idx, (2,4))\n",
    "    sq.pl.spatial_scatter(adatas[sample], \n",
    "                          color=\"leiden_sift\", \n",
    "                          size=6, \n",
    "                          title=sample.split(\"APAP_\")[1].split(\"_mouse\")[0], ax=axs[i,j],\n",
    "                          palette=newcmp,\n",
    "                          legend_loc=None\n",
    "                         ) \n",
    "    \n",
    "plt.tight_layout()\n",
    "plt.savefig(FIG_DIR + \"leiden_sift.png\",  dpi=300, bbox_inches=\"tight\", transparent=True)\n",
    "\n",
    "plt.show()"
   ]
  },
  {
   "cell_type": "code",
   "execution_count": null,
   "id": "85a47698-8dd5-424c-9007-2950801237d6",
   "metadata": {
    "tags": []
   },
   "outputs": [],
   "source": [
    "fig, axs = plt.subplots(2, 4, figsize=(12, 6))\n",
    "\n",
    "for idx, sample in enumerate(adatas_APAP.obs[\"sample\"].cat.categories):\n",
    "    adatas[sample].obs[\"leiden_sift\"] = adatas_APAP_sift[adatas_APAP_sift.obs[\"sample\"].isin([sample])].obs[\"leiden_sift\"].copy()\n",
    "    sq.gr.spatial_neighbors(adatas[sample])\n",
    "    sq.gr.interaction_matrix(adatas[sample], cluster_key=\"leiden_sift\")\n",
    "    \n",
    "    adatas_APAP.uns[f\"leiden_sample_interactions_{sample}\"] = adatas[sample].uns[\"leiden_interactions\"].copy()\n",
    "    adatas_APAP.uns[f\"leiden_sift_interactions_{sample}\"] = adatas[sample].uns[\"leiden_sift_interactions\"].copy()\n",
    "    \n",
    "    del adatas[sample].uns[\"leiden_sift_colors\"]\n",
    "    i,j = np.unravel_index(idx, (2,4))\n",
    "    sq.pl.spatial_scatter(adatas[sample], \n",
    "                          color=\"leiden_sift\", \n",
    "                          size=6, \n",
    "                          title=sample.split(\"APAP_\")[1].split(\"_mouse\")[0], ax=axs[i,j],\n",
    "                          palette=newcmp,\n",
    "                          # legend_loc=None\n",
    "                         ) \n",
    "    \n",
    "plt.tight_layout()\n",
    "plt.savefig(FIG_DIR + \"leiden_sift_legend.png\",  dpi=300, bbox_inches=\"tight\", transparent=True)\n",
    "\n",
    "plt.show()"
   ]
  },
  {
   "cell_type": "code",
   "execution_count": null,
   "id": "d860d589-71fd-4746-b5f1-e32e83feef84",
   "metadata": {
    "tags": []
   },
   "outputs": [],
   "source": [
    "fig, axs = plt.subplots(2, 4, figsize=(12, 6))\n",
    "\n",
    "for idx, sample in enumerate(adatas_APAP.obs[\"sample\"].cat.categories):\n",
    "    df = pd.DataFrame(adatas[sample].uns[\"leiden_sift_interactions\"].copy(), \n",
    "                      index=adatas[sample].obs[\"leiden_sift\"].cat.categories, \n",
    "                      columns=adatas[sample].obs[\"leiden_sift\"].cat.categories\n",
    "                     )\n",
    "    \n",
    "    i,j = np.unravel_index(idx, (2,4))\n",
    "    sns.heatmap(df, ax=axs[i,j], cmap=\"coolwarm\", cbar=False)\n",
    "    axs[i,j].set_title(sample.split(\"APAP_\")[1].split(\"_mouse\")[0])\n",
    "    \n",
    "plt.tight_layout()\n",
    "plt.savefig(FIG_DIR + \"leiden_sift_spatial_corr.png\",  dpi=300, bbox_inches=\"tight\", transparent=True)\n",
    "\n",
    "plt.show()"
   ]
  },
  {
   "cell_type": "code",
   "execution_count": null,
   "id": "34959960-adc9-4a01-a2c8-93c8ae3ba2cc",
   "metadata": {
    "tags": []
   },
   "outputs": [],
   "source": [
    "fig, axs = plt.subplots(2, 4, figsize=(12, 6))\n",
    "\n",
    "for idx, sample in enumerate(adatas_APAP.obs[\"sample\"].cat.categories):\n",
    "    df = pd.DataFrame(adatas[sample].uns[\"leiden_sift_interactions\"].copy(), \n",
    "                      index=adatas[sample].obs[\"leiden_sift\"].cat.categories, \n",
    "                      columns=adatas[sample].obs[\"leiden_sift\"].cat.categories\n",
    "                     )\n",
    "    \n",
    "    i,j = np.unravel_index(idx, (2,4))\n",
    "    sns.heatmap(df, ax=axs[i,j], cmap=\"coolwarm\")\n",
    "    \n",
    "plt.tight_layout()\n",
    "plt.savefig(FIG_DIR + \"leiden_sift_spatial_corr_cbar.png\",  dpi=300, bbox_inches=\"tight\", transparent=True)\n",
    "\n",
    "plt.show()"
   ]
  },
  {
   "cell_type": "code",
   "execution_count": null,
   "id": "66524882-69c8-4d8d-91c4-3b2a4fc086a8",
   "metadata": {
    "tags": []
   },
   "outputs": [],
   "source": [
    "slides = [\"APAP_24h_S1_mouse\", \"APAP_36h_S2_mouse\", \"APAP_48h_S2_mouse\"]"
   ]
  },
  {
   "cell_type": "code",
   "execution_count": null,
   "id": "857dcaf1-8a19-46c0-8468-5b8182832ed3",
   "metadata": {
    "tags": []
   },
   "outputs": [],
   "source": [
    "fig, axs = plt.subplots(3, 2, figsize=(6, 8))\n",
    "\n",
    "for i, sample in enumerate(slides):\n",
    "    \n",
    "    \n",
    "    sq.pl.spatial_scatter(adatas[sample], \n",
    "                          color=\"leiden_orig\", \n",
    "                          size=6, \n",
    "                          title=\"\", \n",
    "                          ax=axs[i,0],\n",
    "                          palette=\"Dark2\",\n",
    "                          legend_loc=None\n",
    "                         ) \n",
    "    \n",
    "    sq.pl.spatial_scatter(adatas[sample], \n",
    "                          color=\"leiden_sift\", \n",
    "                          size=6, \n",
    "                          title=\"\", \n",
    "                          ax=axs[i,1],\n",
    "                          palette=newcmp,\n",
    "                          legend_loc=None\n",
    "                         ) \n",
    "    for j in range(2):\n",
    "        axs[i, j].set_xlabel(\"\")\n",
    "        axs[i, j].set_ylabel(\"\")\n",
    "        \n",
    "    axs[i,0].set_ylabel(sample.split(\"APAP_\")[1].split(\"_\")[0])\n",
    "\n",
    "axs[0,0].set_title(\"Original\")\n",
    "axs[0,1].set_title(\"SiFT\")\n",
    "plt.tight_layout()\n",
    "plt.savefig(FIG_DIR + \"leiden_cmp.png\",  dpi=300, bbox_inches=\"tight\", transparent=True)\n",
    "\n",
    "plt.show()\n",
    "\n"
   ]
  },
  {
   "cell_type": "markdown",
   "id": "41fe4cb9-2990-437f-8bc0-5a19e5b1b7db",
   "metadata": {
    "tags": []
   },
   "source": [
    "## Leiden distribution analysis"
   ]
  },
  {
   "cell_type": "code",
   "execution_count": null,
   "id": "33f5fd6b-6a7b-4495-8cbb-d27082a6d22f",
   "metadata": {},
   "outputs": [],
   "source": [
    "cols = [\n",
    "    'APAP_24h_S1_mouse', \n",
    "    'APAP_24h_S2_mouse',\n",
    "    'APAP_36h_S1_mouse',\n",
    "    'APAP_36h_S2_mouse',\n",
    "    'APAP_48h_S1_mouse',\n",
    "    'APAP_48h_S2_mouse',\n",
    "    'APAP_48h_S3_mouse',\n",
    "    'APAP_48h_S4_mouse',\n",
    "]"
   ]
  },
  {
   "cell_type": "code",
   "execution_count": null,
   "id": "7f4ab06c-dcff-4613-b0c1-5365e252ce9d",
   "metadata": {
    "tags": []
   },
   "outputs": [],
   "source": [
    "df_leiden = adatas_APAP_sift.obs[[\"leiden_orig\", \"leiden_sift\", \"sample\", \"time\"]]"
   ]
  },
  {
   "cell_type": "code",
   "execution_count": null,
   "id": "45b0a133-ec4c-4fc0-8cb6-6ada6b579e2a",
   "metadata": {
    "tags": []
   },
   "outputs": [],
   "source": [
    "res = df_leiden.groupby([\"leiden_orig\", \"sample\"]).size()\n",
    "res_orig = res.reset_index().pivot(index=\"leiden_orig\", columns=\"sample\", values=0).reset_index()\n",
    "res_orig = res_orig.set_index(\"leiden_orig\")\n",
    "sum_ = res_orig.sum(axis=1)\n",
    "res_orig = (res_orig.T/sum_).T"
   ]
  },
  {
   "cell_type": "code",
   "execution_count": null,
   "id": "a8c049e8-bfed-4e00-81ff-84665807ef24",
   "metadata": {
    "tags": []
   },
   "outputs": [],
   "source": [
    "res_orig_sum = res_orig.copy()\n",
    "sum_prev = None\n",
    "for col in cols:\n",
    "    if sum_prev is not None:\n",
    "        sum_prev += res_orig[col]\n",
    "    else:\n",
    "        sum_prev = res_orig[col]\n",
    "    res_orig_sum[col] = sum_prev"
   ]
  },
  {
   "cell_type": "code",
   "execution_count": null,
   "id": "f356975c-5b7c-414b-b2c5-1f9aaa3946de",
   "metadata": {
    "tags": []
   },
   "outputs": [],
   "source": [
    "fig, axs = plt.subplots(1, 1, figsize=(3, 4))\n",
    "\n",
    "for i, col in enumerate(cols[::-1]):\n",
    "    sns.barplot(\n",
    "        x=col, \n",
    "        y=\"leiden_orig\", \n",
    "        data=res_orig_sum.reset_index(),\n",
    "        label=col.split(\"_\")[1].split(\"_mouse\")[0], \n",
    "        color=sample_colors[-(i+1)],\n",
    "        alpha = 1 - i*0.1,\n",
    "        ax=axs\n",
    "    )\n",
    "    \n",
    "\n",
    "# Add a legend and informative axis label\n",
    "handles, labels = plt.gca().get_legend_handles_labels()\n",
    "\n",
    "#add legend to plot\n",
    "leg = axs.legend(\n",
    "    handles[::-1],\n",
    "    labels[::-1], \n",
    "    ncol=2, \n",
    "    loc=\"lower right\",\n",
    "    bbox_to_anchor=(1.1, 1.05),\n",
    "    columnspacing=.2,\n",
    "    handlelength=1,\n",
    "    handletextpad=0.6,\n",
    "    frameon=True\n",
    ")\n",
    "for lh in leg.legendHandles:\n",
    "    lh.set_alpha(1)\n",
    "\n",
    "    \n",
    "axs.set(xlim=(0, 1), ylabel=\"\",\n",
    "       xlabel=\"fraction\",)\n",
    "axs.set_xlabel(\"fraction\", fontsize=14)\n",
    "axs.set_ylabel(\"cluster\", fontsize=14)\n",
    "\n",
    "ticks_loc = axs.get_xticks().tolist()\n",
    "axs.set_xticks(ticks_loc)\n",
    "axs.set_xticklabels([f\"{x:.1f}\" for x in ticks_loc],  fontsize=10)\n",
    "axs.set_yticklabels(axs.get_yticklabels(), fontsize=10)\n",
    "sns.despine(left=True, bottom=True)\n",
    "\n",
    "plt.tight_layout()\n",
    "plt.savefig(FIG_DIR + \"leiden_orig_fractions.png\",  dpi=300, bbox_inches=\"tight\", transparent=True)\n",
    "plt.show()"
   ]
  },
  {
   "cell_type": "code",
   "execution_count": null,
   "id": "b9171f56-7442-4d20-92cc-f7b7c31c5678",
   "metadata": {
    "tags": []
   },
   "outputs": [],
   "source": [
    "res = df_leiden.groupby([\"leiden_sift\", \"sample\"]).size()\n",
    "res_sift = res.reset_index().pivot(index=\"leiden_sift\", columns=\"sample\", values=0).reset_index()\n",
    "res_sift = res_sift.set_index(\"leiden_sift\")\n",
    "sum_ = res_sift.sum(axis=1)\n",
    "res_sift = (res_sift.T/sum_).T"
   ]
  },
  {
   "cell_type": "code",
   "execution_count": null,
   "id": "2f1a8150-1c11-463a-bfc6-fa81ec7b8a4d",
   "metadata": {
    "tags": []
   },
   "outputs": [],
   "source": [
    "res_sift_sum = res_sift.copy()\n",
    "sum_prev = None\n",
    "for col in cols:\n",
    "    if sum_prev is not None:\n",
    "        sum_prev += res_sift[col]\n",
    "    else:\n",
    "        sum_prev = res_sift[col]\n",
    "    res_sift_sum[col] = sum_prev"
   ]
  },
  {
   "cell_type": "code",
   "execution_count": null,
   "id": "b3979d4a-dfd5-4eb2-b468-a8f12e31f4fe",
   "metadata": {
    "tags": []
   },
   "outputs": [],
   "source": [
    "fig, axs = plt.subplots(1, 1, figsize=(3, 3.5))\n",
    "\n",
    "for i, col in enumerate(cols[::-1]):\n",
    "    sns.barplot(\n",
    "        x=col, \n",
    "        y=\"leiden_sift\", \n",
    "        data=res_sift_sum.reset_index(),\n",
    "        label=col.split(\"_\")[1].split(\"_mouse\")[0], \n",
    "        color=sample_colors[-(i+1)],\n",
    "        alpha = 1 - i*0.1,\n",
    "        ax=axs\n",
    "    )\n",
    "    \n",
    "\n",
    "# Add a legend and informative axis label\n",
    "handles, labels = plt.gca().get_legend_handles_labels()\n",
    "\n",
    "#add legend to plot\n",
    "leg = axs.legend(\n",
    "    handles[::-1],\n",
    "    labels[::-1], \n",
    "    ncol=2, \n",
    "    loc=\"lower right\",\n",
    "    bbox_to_anchor=(1.1, 1.05),\n",
    "    columnspacing=.2,\n",
    "    handlelength=1,\n",
    "    handletextpad=0.6,\n",
    "    frameon=True\n",
    ")\n",
    "for lh in leg.legendHandles:\n",
    "    lh.set_alpha(1)\n",
    "\n",
    "    \n",
    "axs.set(xlim=(0, 1), ylabel=\"\",\n",
    "       xlabel=\"fraction\",)\n",
    "axs.set_xlabel(\"fraction\", fontsize=14)\n",
    "axs.set_ylabel(\"cluster\", fontsize=14)\n",
    "\n",
    "ticks_loc = axs.get_xticks().tolist()\n",
    "axs.set_xticks(ticks_loc)\n",
    "axs.set_xticklabels([f\"{x:.1f}\" for x in ticks_loc],  fontsize=10)\n",
    "axs.set_yticklabels(axs.get_yticklabels(), fontsize=10)\n",
    "sns.despine(left=True, bottom=True)\n",
    "\n",
    "plt.tight_layout()\n",
    "plt.savefig(FIG_DIR + \"leiden_sift_fractions.png\",  dpi=300, bbox_inches=\"tight\", transparent=True)\n",
    "plt.show()"
   ]
  },
  {
   "cell_type": "code",
   "execution_count": null,
   "id": "6601eb60-00fb-4779-9343-023161738a59",
   "metadata": {
    "tags": []
   },
   "outputs": [],
   "source": [
    "for cluster in adatas_APAP_sift.obs[\"leiden_sift\"].cat.categories:\n",
    "    ind_genes_names = adatas_APAP_sift.uns[\"rank_genes_groups\"][\"names\"][cluster]\n",
    "    ind_genes_pval = adatas_APAP_sift.uns[\"rank_genes_groups\"][\"pvals_adj\"][cluster]\n",
    "    ind_genes_scores = adatas_APAP_sift.uns[\"rank_genes_groups\"][\"scores\"][cluster]\n",
    "    df_pvalue = pd.DataFrame([ind_genes_names, ind_genes_pval, ind_genes_scores], index=[\"gene\", \"pvalue\", \"scores\"]).T\n",
    "    df_pvalue[df_pvalue[\"pvalue\"] < 0.05].to_csv(DATA_DIR + f\"rank_APAP_{cluster}_rbf.csv\")\n",
    "        "
   ]
  },
  {
   "cell_type": "code",
   "execution_count": null,
   "id": "fc8ff718-2ea5-43d8-b8bc-f00fb097b038",
   "metadata": {
    "tags": []
   },
   "outputs": [],
   "source": [
    "adatas_APAP_sift.write(DATA_DIR + \"adatas_APAP_sift.h5ad\")"
   ]
  },
  {
   "cell_type": "markdown",
   "id": "98a3010c-9fd0-4fce-8d2e-ddc315206c16",
   "metadata": {
    "tags": []
   },
   "source": [
    "## `GO` analysis plot"
   ]
  },
  {
   "cell_type": "code",
   "execution_count": null,
   "id": "cdc2c333-012d-4f94-8318-15ab5e373981",
   "metadata": {},
   "outputs": [],
   "source": [
    "def extract_df_padj(fnames):\n",
    "    dfs = {}\n",
    "    pre_rank = {}\n",
    "    dfs_padj = {}\n",
    "    for key, file in fnames.items():\n",
    "        dfs_padj[key] = pd.read_csv(file)\n",
    "        dfs_padj[key][r\"$-np.log(p_{adj})$\"] = -1*np.log10(dfs_padj[key][\"p.adjust\"]) * np.sign(dfs_padj[key][\"NES\"])\n",
    "        dfs_padj[key] = dfs_padj[key].sort_values(by=r\"$-np.log(p_{adj})$\", ascending=False)\n",
    "    dfs_padj = pd.concat(dfs_padj, join=\"inner\")\n",
    "    dfs_padj = dfs_padj.reset_index(level=[0, 1])\n",
    "    dfs_padj = dfs_padj.rename(columns={\"level_0\": \"cluster group\"})\n",
    "    dfs_padj[\"cluster\"] = [int(x.split(\"clust\")[1]) for x in dfs_padj[\"cluster group\"]]\n",
    "    \n",
    "    dfs_padj[\"Description\"] = [\" \".join(x.split(\" \")[:3] + [\"\\n\"] + x.split(\" \")[3:]) if len(x.split(\" \")) > 3 else x for x in dfs_padj[\"Description\"] ]\n",
    "    return dfs_padj"
   ]
  },
  {
   "cell_type": "code",
   "execution_count": null,
   "id": "bd5796b8-8217-4bb7-99f2-a5216fb4f59f",
   "metadata": {
    "tags": []
   },
   "outputs": [],
   "source": [
    "fnames = {\"clust1\": '/cs/labs/mornitzan/zoe.piran/research/projects/SiFT_analysis/spatial-regenration_liver/data/APAP_clust1_ego.csv'}\n",
    "dfs_padj = extract_df_padj(fnames)"
   ]
  },
  {
   "cell_type": "code",
   "execution_count": null,
   "id": "c003a09a-1f52-40e4-8097-76ba18128588",
   "metadata": {
    "tags": []
   },
   "outputs": [],
   "source": [
    "fig, axs = plt.subplots(1, 1, figsize=(5, 4.5))\n",
    "\n",
    "sns.stripplot(\n",
    "    x=r\"$-np.log(p_{adj})$\",\n",
    "    y=\"Description\", \n",
    "    hue=\"cluster\",\n",
    "    data=dfs_padj[:8], \n",
    "    orient=\"h\",\n",
    "    ax=axs, \n",
    "    palette=[sift_leiden_colors[1]]\n",
    ")\n",
    "\n",
    "axs.legend().remove()\n",
    "axs.set_xlabel(r\"$-np.log(p_{adj})$\", fontsize=14)\n",
    "axs.set_ylabel(\"\")\n",
    "\n",
    "plt.tight_layout()\n",
    "plt.savefig(FIG_DIR + f\"go_enrich_migrating.png\",  dpi=300, transparent=True)\n",
    "\n",
    "plt.show()"
   ]
  },
  {
   "cell_type": "markdown",
   "id": "510f2c1c-7f24-40bd-818c-65a181acbb87",
   "metadata": {
    "tags": []
   },
   "source": [
    "## Analyze time trajectory"
   ]
  },
  {
   "cell_type": "code",
   "execution_count": null,
   "id": "eb9ca1e0-7e33-48c4-9227-756009c13f39",
   "metadata": {
    "tags": []
   },
   "outputs": [],
   "source": [
    "adatas_APAP_sift = sc.read(DATA_DIR + \"adatas_APAP_sift.h5ad\")"
   ]
  },
  {
   "cell_type": "code",
   "execution_count": null,
   "id": "b251960c-75c5-4122-bd59-1ef4b33d4348",
   "metadata": {
    "tags": []
   },
   "outputs": [],
   "source": [
    "cat = \"1\"\n",
    "sc.pl.umap(adatas_APAP_sift[adatas_APAP_sift.obs[\"leiden_sift\"].isin([cat])], \n",
    "           color=[\"time\",\"migration_score\", \"portal_score\"], \n",
    "           frameon=False, \n",
    "           legend_loc=\"on data\")\n",
    "    "
   ]
  },
  {
   "cell_type": "code",
   "execution_count": null,
   "id": "ac4aa0f3-0588-4cba-91db-dd55179c35f7",
   "metadata": {
    "tags": []
   },
   "outputs": [],
   "source": [
    "adatas_APAP_migrating = adatas_APAP_sift[adatas_APAP_sift.obs[\"leiden_sift\"].isin([cat])].copy()\n",
    "adatas_APAP_migrating"
   ]
  },
  {
   "cell_type": "code",
   "execution_count": null,
   "id": "9322b2a7-fbb9-43aa-8811-62b7126734ac",
   "metadata": {},
   "outputs": [],
   "source": [
    "process_adata(\n",
    "        adatas_APAP_migrating, \n",
    "        use_rep=\"X_pca\",\n",
    "        resolution=0.3,\n",
    "        pseudocount = None\n",
    ")\n",
    "sc.tl.rank_genes_groups(adatas_APAP_migrating, groupby=\"leiden\",layer=\"pseudocount\")\n",
    "sc.pl.rank_genes_groups(adatas_APAP_migrating)\n",
    "\n",
    "for gr, genes in gene_groups.items():\n",
    "    print(f\"scoring {gr} genes.\")\n",
    "    sc.tl.score_genes(adatas_APAP_migrating, gene_list=genes, score_name=f\"{gr}_score\", use_raw=False)\n",
    "\n",
    "dc.run_mlm(mat=adatas_APAP_migrating, net=gene_set, source='source', target='target', weight='weight', verbose=False, use_raw=False)\n",
    "for col in adatas_APAP_migrating.obsm[\"mlm_estimate\"]:\n",
    "    adatas_APAP_migrating.obs[f\"{col}_score\"] = adatas_APAP_migrating.obsm[\"mlm_estimate\"][col]\n",
    "    \n",
    "    \n",
    "adatas_APAP_migrating.obs[\"central_score\"] = (adatas_APAP_migrating.obs[\"central_score\"] - adatas_APAP_migrating.obs[\"central_score\"].min()) / (adatas_APAP_migrating.obs[\"central_score\"].max() - adatas_APAP_migrating.obs[\"central_score\"].min())\n",
    "adatas_APAP_migrating.obs[\"portal_score\"] = (adatas_APAP_migrating.obs[\"portal_score\"] - adatas_APAP_migrating.obs[\"portal_score\"].min()) / (adatas_APAP_migrating.obs[\"portal_score\"].max() - adatas_APAP_migrating.obs[\"portal_score\"].min())\n",
    "adatas_APAP_migrating.obs[\"zonation_specifity_score\"] = adatas_APAP_migrating.obs[\"central_score\"] / (adatas_APAP_migrating.obs[\"central_score\"] + adatas_APAP_migrating.obs[\"portal_score\"] )"
   ]
  },
  {
   "cell_type": "code",
   "execution_count": null,
   "id": "ba5f94b8-7c61-4ea9-a9fc-dc426a8500a4",
   "metadata": {
    "tags": []
   },
   "outputs": [],
   "source": [
    "fig, axs = plt.subplots(2, 3, figsize=(12, 6))\n",
    "sc.pl.umap(adatas_APAP_migrating, color=[\"leiden\"], ax=axs[0, 0], show=False, frameon=False, legend_loc=\"on data\")\n",
    "sc.pl.umap(adatas_APAP_migrating, color=[\"time\"], ax=axs[0, 1], show=False, frameon=False, legend_loc=\"on data\")\n",
    "sc.pl.umap(adatas_APAP_migrating, color=[\"sample\"], ax=axs[0, 2], show=False, frameon=False)\n",
    "sc.pl.umap(adatas_APAP_migrating, color=[\"central_score\"], ax=axs[1, 0], show=False, frameon=False)\n",
    "sc.pl.umap(adatas_APAP_migrating, color=[\"portal_score\"], ax=axs[1, 1], show=False, frameon=False)\n",
    "sc.pl.umap(adatas_APAP_migrating, color=[\"Anxa2\"], ax=axs[1, 2], show=False, frameon=False)\n",
    "\n",
    "plt.tight_layout()\n",
    "plt.show()"
   ]
  },
  {
   "cell_type": "code",
   "execution_count": null,
   "id": "7e88ea18-f703-4d70-9484-e49460d6183a",
   "metadata": {
    "tags": []
   },
   "outputs": [],
   "source": [
    "sc.pl.pca_variance_ratio(adatas_APAP_migrating)"
   ]
  },
  {
   "cell_type": "code",
   "execution_count": null,
   "id": "3cbfbe35-2512-4e40-a29e-d2d74c314226",
   "metadata": {
    "tags": []
   },
   "outputs": [],
   "source": [
    "scf.tl.curve(adatas_APAP_migrating, Nodes=30, use_rep=\"X_umap\", ndims_rep=2)"
   ]
  },
  {
   "cell_type": "code",
   "execution_count": null,
   "id": "3da9ded9-6288-4b9d-8824-5c94a29aa8c6",
   "metadata": {
    "tags": []
   },
   "outputs": [],
   "source": [
    "scf.pl.graph(adatas_APAP_migrating, basis=\"umap\")"
   ]
  },
  {
   "cell_type": "code",
   "execution_count": null,
   "id": "64921c33-1679-40a9-944c-8ac7a75eede0",
   "metadata": {
    "tags": []
   },
   "outputs": [],
   "source": [
    "sc.pl.umap(adatas_APAP_migrating, color=\"time\")"
   ]
  },
  {
   "cell_type": "code",
   "execution_count": null,
   "id": "76016432-448c-4b8b-b645-3d965be90bce",
   "metadata": {
    "tags": []
   },
   "outputs": [],
   "source": [
    "fig, axs = plt.subplots(5, 4, figsize=(8, 10))\n",
    "for n in range(20):\n",
    "    i,j = np.unravel_index(n, (5,4))\n",
    "    adatas_APAP_migrating.obs[f\"node{n}\"] = adatas_APAP_migrating.obsm[\"X_R\"][:, n]\n",
    "    sc.pl.umap(adatas_APAP_migrating, color=f\"node{n}\", cmap=\"Reds\", ax=axs[i,j], show=False)\n",
    "\n",
    "plt.tight_layout()\n",
    "plt.show()"
   ]
  },
  {
   "cell_type": "code",
   "execution_count": null,
   "id": "27efcd4f-934e-4864-8d07-2d66154f0629",
   "metadata": {
    "tags": []
   },
   "outputs": [],
   "source": [
    "adatas_APAP_migrating.obs_names_make_unique()"
   ]
  },
  {
   "cell_type": "code",
   "execution_count": null,
   "id": "c18012ce-920f-463f-84de-b176c3f2e00d",
   "metadata": {
    "tags": []
   },
   "outputs": [],
   "source": [
    "scf.tl.root(adatas_APAP_migrating, \"node0\")\n",
    "scf.tl.convert_to_soft(adatas_APAP_migrating, 1, 1000)\n",
    "scf.tl.pseudotime(adatas_APAP_migrating, n_jobs=20, n_map=100, seed=42)"
   ]
  },
  {
   "cell_type": "code",
   "execution_count": null,
   "id": "4590d3e8-8177-4ec1-a036-af1dc4237db7",
   "metadata": {
    "tags": []
   },
   "outputs": [],
   "source": [
    "scf.pl.trajectory(adatas_APAP_migrating, basis=\"umap\", arrows=True, arrow_offset=3)"
   ]
  },
  {
   "cell_type": "code",
   "execution_count": null,
   "id": "cc2fe704-a0f9-48f9-92b5-65b73b34f567",
   "metadata": {
    "tags": []
   },
   "outputs": [],
   "source": [
    "scf.tl.test_association(adatas_APAP_migrating, n_jobs=20)"
   ]
  },
  {
   "cell_type": "code",
   "execution_count": null,
   "id": "cf97f0ea-8e3f-4dfa-b540-dd1cf7171303",
   "metadata": {
    "tags": []
   },
   "outputs": [],
   "source": [
    "scf.tl.test_association(adatas_APAP_migrating, reapply_filters=True, A_cut=.6)\n",
    "scf.pl.test_association(adatas_APAP_migrating)\n",
    "plt.show()"
   ]
  },
  {
   "cell_type": "code",
   "execution_count": null,
   "id": "5b56ce2c-3cdf-43c5-9e07-0f235a363966",
   "metadata": {
    "tags": []
   },
   "outputs": [],
   "source": [
    "adatas_APAP_migrating_fit = adatas_APAP_migrating.copy()\n",
    "scf.tl.fit(adatas_APAP_migrating_fit, n_jobs=20)"
   ]
  },
  {
   "cell_type": "code",
   "execution_count": null,
   "id": "10e4873d-d014-412b-8b2a-ccdbeee8dc7d",
   "metadata": {
    "tags": []
   },
   "outputs": [],
   "source": [
    "scf.tl.cluster(adatas_APAP_migrating_fit, metric=\"correlation\", resolution=0.5)"
   ]
  },
  {
   "cell_type": "code",
   "execution_count": null,
   "id": "49c1c180-b892-4b55-bb76-6414169a76df",
   "metadata": {
    "tags": []
   },
   "outputs": [],
   "source": [
    "adatas_APAP_migrating_fit.obs[\"seg\"] = adatas_APAP_migrating_fit.obs[\"seg\"].astype(\"category\")"
   ]
  },
  {
   "cell_type": "code",
   "execution_count": null,
   "id": "a33b73cb-2989-41a6-ba80-2c6072be8780",
   "metadata": {
    "tags": []
   },
   "outputs": [],
   "source": [
    "for c in adatas_APAP_migrating_fit.var[\"cluters\"].unique():\n",
    "    \n",
    "    ind_genes_names = adatas_APAP_migrating_fit.var_names[adatas_APAP_migrating_fit.var.cluters==c]\n",
    "    ind_genes_pval = adatas_APAP_migrating_fit.var.loc[adatas_APAP_migrating_fit.var.cluters==c, \"p_val\"]\n",
    "    ind_genes_scores = adatas_APAP_migrating_fit.var.loc[adatas_APAP_migrating_fit.var.cluters==c, \"A\"]\n",
    "    df_pvalue = pd.DataFrame([ind_genes_names, ind_genes_pval, ind_genes_scores], index=[\"gene\", \"pvalue\", \"scores\"]).T\n",
    "    df_pvalue[df_pvalue[\"pvalue\"] < 0.05].to_csv(DATA_DIR + f\"rank_APAP_migrating_{c}.csv\")\n",
    "    print(f\"cluster {c}\")\n",
    "    scf.pl.trends(adatas_APAP_migrating_fit, \n",
    "                  features=adatas_APAP_migrating_fit.var_names[adatas_APAP_migrating_fit.var.cluters==c],\n",
    "                  basis=\"umap\")\n",
    "    plt.show()"
   ]
  },
  {
   "cell_type": "code",
   "execution_count": null,
   "id": "c49300e4-74dc-47e4-b1f6-bbb1b7e2020a",
   "metadata": {
    "tags": []
   },
   "outputs": [],
   "source": [
    "ind_genes_names = adatas_APAP_migrating_fit.var_names[adatas_APAP_migrating_fit.var.cluters.isin([\"0\", \"2\"])]\n",
    "ind_genes_pval = adatas_APAP_migrating_fit.var.loc[adatas_APAP_migrating_fit.var.cluters.isin([\"0\", \"2\"]), \"p_val\"]\n",
    "ind_genes_scores = adatas_APAP_migrating_fit.var.loc[adatas_APAP_migrating_fit.var.cluters.isin([\"0\", \"2\"]), \"A\"]\n",
    "df_pvalue = pd.DataFrame([ind_genes_names, ind_genes_pval, ind_genes_scores], index=[\"gene\", \"pvalue\", \"scores\"]).T\n",
    "df_pvalue[df_pvalue[\"pvalue\"] < 0.05].to_csv(DATA_DIR + f\"rank_APAP_migrating_late.csv\")\n",
    "  "
   ]
  },
  {
   "cell_type": "code",
   "execution_count": null,
   "id": "01ff6d19-5dd2-4d18-af0f-f9458fc67fd7",
   "metadata": {
    "tags": []
   },
   "outputs": [],
   "source": [
    "ind_genes_names = adatas_APAP_migrating_fit.var_names[adatas_APAP_migrating_fit.var.cluters.isin([\"1\"])]\n",
    "ind_genes_pval = adatas_APAP_migrating_fit.var.loc[adatas_APAP_migrating_fit.var.cluters.isin([\"1\"]), \"p_val\"]\n",
    "ind_genes_scores = adatas_APAP_migrating_fit.var.loc[adatas_APAP_migrating_fit.var.cluters.isin([\"1\"]), \"A\"]\n",
    "df_pvalue = pd.DataFrame([ind_genes_names, ind_genes_pval, ind_genes_scores], index=[\"gene\", \"pvalue\", \"scores\"]).T\n",
    "df_pvalue[df_pvalue[\"pvalue\"] < 0.05].to_csv(DATA_DIR + f\"rank_APAP_migrating_early.csv\")\n",
    "  "
   ]
  },
  {
   "cell_type": "code",
   "execution_count": null,
   "id": "8673c1a6-0ab6-4014-b793-578999d6c9c4",
   "metadata": {},
   "outputs": [],
   "source": [
    "ind_genes_names = adatas_APAP_migrating_fit.var_names\n",
    "ind_genes_pval = adatas_APAP_migrating_fit.var[\"p_val\"]\n",
    "ind_genes_scores = adatas_APAP_migrating_fit.var[\"A\"]\n",
    "df_pvalue = pd.DataFrame([ind_genes_names, ind_genes_pval, ind_genes_scores], index=[\"gene\", \"pvalue\", \"scores\"]).T\n",
    "df_pvalue[df_pvalue[\"pvalue\"] < 0.05].to_csv(DATA_DIR + \"rank_APAP_migrating.csv\")\n"
   ]
  },
  {
   "cell_type": "code",
   "execution_count": null,
   "id": "0a5235f0-4494-4a1a-a756-2cadb71c866c",
   "metadata": {
    "tags": []
   },
   "outputs": [],
   "source": [
    "adatas_APAP_migrating_fit.var[\"cluster\"] = \"late\"\n",
    "adatas_APAP_migrating_fit.var.loc[adatas_APAP_migrating_fit.var.cluters.isin([\"1\"]) ,\"cluster\"] = \"early\""
   ]
  },
  {
   "cell_type": "code",
   "execution_count": null,
   "id": "4a5d6b69-109e-4106-a7eb-09b312878e80",
   "metadata": {
    "tags": []
   },
   "outputs": [],
   "source": [
    "uns_migrating = adatas_APAP_migrating_fit.uns.copy()"
   ]
  },
  {
   "cell_type": "code",
   "execution_count": null,
   "id": "0942ef95-2e9e-4714-bfc8-fb3baaeaa1b1",
   "metadata": {
    "tags": []
   },
   "outputs": [],
   "source": [
    "del adatas_APAP_migrating_fit.uns\n",
    "adatas_APAP_migrating_fit.write(DATA_DIR + \"adatas_APAP_migrating.h5ad\")"
   ]
  },
  {
   "cell_type": "code",
   "execution_count": null,
   "id": "ec71f246-dddc-4f6c-b858-e661342cd0c5",
   "metadata": {
    "tags": []
   },
   "outputs": [],
   "source": [
    "adatas_APAP_migrating_fit.uns = uns_migrating"
   ]
  },
  {
   "cell_type": "code",
   "execution_count": null,
   "id": "db3ed243-fa4e-4e49-8239-8696fba12724",
   "metadata": {
    "tags": []
   },
   "outputs": [],
   "source": [
    "with open(DATA_DIR + \"uns_migrating.pkl\", \"wb\") as handle:\n",
    "    pkl.dump(uns_migrating, handle)"
   ]
  },
  {
   "cell_type": "code",
   "execution_count": null,
   "id": "a7d33f11-05e3-4fd0-8fd4-425f5aa84938",
   "metadata": {
    "tags": []
   },
   "outputs": [],
   "source": [
    "ord_thre = 0.7"
   ]
  },
  {
   "cell_type": "code",
   "execution_count": null,
   "id": "4ab82148-6e22-4263-ada3-62a579270aca",
   "metadata": {
    "tags": []
   },
   "outputs": [],
   "source": [
    "fitted = pd.DataFrame(\n",
    "    adatas_APAP_migrating_fit.layers[\"fitted\"], \n",
    "    index=adatas_APAP_migrating_fit.obs_names, \n",
    "    columns=adatas_APAP_migrating_fit.var_names\n",
    ").T.copy(deep=True)\n",
    "\n",
    "cell_order = adatas_APAP_migrating_fit.obs[\"t\"].sort_values().index\n",
    "cell_time = adatas_APAP_migrating_fit.obs[\"t\"].sort_values()\n",
    "\n",
    "clusters = adatas_APAP_migrating_fit.var[\"cluster\"]\n",
    "fitted = fitted.loc[:, cell_order]\n",
    "\n",
    "feature_order = []\n",
    "for clust in [\"early\", \"late\"]:\n",
    "    fitted_cur = fitted.loc[clusters.isin([clust]), :]\n",
    "    start_feature = (\n",
    "        fitted_cur.apply(\n",
    "                    lambda x: adatas_APAP_migrating_fit.obs.t[fitted_cur.columns][\n",
    "                        (x - x.min()) / (x.max() - x.min()) > ord_thre\n",
    "                    ].mean(),\n",
    "                    axis=1,\n",
    "                )\n",
    "                .sort_values()\n",
    "                .index[0]\n",
    "            )\n",
    "    feature_order.append(\n",
    "                fitted_cur.T.corr(method=\"pearson\")\n",
    "                .loc[start_feature, :]\n",
    "                .sort_values(ascending=False)\n",
    "                .index\n",
    "            )\n",
    "feature_order = feature_order[0].append(feature_order[1])\n",
    "fitted_sorted = fitted.loc[feature_order, :]\n",
    "clusters = clusters.loc[feature_order]\n",
    "\n",
    "# fitted_sorted = fitted_sorted.T\n",
    "# fitted_sorted[\"t\"] = cell_time\n",
    "# fitted_sorted = fitted_sorted.T"
   ]
  },
  {
   "cell_type": "code",
   "execution_count": null,
   "id": "f8ed4d0e-34c9-4564-b67c-4538d4237178",
   "metadata": {
    "tags": []
   },
   "outputs": [],
   "source": [
    "cell_order"
   ]
  },
  {
   "cell_type": "code",
   "execution_count": null,
   "id": "d4bdda44-44d7-4be2-b31d-5605dfefa666",
   "metadata": {
    "tags": []
   },
   "outputs": [],
   "source": [
    "cell_time"
   ]
  },
  {
   "cell_type": "code",
   "execution_count": null,
   "id": "60308677-88dc-42cd-b736-6eb3f5bf1987",
   "metadata": {
    "tags": []
   },
   "outputs": [],
   "source": [
    "labels = cell_time.unique()\n",
    "\n",
    "label_pal = sns.color_palette(\"viridis\", labels.size)[::-1]\n",
    "label_lut = dict(zip(map(str, labels), label_pal))\n",
    "col_colors = pd.Series(cell_time.values.astype(str), index=cell_time.index, name=\"\").map(label_lut)"
   ]
  },
  {
   "cell_type": "code",
   "execution_count": null,
   "id": "87c63ea0-47a2-4745-afdc-9a74c6bda0f2",
   "metadata": {
    "tags": []
   },
   "outputs": [],
   "source": [
    "labels = ['early', 'late']\n",
    "\n",
    "label_pal = [\"#f8e61f\", \"#460b5d\"]\n",
    "label_lut = dict(zip(map(str, labels), label_pal))\n",
    "row_colors = pd.Series(clusters.values, index=clusters.index, name=\"\").map(label_lut)"
   ]
  },
  {
   "cell_type": "code",
   "execution_count": null,
   "id": "e56a4a75-017d-4ad6-ac66-5252a6a48eb5",
   "metadata": {
    "tags": []
   },
   "outputs": [],
   "source": [
    "# fig, axs = plt.subplots(1, 1, figsize=(4, 6))\n",
    "\n",
    "pl = sns.clustermap(fitted_sorted, cmap=\"RdBu_r\", vmin=-1, vmax=1, \n",
    "                    col_cluster=False, \n",
    "                    row_cluster=False,\n",
    "                    col_colors=col_colors,\n",
    "                    row_colors=row_colors,\n",
    "                    figsize=(4,4),\n",
    "                    yticklabels=0,\n",
    "                    xticklabels=0,\n",
    "                   )\n",
    "\n",
    "cbar = pl.figure.axes[-1]\n",
    "cbar.set_yticks([])\n",
    "pl.figure.axes[3].set_yticks([])\n",
    "pl.figure.axes[3].set_xticks([])\n",
    "pl.figure.axes[-4].set_xticks([])\n",
    "\n",
    "\n",
    "plt.tight_layout()\n",
    "\n",
    "plt.savefig(FIG_DIR + \"pseudotime_migrating.png\",  dpi=300, transparent=True)\n",
    "plt.show()"
   ]
  },
  {
   "cell_type": "markdown",
   "id": "5dbd5b0e-3df8-4bd0-97dd-c66c8b6c63b8",
   "metadata": {
    "tags": []
   },
   "source": [
    "## `GO` analysis plot"
   ]
  },
  {
   "cell_type": "code",
   "execution_count": null,
   "id": "355124d1-1ea8-434b-bf4c-aa2d20fffe33",
   "metadata": {
    "tags": []
   },
   "outputs": [],
   "source": [
    "def extract_df_padj_enrich(fnames):\n",
    "    dfs = {}\n",
    "    pre_rank = {}\n",
    "    dfs_padj = {}\n",
    "    for key, file in fnames.items():\n",
    "        dfs_padj[key] = pd.read_csv(file)\n",
    "        dfs_padj[key][\"GeneRatio\"] = [ float(x.split(\"/\")[0]) / float(x.split(\"/\")[1]) for x in dfs_padj[key][\"GeneRatio\"]]\n",
    "        dfs_padj[key] = dfs_padj[key].sort_values(by=\"GeneRatio\", ascending=False)\n",
    "    dfs_padj = pd.concat(dfs_padj, join=\"inner\")\n",
    "    dfs_padj = dfs_padj.reset_index(level=[0, 1])\n",
    "    dfs_padj = dfs_padj.rename(columns={\"level_0\": \"cluster group\"})\n",
    "    dfs_padj[\"cluster\"] = [(x.split(\"clust\")[1]) for x in dfs_padj[\"cluster group\"]]\n",
    "    dfs_padj[\"Description\"] = [\" \".join(x.split(\" \")[:3] + [\"\\n\"] + x.split(\" \")[3:]) if len(x.split(\" \")) > 3 else x for x in dfs_padj[\"Description\"] ]\n",
    "    \n",
    "    return dfs_padj"
   ]
  },
  {
   "cell_type": "code",
   "execution_count": null,
   "id": "cba54be5-aaf4-4e52-b006-4ddb3b807d2b",
   "metadata": {
    "tags": []
   },
   "outputs": [],
   "source": [
    "fnames = [filename for filename in os.listdir(DATA_DIR) if f\"migrating_clust\" in filename]\n",
    "fnames = {filename.split(\"_\")[2] : DATA_DIR + filename for filename in fnames}\n",
    "\n",
    "dfs_padj = extract_df_padj_enrich(fnames)"
   ]
  },
  {
   "cell_type": "code",
   "execution_count": null,
   "id": "4bb8311f-e1b0-45ba-85d8-5a40125e048a",
   "metadata": {
    "tags": []
   },
   "outputs": [],
   "source": [
    "pal = [\"#f8e61f\", \"#460b5d\"]\n",
    "sns.color_palette(pal)"
   ]
  },
  {
   "cell_type": "code",
   "execution_count": null,
   "id": "05ad3483-2b83-44a2-8c72-aae92a989b63",
   "metadata": {
    "tags": []
   },
   "outputs": [],
   "source": [
    "for k, clust in enumerate([\"early\", \"late\"]):\n",
    "    fig, axs = plt.subplots(1, 1, figsize=(6, 6))\n",
    "    sns.stripplot(\n",
    "            x=\"GeneRatio\",\n",
    "            y=\"Description\", \n",
    "            hue=\"cluster\",\n",
    "            data=dfs_padj[dfs_padj[\"cluster\"].isin([clust])][:15], \n",
    "            orient=\"h\",\n",
    "            ax=axs, \n",
    "            palette=[pal[k]]\n",
    "    )\n",
    "    axs.legend(ncol=1, frameon=True, fontsize=16, loc=\"upper left\").remove()\n",
    "    axs.set_xlabel(\"GeneRatio\", fontsize=16)\n",
    "    \n",
    "    plt.tight_layout()\n",
    "    plt.savefig(FIG_DIR + f\"go_enrich_clusters_{clust}.png\",  dpi=300, bbox_inches=\"tight\", transparent=True)\n",
    "\n",
    "    plt.show()"
   ]
  },
  {
   "cell_type": "code",
   "execution_count": null,
   "id": "ff337e3d-7ec1-41d2-97ab-7933507b9cb1",
   "metadata": {},
   "outputs": [],
   "source": []
  }
 ],
 "metadata": {
  "kernelspec": {
   "display_name": "venvzp",
   "language": "python",
   "name": "venvzp"
  },
  "language_info": {
   "codemirror_mode": {
    "name": "ipython",
    "version": 3
   },
   "file_extension": ".py",
   "mimetype": "text/x-python",
   "name": "python",
   "nbconvert_exporter": "python",
   "pygments_lexer": "ipython3",
   "version": "3.9.2"
  }
 },
 "nbformat": 4,
 "nbformat_minor": 5
}
