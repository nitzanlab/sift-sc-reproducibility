{
 "cells": [
  {
   "cell_type": "markdown",
   "id": "mineral-western",
   "metadata": {},
   "source": [
    "# Run methods and plot `runtime` results\n",
    "\n",
    "- Subsample the Heart cell atlas data [[1]](https://www.heartcellatlas.org) at various intervals, add additional continuous covariates, and select the top 4000 genes.\n",
    "- Run the benchmark methods:\n",
    "    - SiFT\n",
    "    - regress_out\n",
    "    - scVI \n",
    "- asses runtime results\n",
    "\n",
    "[[1] Litviňuková, M., Talavera-López, C., Maatz, H., Reichart, D., Worth, C. L., Lindberg, E. L., ... & Teichmann, S. A. (2020). Cells of the adult human heart. Nature, 588(7838), 466-472.](https://www.heartcellatlas.org)"
   ]
  },
  {
   "cell_type": "markdown",
   "id": "angry-vatican",
   "metadata": {},
   "source": [
    "## Import packages"
   ]
  },
  {
   "cell_type": "code",
   "execution_count": 1,
   "id": "b52769d1-d5e6-49c1-b362-40c434109519",
   "metadata": {},
   "outputs": [],
   "source": [
    "%load_ext autoreload\n",
    "%autoreload 2"
   ]
  },
  {
   "cell_type": "code",
   "execution_count": 2,
   "id": "8779a9a7-965b-41aa-85a7-5806991c789c",
   "metadata": {},
   "outputs": [],
   "source": [
    "import sys\n",
    "import os\n",
    "\n",
    "import anndata\n",
    "import numpy as np\n",
    "import pandas as pd\n",
    "import time\n",
    "import scanpy as sc\n",
    "import matplotlib.pyplot as plt\n",
    "import matplotlib.ticker as mticker\n"
   ]
  },
  {
   "cell_type": "code",
   "execution_count": 3,
   "id": "4d21193f-fc53-47f4-bf8a-79c31d827254",
   "metadata": {},
   "outputs": [],
   "source": [
    "sys.path.append(\"../../\")\n",
    "from paths import DATA_DIR, FIG_DIR"
   ]
  },
  {
   "cell_type": "markdown",
   "id": "bca33fea-b71a-44dd-b571-5e7be86a2a2c",
   "metadata": {},
   "source": [
    "## Set parameters"
   ]
  },
  {
   "cell_type": "code",
   "execution_count": 16,
   "id": "c42667ea-76cf-4a14-b227-cb04e1ffdb3b",
   "metadata": {},
   "outputs": [],
   "source": [
    "DATA_DIR = str(DATA_DIR) + \"/runtime_hca/\"\n",
    "OUTPUT_DIR = str(DATA_DIR) + \"/runtime_hca/output/\"\n",
    "FIG_DIR = str(FIG_DIR) + \"/runtime_hca/\""
   ]
  },
  {
   "cell_type": "code",
   "execution_count": 5,
   "id": "e5af6e05-35f2-4269-b445-45b56c2e6d5e",
   "metadata": {},
   "outputs": [],
   "source": [
    "import seaborn as sns\n",
    "fontsize = 25\n",
    "size = 4\n",
    "plt.rcParams[\"svg.fonttype\"] = \"none\"\n",
    "plt.rcParams[\"pdf.fonttype\"] = 42\n",
    "plt.rcParams[\"savefig.transparent\"] = True\n",
    "plt.rcParams[\"figure.figsize\"] = (size, size)\n",
    "\n",
    "plt.rcParams[\"axes.titlesize\"] = 15\n",
    "plt.rcParams[\"axes.titleweight\"] = 500\n",
    "plt.rcParams[\"axes.titlepad\"] = 8.0\n",
    "plt.rcParams[\"axes.labelsize\"] = fontsize\n",
    "plt.rcParams[\"axes.labelweight\"] = 500\n",
    "plt.rcParams[\"axes.linewidth\"] = 1.2\n",
    "plt.rcParams[\"axes.labelpad\"] = 6.0\n",
    "plt.rcParams[\"axes.spines.top\"] = False\n",
    "plt.rcParams[\"axes.spines.right\"] = False\n",
    "\n",
    "plt.rcParams[\"font.size\"] = fontsize\n",
    "# plt.rcParams['font.family'] = 'sans-serif'\n",
    "plt.rcParams['font.sans-serif'] = ['Helvetica', \"Computer Modern Sans Serif\", \"DejaVU Sans\"]\n",
    "plt.rcParams['font.weight'] = 500\n",
    "\n",
    "plt.rcParams['xtick.labelsize'] = fontsize-4\n",
    "plt.rcParams['xtick.minor.size'] = 1.375\n",
    "plt.rcParams['xtick.major.size'] = 2.75\n",
    "plt.rcParams['xtick.major.pad'] = 2\n",
    "plt.rcParams['xtick.minor.pad'] = 2\n",
    "\n",
    "plt.rcParams['ytick.labelsize'] = fontsize-4\n",
    "plt.rcParams['ytick.minor.size'] = 1.375\n",
    "plt.rcParams['ytick.major.size'] = 2.75\n",
    "plt.rcParams['ytick.major.pad'] = 2\n",
    "plt.rcParams['ytick.minor.pad'] = 2\n",
    "\n",
    "plt.rcParams[\"legend.fontsize\"] = fontsize\n",
    "plt.rcParams['legend.handlelength'] = 1.4\n",
    "plt.rcParams['legend.numpoints'] = 1\n",
    "plt.rcParams['legend.scatterpoints'] = 1\n",
    "plt.rcParams['legend.frameon'] = False\n",
    "\n",
    "plt.rcParams['lines.linewidth'] = 1.7\n",
    "\n",
    "DPI = 300"
   ]
  },
  {
   "cell_type": "code",
   "execution_count": 6,
   "id": "b06878fb-727a-45d5-b120-449a143cd574",
   "metadata": {},
   "outputs": [],
   "source": [
    "method_colors = {\n",
    "    \"SiFT\": \"#5C88DAFF\", \n",
    "    \"regress_out\": \"#84BD00FF\", \n",
    "    \"scVI\":\"#FFCD00FF\", \n",
    "}\n",
    "\n",
    "method_hatches = {\n",
    "    \"SiFT\": \"\\\\\", \n",
    "    \"regress_out\": \"\",  \n",
    "    \"scVI\":\"\", \n",
    "}"
   ]
  },
  {
   "cell_type": "code",
   "execution_count": 7,
   "id": "e0b82a34-9101-4fae-a2b4-6fdd2939967a",
   "metadata": {},
   "outputs": [],
   "source": [
    "cont_nuisance_cov = [\"percent_mito\", \"percent_ribo\"]\n",
    "bbknn_covs = [\"cell_source\", \"donor\"]"
   ]
  },
  {
   "cell_type": "markdown",
   "id": "44917f0c-278b-4c2a-b34d-38ef5eecb81a",
   "metadata": {
    "jp-MarkdownHeadingCollapsed": true,
    "tags": []
   },
   "source": [
    "## Load data"
   ]
  },
  {
   "cell_type": "code",
   "execution_count": null,
   "id": "969a4ee2-26b2-49d8-9d15-14533c635957",
   "metadata": {},
   "outputs": [],
   "source": [
    "# data downloaded from: https://www.heartcellatlas.org/\n",
    "adata = sc.read(DATA_DIR / 'global_raw.h5ad')"
   ]
  },
  {
   "cell_type": "code",
   "execution_count": null,
   "id": "182c5339-e8dd-434b-b184-0b66ae2e5a75",
   "metadata": {},
   "outputs": [],
   "source": [
    "adata.layers['counts'] = adata.X.copy() # move count data into a layer\n",
    "sc.pp.normalize_total(adata, target_sum=1e4)\n",
    "sc.pp.log1p(adata) # log the data for better umap visualization later\n",
    "adata.raw = adata"
   ]
  },
  {
   "cell_type": "markdown",
   "id": "073f04de-19af-48c0-8bf9-771f6de76e3a",
   "metadata": {
    "jp-MarkdownHeadingCollapsed": true,
    "tags": []
   },
   "source": [
    "## Make random nuisance covariates"
   ]
  },
  {
   "cell_type": "code",
   "execution_count": null,
   "id": "1f420d90-80ee-4f7f-8d53-afe3d56dd3db",
   "metadata": {},
   "outputs": [],
   "source": [
    "# make 8 random nuisance covariates\n",
    "for i in range(8):\n",
    "    key = 'rand_noise_{}'.format(i)\n",
    "    adata.obs[key] = np.random.normal(size = adata.n_obs)\n",
    "    cont_nuisance_cov+=[key]"
   ]
  },
  {
   "cell_type": "code",
   "execution_count": null,
   "id": "90169945-4c67-4889-a8e1-d864bd58063d",
   "metadata": {},
   "outputs": [],
   "source": [
    "adata.write(DATA_DIR + 'hca_processed.h5ad')"
   ]
  },
  {
   "cell_type": "markdown",
   "id": "2d0e4932-013f-4e53-bdb3-0e307c7f4906",
   "metadata": {
    "tags": []
   },
   "source": [
    "## Sub-sample the data"
   ]
  },
  {
   "cell_type": "code",
   "execution_count": null,
   "id": "58ec6b59-9f47-4354-85e2-ed4ded2db4c4",
   "metadata": {},
   "outputs": [],
   "source": [
    "adata = sc.read(DATA_DIR + 'hca_processed.h5ad')"
   ]
  },
  {
   "cell_type": "code",
   "execution_count": null,
   "id": "31f007c8-8248-407e-9964-b5b5737c3b74",
   "metadata": {},
   "outputs": [],
   "source": [
    "n_obs = [5000, 10000, 20000, 40000, 80000,160000,320000,486134]\n",
    "n_covs = [10]\n",
    "n_vars = [4000]\n",
    "\n",
    "#for backend mode\n",
    "adata.strings_to_categoricals()\n",
    "del adata.raw\n",
    "\n",
    "for n_cov in n_covs:\n",
    "    for n_ob in n_obs:\n",
    "        for n_var in n_vars:\n",
    "            print(f\"starting {n_cov}, {n_ob}, {n_var}\")\n",
    "            idx = np.random.choice(adata.n_obs,n_ob,replace=False)\n",
    "            tmp_adata = adata[idx].copy()\n",
    "            if 'batch' in tmp_adata.obs.keys():\n",
    "                del tmp_adata.obs['batch']\n",
    "            tmp_adata.obs['batch'] = ''\n",
    "            for cov in bbknn_covs:\n",
    "                tmp_adata.obs['batch'] = tmp_adata.obs['batch'].astype(str) + tmp_adata.obs[cov].astype(str)\n",
    "            \n",
    "            # if one of the batches is less than 3, bbknn will fail\n",
    "            while np.min(np.unique(tmp_adata.obs['batch'], return_counts=True)[1]) < 3:\n",
    "                idx = np.random.choice(adata.n_obs,n_ob,replace=False)\n",
    "                tmp_adata = adata[idx].copy()\n",
    "                if 'batch' in tmp_adata.obs.keys():\n",
    "                    del tmp_adata.obs['batch']\n",
    "                tmp_adata.obs['batch'] = ''\n",
    "                for cov in bbknn_covs:\n",
    "                    tmp_adata.obs['batch'] = tmp_adata.obs['batch'].astype(str) + tmp_adata.obs[cov].astype(str)\n",
    "            \n",
    "            sc.pp.highly_variable_genes(tmp_adata,\n",
    "                                        n_top_genes=n_var,\n",
    "                                        subset=True,\n",
    "                                        inplace=True,\n",
    "                                        flavor=\"seurat_v3\",\n",
    "                                        layer='counts',\n",
    "                                        batch_key=\"cell_source\",\n",
    "                                        )\n",
    "\n",
    "            message = '{}, {}, {}, '.format(n_var, n_cov, tmp_adata.n_obs)\n",
    "            \n",
    "            print(message, tmp_adata.n_vars)\n",
    "            scvi.model.SCVI.setup_anndata(\n",
    "                tmp_adata,\n",
    "                categorical_covariate_keys=bbknn_covs,\n",
    "                layer=\"counts\",\n",
    "                continuous_covariate_keys=cont_nuisance_cov                \n",
    "            )\n",
    "            \n",
    "            adata_fn = DATA_DIR + f'{n_cov}_{n_ob}_{n_var}.h5ad'\n",
    "\n",
    "            tmp_adata.write(adata_fn)\n",
    "            "
   ]
  },
  {
   "cell_type": "markdown",
   "id": "d8d964e6-dadc-4bbd-bb76-bc7fa8392873",
   "metadata": {
    "tags": []
   },
   "source": [
    "## Comannds used to run each method"
   ]
  },
  {
   "cell_type": "markdown",
   "id": "91e4406e-871e-4d6e-b2cc-d5e161ac99f6",
   "metadata": {},
   "source": [
    "```bash\n",
    "mprof run python run_methods.py --adata 10_5000_4000.h5ad --method sift-knn \n",
    "mprof run python run_methods.py --adata 10_10000_4000.h5ad --method sift-knn\n",
    "mprof run python run_methods.py --adata 10_20000_4000.h5ad --method sift-knn\n",
    "mprof run python run_methods.py --adata 10_40000_4000.h5ad --method sift-knn\n",
    "mprof run python run_methods.py --adata 10_80000_4000.h5ad --method sift-knn\n",
    "mprof run python run_methods.py --adata 10_160000_4000.h5ad --method sift-knn\n",
    "mprof run python run_methods.py --adata 10_320000_4000.h5ad --method sift-knn\n",
    "mprof run python run_methods.py --adata 10_486134_4000.h5ad --method sift-knn\n",
    "\n",
    "mprof run python run_methods.py --adata 10_5000_4000.h5ad --method sift-rbf\n",
    "mprof run python run_methods.py --adata 10_10000_4000.h5ad --method sift-rbf\n",
    "mprof run python run_methods.py --adata 10_20000_4000.h5ad --method sift-rbf\n",
    "mprof run python run_methods.py --adata 10_40000_4000.h5ad --method sift-rbf\n",
    "mprof run python run_methods.py --adata 10_80000_4000.h5ad --method sift-rbf\n",
    "mprof run python run_methods.py --adata 10_160000_4000.h5ad --method sift-rbf\n",
    "mprof run python run_methods.py --adata 10_320000_4000.h5ad --method sift-rbf\n",
    "mprof run python run_methods.py --adata 10_486134_4000.h5ad --method sift-rbf\n",
    "\n",
    "mprof run python run_methods.py --adata 10_5000_4000.h5ad --method scvi\n",
    "mprof run python run_methods.py --adata 10_10000_4000.h5ad --method scvi\n",
    "mprof run python run_methods.py --adata 10_20000_4000.h5ad --method scvi\n",
    "mprof run python run_methods.py --adata 10_40000_4000.h5ad --method scvi\n",
    "mprof run python run_methods.py --adata 10_80000_4000.h5ad --method scvi\n",
    "mprof run python run_methods.py --adata 10_160000_4000.h5ad --method scvi\n",
    "mprof run python run_methods.py --adata 10_320000_4000.h5ad --method scvi\n",
    "mprof run python run_methods.py --adata 10_486134_4000.h5ad --method scvi\n",
    "\n",
    "mprof run python run_methods.py --adata 10_5000_4000.h5ad --method regress\n",
    "mprof run python run_methods.py --adata 10_10000_4000.h5ad --method regress\n",
    "mprof run python run_methods.py --adata 10_20000_4000.h5ad --method regress\n",
    "mprof run python run_methods.py --adata 10_40000_4000.h5ad --method regress\n",
    "mprof run python run_methods.py --adata 10_80000_4000.h5ad --method regress\n",
    "mprof run python run_methods.py --adata 10_160000_4000.h5ad --method regress\n",
    "mprof run python run_methods.py --adata 10_320000_4000.h5ad --method regress\n",
    "mprof run python run_methods.py --adata 10_486134_4000.h5ad --method regress\n",
    "```"
   ]
  },
  {
   "cell_type": "markdown",
   "id": "4b0cf135-a2bd-4aab-86e0-847f438aecde",
   "metadata": {},
   "source": [
    "## Import results"
   ]
  },
  {
   "cell_type": "code",
   "execution_count": 17,
   "id": "45f110ad-6b80-4a10-b2e8-a9d5c0334018",
   "metadata": {},
   "outputs": [],
   "source": [
    "DATA_DIR = \"/cs/labs/mornitzan/zoe.piran/research/projects/SiFT_analysis/runtime_hca/dat_files/\"\n",
    "OUTPUT_DIR = \"/cs/labs/mornitzan/zoe.piran/research/projects/SiFT_analysis/runtime_hca/output/\""
   ]
  },
  {
   "cell_type": "code",
   "execution_count": 10,
   "id": "educational-neighbor",
   "metadata": {},
   "outputs": [],
   "source": [
    "def get_dat_files(DAT_DIR):\n",
    "    fns = os.listdir(DAT_DIR)\n",
    "    return [os.path.join(DAT_DIR,f) for f in fns if f.endswith('.dat')]"
   ]
  },
  {
   "cell_type": "code",
   "execution_count": 18,
   "id": "elementary-junction",
   "metadata": {},
   "outputs": [],
   "source": [
    "files = get_dat_files(DATA_DIR)"
   ]
  },
  {
   "cell_type": "code",
   "execution_count": 20,
   "id": "ordered-austria",
   "metadata": {},
   "outputs": [],
   "source": [
    "full = pd.DataFrame(columns=[\"n_var\", \"n_cov\", \"n_obs\", \"runtime\", \"mem_mb\", \"method\"])\n",
    "\n",
    "for i,fn in enumerate(files):\n",
    "    with open(fn) as f:\n",
    "        # print(fn)\n",
    "        command = f.readline()\n",
    "        # print(command)\n",
    "        tmp = command.split(' ')\n",
    "        command = tmp[-3]\n",
    "        method = tmp[-1].strip()\n",
    "        method_str = method\n",
    "        if \"sift\" in method:\n",
    "            method_str = method_str.split('-')\n",
    "            method_str = method_str[0] + \"_\" + method_str[1]\n",
    "        meta = command.split('_')\n",
    "        \n",
    "        n_cov, n_obs, n_vars = meta[0], meta[1], meta[2]\n",
    "        n_cov = int(n_cov)\n",
    "        n_obs = int(n_obs)\n",
    "        n_vars = int(n_vars.strip()[:-5])\n",
    "        time_fn = f\"{n_obs}_{n_vars}_time_{method_str}.npy\"\n",
    "        time_fn = os.path.join(OUTPUT_DIR, time_fn)\n",
    "        \n",
    "        memory = []\n",
    "        for line in f:\n",
    "            res = line.split(\" \")\n",
    "            if len(res) < 2:\n",
    "                print(res)\n",
    "            else:\n",
    "                memory.append(line.split(\" \")[1])\n",
    "        \n",
    "        n_sec = float(np.load(time_fn))\n",
    "        max_mem = np.max(np.array(memory).astype('float32'))\n",
    "        full.loc[i] = [n_vars, n_cov, n_obs, n_sec, max_mem, method]\n",
    "        "
   ]
  },
  {
   "cell_type": "code",
   "execution_count": 21,
   "id": "7f33ab3f-080c-4ea4-81cb-d0b8f7a768e6",
   "metadata": {},
   "outputs": [],
   "source": [
    "full_lim  = full[full[\"method\"].isin([\"sift-rbf\", \"scvi\", \"regress\"])].copy()"
   ]
  },
  {
   "cell_type": "code",
   "execution_count": 22,
   "id": "frank-architect",
   "metadata": {},
   "outputs": [],
   "source": [
    "full_lim.loc[full_lim[\"method\"]==\"sift-rbf\", \"method\"] = \"SiFT\"\n",
    "full_lim.loc[full_lim[\"method\"]==\"scvi\", \"method\"] = \"scVI\"\n",
    "full_lim.loc[full_lim[\"method\"]==\"regress\", \"method\"] = \"regress_out\"\n"
   ]
  },
  {
   "cell_type": "code",
   "execution_count": 26,
   "id": "desirable-numbers",
   "metadata": {},
   "outputs": [
    {
     "data": {
      "image/png": "[encoded data removed]",
      "text/plain": [
       "<Figure size 432x288 with 1 Axes>"
      ]
     },
     "metadata": {
      "needs_background": "light"
     },
     "output_type": "display_data"
    }
   ],
   "source": [
    "size = 4\n",
    "fig, ax = plt.subplots(figsize=(size+2, size))\n",
    "\n",
    "group = np.unique(full_lim['method'])\n",
    "\n",
    "\n",
    "for g in np.unique(group):\n",
    "    tmp = full_lim[full_lim['method']==g]\n",
    "    ax.scatter(tmp['n_obs'], \n",
    "               tmp['runtime'], \n",
    "               label=g, \n",
    "               hatch=3*method_hatches[g],\n",
    "               facecolor=method_colors[g],\n",
    "               color=\"white\",\n",
    "               s=160,\n",
    "              )\n",
    "\n",
    "f = mticker.ScalarFormatter(useMathText=True, useOffset=True)\n",
    "h = lambda x,pos : \"${}$\".format(f.format_data(x)) if x > 0 else \"$0$\"\n",
    "fmt = mticker.FuncFormatter(h)\n",
    "\n",
    "ax.set_xlabel('cells',fontsize=28)\n",
    "ax.set_ylabel('runtime (sec)',fontsize=28)\n",
    "ax.set_yscale('log')\n",
    "\n",
    "ticks_loc = ax.get_xticks().tolist()\n",
    "ax.set_xticks(ax.get_xticks().tolist()[1:-1])\n",
    "ax.set_xticklabels([fmt(x) for x in ticks_loc[1:-1]], rotation=0,)\n",
    "# ax.xaxis.set_major_formatter(f)\n",
    "\n",
    "\n",
    "\n",
    "# ax.set_title('runtime with 4000 genes')\n",
    "ax.legend(loc='center left', bbox_to_anchor=(1.1, 0.5), )\n",
    "plt.show()\n",
    "# fig.savefig(FIG_DIR + f\"4000_genes_runtime.png\", bbox_inches=\"tight\", dpi=DPI)"
   ]
  },
  {
   "cell_type": "code",
   "execution_count": null,
   "id": "8df251ca-60cd-4770-aba2-0d13edb05bf6",
   "metadata": {},
   "outputs": [],
   "source": []
  }
 ],
 "metadata": {
  "kernelspec": {
   "display_name": "venvsc",
   "language": "python",
   "name": "venvsc"
  },
  "language_info": {
   "codemirror_mode": {
    "name": "ipython",
    "version": 3
   },
   "file_extension": ".py",
   "mimetype": "text/x-python",
   "name": "python",
   "nbconvert_exporter": "python",
   "pygments_lexer": "ipython3",
   "version": "3.9.7"
  }
 },
 "nbformat": 4,
 "nbformat_minor": 5
}
